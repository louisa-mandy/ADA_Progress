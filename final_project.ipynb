{
 "cells": [
  {
   "cell_type": "markdown",
   "metadata": {},
   "source": [
    "#Greedy Algorithm\n"
   ]
  },
  {
   "cell_type": "code",
   "execution_count": null,
   "metadata": {},
   "outputs": [
    {
     "data": {
      "application/vnd.plotly.v1+json": {
       "config": {
        "plotlyServerURL": "https://plot.ly"
       },
       "data": [
        {
         "alignmentgroup": "True",
         "base": [
          "2025-01-09T04:00:05.976326",
          "2025-01-09T04:07:05.976326",
          "2025-01-09T05:13:05.976326"
         ],
         "hovertemplate": "Menu Item=Bagels<br>Start=%{base}<br>Finish=%{x}<br>Machine Index=%{y}<extra></extra>",
         "legendgroup": "Bagels",
         "marker": {
          "color": "#EF553B",
          "line": {
           "width": 0
          },
          "pattern": {
           "shape": ""
          }
         },
         "name": "Bagels",
         "offsetgroup": "Bagels",
         "orientation": "h",
         "showlegend": true,
         "textposition": "auto",
         "type": "bar",
         "x": [
          420000,
          2700000,
          900000
         ],
         "xaxis": "x",
         "y": [
          "Mixer 1",
          "Proofer 1",
          "Oven 2"
         ],
         "yaxis": "y"
        },
        {
         "alignmentgroup": "True",
         "base": [
          "2025-01-09T04:07:05.976326",
          "2025-01-09T04:34:05.976326",
          "2025-01-09T04:54:05.976326",
          "2025-01-09T04:52:05.976326",
          "2025-01-09T04:57:05.976326",
          "2025-01-09T04:52:05.976326",
          "2025-01-09T05:42:05.976326",
          "2025-01-09T04:46:05.976326",
          "2025-01-09T05:28:05.976326",
          "2025-01-09T05:26:05.976326",
          "2025-01-09T06:06:05.976326",
          "2025-01-09T07:21:05.976326",
          "2025-01-09T04:15:05.976326",
          "2025-01-09T04:10:05.976326",
          "2025-01-09T04:33:05.976326",
          "2025-01-09T04:55:05.976326",
          "2025-01-09T05:10:05.976326",
          "2025-01-09T05:17:05.976326",
          "2025-01-09T05:50:05.976326",
          "2025-01-09T06:37:05.976326",
          "2025-01-09T06:43:05.976326",
          "2025-01-09T06:43:05.976326",
          "2025-01-09T08:01:05.976326",
          "2025-01-09T08:21:05.976326",
          "2025-01-09T04:08:05.976326",
          "2025-01-09T04:37:05.976326",
          "2025-01-09T04:28:05.976326",
          "2025-01-09T05:27:05.976326",
          "2025-01-09T04:28:05.976326",
          "2025-01-09T04:43:05.976326",
          "2025-01-09T05:58:05.976326",
          "2025-01-09T07:53:05.976326",
          "2025-01-09T05:19:05.976326",
          "2025-01-09T07:06:05.976326"
         ],
         "hovertemplate": "Menu Item=Downtime<br>Start=%{base}<br>Finish=%{x}<br>Machine Index=%{y}<extra></extra>",
         "legendgroup": "Downtime",
         "marker": {
          "color": "grey",
          "line": {
           "width": 0
          },
          "pattern": {
           "shape": ""
          }
         },
         "name": "Downtime",
         "offsetgroup": "Downtime",
         "orientation": "h",
         "showlegend": true,
         "textposition": "auto",
         "type": "bar",
         "x": [
          900000,
          900000,
          900000,
          900000,
          900000,
          600000,
          600000,
          1800000,
          1800000,
          1800000,
          1800000,
          1800000,
          900000,
          900000,
          900000,
          900000,
          600000,
          600000,
          600000,
          600000,
          1800000,
          1800000,
          1800000,
          1800000,
          900000,
          900000,
          900000,
          900000,
          1800000,
          1800000,
          1800000,
          1800000,
          900000,
          1800000
         ],
         "xaxis": "x",
         "y": [
          "Mixer 1",
          "Mixer 2",
          "Mixer 3",
          "Mixer 2",
          "Mixer 1",
          "Proofer 1",
          "Proofer 1",
          "Oven 3",
          "Oven 2",
          "Oven 3",
          "Oven 3",
          "Oven 2",
          "Mixer 2",
          "Mixer 3",
          "Mixer 3",
          "Mixer 4",
          "Proofer 2",
          "Proofer 1",
          "Proofer 2",
          "Proofer 1",
          "Oven 2",
          "Oven 1",
          "Oven 3",
          "Oven 2",
          "Mixer 4",
          "Mixer 1",
          "Mixer 4",
          "Mixer 2",
          "Oven 1",
          "Oven 2",
          "Oven 1",
          "Oven 1",
          "Mixer 3",
          "Oven 3"
         ],
         "yaxis": "y"
        },
        {
         "alignmentgroup": "True",
         "base": [
          "2025-01-09T04:30:05.976326",
          "2025-01-09T04:34:05.976326"
         ],
         "hovertemplate": "Menu Item=Cupcakes<br>Start=%{base}<br>Finish=%{x}<br>Machine Index=%{y}<extra></extra>",
         "legendgroup": "Cupcakes",
         "marker": {
          "color": "#00cc96",
          "line": {
           "width": 0
          },
          "pattern": {
           "shape": ""
          }
         },
         "name": "Cupcakes",
         "offsetgroup": "Cupcakes",
         "orientation": "h",
         "showlegend": true,
         "textposition": "auto",
         "type": "bar",
         "x": [
          240000,
          720000
         ],
         "xaxis": "x",
         "y": [
          "Mixer 2",
          "Oven 3"
         ],
         "yaxis": "y"
        },
        {
         "alignmentgroup": "True",
         "base": [
          "2025-01-09T04:48:05.976326",
          "2025-01-09T05:27:05.976326",
          "2025-01-09T07:13:05.976326"
         ],
         "hovertemplate": "Menu Item=Donuts<br>Start=%{base}<br>Finish=%{x}<br>Machine Index=%{y}<extra></extra>",
         "legendgroup": "Donuts",
         "marker": {
          "color": "#ab63fa",
          "line": {
           "width": 0
          },
          "pattern": {
           "shape": ""
          }
         },
         "name": "Donuts",
         "offsetgroup": "Donuts",
         "orientation": "h",
         "showlegend": true,
         "textposition": "auto",
         "type": "bar",
         "x": [
          360000,
          900000,
          480000
         ],
         "xaxis": "x",
         "y": [
          "Mixer 3",
          "Proofer 1",
          "Oven 2"
         ],
         "yaxis": "y"
        },
        {
         "alignmentgroup": "True",
         "base": [
          "2025-01-09T04:49:05.976326",
          "2025-01-09T05:16:05.976326"
         ],
         "hovertemplate": "Menu Item=Macarons<br>Start=%{base}<br>Finish=%{x}<br>Machine Index=%{y}<extra></extra>",
         "legendgroup": "Macarons",
         "marker": {
          "color": "#FFA15A",
          "line": {
           "width": 0
          },
          "pattern": {
           "shape": ""
          }
         },
         "name": "Macarons",
         "offsetgroup": "Macarons",
         "orientation": "h",
         "showlegend": true,
         "textposition": "auto",
         "type": "bar",
         "x": [
          180000,
          600000
         ],
         "xaxis": "x",
         "y": [
          "Mixer 2",
          "Oven 3"
         ],
         "yaxis": "y"
        },
        {
         "alignmentgroup": "True",
         "base": [
          "2025-01-09T04:52:05.976326",
          "2025-01-09T05:56:05.976326"
         ],
         "hovertemplate": "Menu Item=Muffins<br>Start=%{base}<br>Finish=%{x}<br>Machine Index=%{y}<extra></extra>",
         "legendgroup": "Muffins",
         "marker": {
          "color": "#19d3f3",
          "line": {
           "width": 0
          },
          "pattern": {
           "shape": ""
          }
         },
         "name": "Muffins",
         "offsetgroup": "Muffins",
         "orientation": "h",
         "showlegend": true,
         "textposition": "auto",
         "type": "bar",
         "x": [
          300000,
          600000
         ],
         "xaxis": "x",
         "y": [
          "Mixer 1",
          "Oven 3"
         ],
         "yaxis": "y"
        },
        {
         "alignmentgroup": "True",
         "base": [
          "2025-01-09T04:00:05.976326",
          "2025-01-09T05:02:05.976326",
          "2025-01-09T06:28:05.976326"
         ],
         "hovertemplate": "Menu Item=Baguette<br>Start=%{base}<br>Finish=%{x}<br>Machine Index=%{y}<extra></extra>",
         "legendgroup": "Baguette",
         "marker": {
          "color": "#FF6692",
          "line": {
           "width": 0
          },
          "pattern": {
           "shape": ""
          }
         },
         "name": "Baguette",
         "offsetgroup": "Baguette",
         "orientation": "h",
         "showlegend": true,
         "textposition": "auto",
         "type": "bar",
         "x": [
          900000,
          900000,
          900000
         ],
         "xaxis": "x",
         "y": [
          "Mixer 2",
          "Proofer 1",
          "Oven 1"
         ],
         "yaxis": "y"
        },
        {
         "alignmentgroup": "True",
         "base": [
          "2025-01-09T04:00:05.976326",
          "2025-01-09T04:10:05.976326",
          "2025-01-09T05:58:05.976326"
         ],
         "hovertemplate": "Menu Item=Bread<br>Start=%{base}<br>Finish=%{x}<br>Machine Index=%{y}<extra></extra>",
         "legendgroup": "Bread",
         "marker": {
          "color": "#B6E880",
          "line": {
           "width": 0
          },
          "pattern": {
           "shape": ""
          }
         },
         "name": "Bread",
         "offsetgroup": "Bread",
         "orientation": "h",
         "showlegend": true,
         "textposition": "auto",
         "type": "bar",
         "x": [
          600000,
          3600000,
          2700000
         ],
         "xaxis": "x",
         "y": [
          "Mixer 3",
          "Proofer 2",
          "Oven 2"
         ],
         "yaxis": "y"
        },
        {
         "alignmentgroup": "True",
         "base": [
          "2025-01-09T04:25:05.976326",
          "2025-01-09T05:20:05.976326",
          "2025-01-09T07:36:05.976326"
         ],
         "hovertemplate": "Menu Item=Croissant<br>Start=%{base}<br>Finish=%{x}<br>Machine Index=%{y}<extra></extra>",
         "legendgroup": "Croissant",
         "marker": {
          "color": "#FF97FF",
          "line": {
           "width": 0
          },
          "pattern": {
           "shape": ""
          }
         },
         "name": "Croissant",
         "offsetgroup": "Croissant",
         "orientation": "h",
         "showlegend": true,
         "textposition": "auto",
         "type": "bar",
         "x": [
          480000,
          1800000,
          1500000
         ],
         "xaxis": "x",
         "y": [
          "Mixer 3",
          "Proofer 2",
          "Oven 3"
         ],
         "yaxis": "y"
        },
        {
         "alignmentgroup": "True",
         "base": [
          "2025-01-09T04:43:05.976326",
          "2025-01-09T05:52:05.976326",
          "2025-01-09T07:51:05.976326"
         ],
         "hovertemplate": "Menu Item=Danish Pastry<br>Start=%{base}<br>Finish=%{x}<br>Machine Index=%{y}<extra></extra>",
         "legendgroup": "Danish Pastry",
         "marker": {
          "color": "#FECB52",
          "line": {
           "width": 0
          },
          "pattern": {
           "shape": ""
          }
         },
         "name": "Danish Pastry",
         "offsetgroup": "Danish Pastry",
         "orientation": "h",
         "showlegend": true,
         "textposition": "auto",
         "type": "bar",
         "x": [
          720000,
          2700000,
          1800000
         ],
         "xaxis": "x",
         "y": [
          "Mixer 4",
          "Proofer 1",
          "Oven 2"
         ],
         "yaxis": "y"
        },
        {
         "alignmentgroup": "True",
         "base": [
          "2025-01-09T04:00:05.976326",
          "2025-01-09T04:08:05.976326"
         ],
         "hovertemplate": "Menu Item=Brownies<br>Start=%{base}<br>Finish=%{x}<br>Machine Index=%{y}<extra></extra>",
         "legendgroup": "Brownies",
         "marker": {
          "color": "#636efa",
          "line": {
           "width": 0
          },
          "pattern": {
           "shape": ""
          }
         },
         "name": "Brownies",
         "offsetgroup": "Brownies",
         "orientation": "h",
         "showlegend": true,
         "textposition": "auto",
         "type": "bar",
         "x": [
          480000,
          1200000
         ],
         "xaxis": "x",
         "y": [
          "Mixer 4",
          "Oven 1"
         ],
         "yaxis": "y"
        },
        {
         "alignmentgroup": "True",
         "base": [
          "2025-01-09T04:22:05.976326",
          "2025-01-09T04:58:05.976326"
         ],
         "hovertemplate": "Menu Item=Cake<br>Start=%{base}<br>Finish=%{x}<br>Machine Index=%{y}<extra></extra>",
         "legendgroup": "Cake",
         "marker": {
          "color": "#EF553B",
          "line": {
           "width": 0
          },
          "pattern": {
           "shape": ""
          }
         },
         "name": "Cake",
         "offsetgroup": "Cake",
         "orientation": "h",
         "showlegend": true,
         "textposition": "auto",
         "type": "bar",
         "x": [
          900000,
          3600000
         ],
         "xaxis": "x",
         "y": [
          "Mixer 1",
          "Oven 1"
         ],
         "yaxis": "y"
        },
        {
         "alignmentgroup": "True",
         "base": [
          "2025-01-09T04:23:05.976326",
          "2025-01-09T04:28:05.976326"
         ],
         "hovertemplate": "Menu Item=Cookies<br>Start=%{base}<br>Finish=%{x}<br>Machine Index=%{y}<extra></extra>",
         "legendgroup": "Cookies",
         "marker": {
          "color": "#00cc96",
          "line": {
           "width": 0
          },
          "pattern": {
           "shape": ""
          }
         },
         "name": "Cookies",
         "offsetgroup": "Cookies",
         "orientation": "h",
         "showlegend": true,
         "textposition": "auto",
         "type": "bar",
         "x": [
          300000,
          900000
         ],
         "xaxis": "x",
         "y": [
          "Mixer 4",
          "Oven 2"
         ],
         "yaxis": "y"
        },
        {
         "alignmentgroup": "True",
         "base": [
          "2025-01-09T05:07:05.976326",
          "2025-01-09T07:13:05.976326"
         ],
         "hovertemplate": "Menu Item=Pie<br>Start=%{base}<br>Finish=%{x}<br>Machine Index=%{y}<extra></extra>",
         "legendgroup": "Pie",
         "marker": {
          "color": "#ab63fa",
          "line": {
           "width": 0
          },
          "pattern": {
           "shape": ""
          }
         },
         "name": "Pie",
         "offsetgroup": "Pie",
         "orientation": "h",
         "showlegend": true,
         "textposition": "auto",
         "type": "bar",
         "x": [
          1200000,
          2400000
         ],
         "xaxis": "x",
         "y": [
          "Mixer 2",
          "Oven 1"
         ],
         "yaxis": "y"
        },
        {
         "alignmentgroup": "True",
         "base": [
          "2025-01-09T05:09:05.976326",
          "2025-01-09T06:36:05.976326"
         ],
         "hovertemplate": "Menu Item=Quiche<br>Start=%{base}<br>Finish=%{x}<br>Machine Index=%{y}<extra></extra>",
         "legendgroup": "Quiche",
         "marker": {
          "color": "#FFA15A",
          "line": {
           "width": 0
          },
          "pattern": {
           "shape": ""
          }
         },
         "name": "Quiche",
         "offsetgroup": "Quiche",
         "orientation": "h",
         "showlegend": true,
         "textposition": "auto",
         "type": "bar",
         "x": [
          600000,
          1800000
         ],
         "xaxis": "x",
         "y": [
          "Mixer 3",
          "Oven 3"
         ],
         "yaxis": "y"
        }
       ],
       "layout": {
        "barmode": "overlay",
        "legend": {
         "title": {
          "text": "Menu Item"
         },
         "tracegroupgap": 0
        },
        "template": {
         "data": {
          "bar": [
           {
            "error_x": {
             "color": "#2a3f5f"
            },
            "error_y": {
             "color": "#2a3f5f"
            },
            "marker": {
             "line": {
              "color": "#E5ECF6",
              "width": 0.5
             },
             "pattern": {
              "fillmode": "overlay",
              "size": 10,
              "solidity": 0.2
             }
            },
            "type": "bar"
           }
          ],
          "barpolar": [
           {
            "marker": {
             "line": {
              "color": "#E5ECF6",
              "width": 0.5
             },
             "pattern": {
              "fillmode": "overlay",
              "size": 10,
              "solidity": 0.2
             }
            },
            "type": "barpolar"
           }
          ],
          "carpet": [
           {
            "aaxis": {
             "endlinecolor": "#2a3f5f",
             "gridcolor": "white",
             "linecolor": "white",
             "minorgridcolor": "white",
             "startlinecolor": "#2a3f5f"
            },
            "baxis": {
             "endlinecolor": "#2a3f5f",
             "gridcolor": "white",
             "linecolor": "white",
             "minorgridcolor": "white",
             "startlinecolor": "#2a3f5f"
            },
            "type": "carpet"
           }
          ],
          "choropleth": [
           {
            "colorbar": {
             "outlinewidth": 0,
             "ticks": ""
            },
            "type": "choropleth"
           }
          ],
          "contour": [
           {
            "colorbar": {
             "outlinewidth": 0,
             "ticks": ""
            },
            "colorscale": [
             [
              0,
              "#0d0887"
             ],
             [
              0.1111111111111111,
              "#46039f"
             ],
             [
              0.2222222222222222,
              "#7201a8"
             ],
             [
              0.3333333333333333,
              "#9c179e"
             ],
             [
              0.4444444444444444,
              "#bd3786"
             ],
             [
              0.5555555555555556,
              "#d8576b"
             ],
             [
              0.6666666666666666,
              "#ed7953"
             ],
             [
              0.7777777777777778,
              "#fb9f3a"
             ],
             [
              0.8888888888888888,
              "#fdca26"
             ],
             [
              1,
              "#f0f921"
             ]
            ],
            "type": "contour"
           }
          ],
          "contourcarpet": [
           {
            "colorbar": {
             "outlinewidth": 0,
             "ticks": ""
            },
            "type": "contourcarpet"
           }
          ],
          "heatmap": [
           {
            "colorbar": {
             "outlinewidth": 0,
             "ticks": ""
            },
            "colorscale": [
             [
              0,
              "#0d0887"
             ],
             [
              0.1111111111111111,
              "#46039f"
             ],
             [
              0.2222222222222222,
              "#7201a8"
             ],
             [
              0.3333333333333333,
              "#9c179e"
             ],
             [
              0.4444444444444444,
              "#bd3786"
             ],
             [
              0.5555555555555556,
              "#d8576b"
             ],
             [
              0.6666666666666666,
              "#ed7953"
             ],
             [
              0.7777777777777778,
              "#fb9f3a"
             ],
             [
              0.8888888888888888,
              "#fdca26"
             ],
             [
              1,
              "#f0f921"
             ]
            ],
            "type": "heatmap"
           }
          ],
          "heatmapgl": [
           {
            "colorbar": {
             "outlinewidth": 0,
             "ticks": ""
            },
            "colorscale": [
             [
              0,
              "#0d0887"
             ],
             [
              0.1111111111111111,
              "#46039f"
             ],
             [
              0.2222222222222222,
              "#7201a8"
             ],
             [
              0.3333333333333333,
              "#9c179e"
             ],
             [
              0.4444444444444444,
              "#bd3786"
             ],
             [
              0.5555555555555556,
              "#d8576b"
             ],
             [
              0.6666666666666666,
              "#ed7953"
             ],
             [
              0.7777777777777778,
              "#fb9f3a"
             ],
             [
              0.8888888888888888,
              "#fdca26"
             ],
             [
              1,
              "#f0f921"
             ]
            ],
            "type": "heatmapgl"
           }
          ],
          "histogram": [
           {
            "marker": {
             "pattern": {
              "fillmode": "overlay",
              "size": 10,
              "solidity": 0.2
             }
            },
            "type": "histogram"
           }
          ],
          "histogram2d": [
           {
            "colorbar": {
             "outlinewidth": 0,
             "ticks": ""
            },
            "colorscale": [
             [
              0,
              "#0d0887"
             ],
             [
              0.1111111111111111,
              "#46039f"
             ],
             [
              0.2222222222222222,
              "#7201a8"
             ],
             [
              0.3333333333333333,
              "#9c179e"
             ],
             [
              0.4444444444444444,
              "#bd3786"
             ],
             [
              0.5555555555555556,
              "#d8576b"
             ],
             [
              0.6666666666666666,
              "#ed7953"
             ],
             [
              0.7777777777777778,
              "#fb9f3a"
             ],
             [
              0.8888888888888888,
              "#fdca26"
             ],
             [
              1,
              "#f0f921"
             ]
            ],
            "type": "histogram2d"
           }
          ],
          "histogram2dcontour": [
           {
            "colorbar": {
             "outlinewidth": 0,
             "ticks": ""
            },
            "colorscale": [
             [
              0,
              "#0d0887"
             ],
             [
              0.1111111111111111,
              "#46039f"
             ],
             [
              0.2222222222222222,
              "#7201a8"
             ],
             [
              0.3333333333333333,
              "#9c179e"
             ],
             [
              0.4444444444444444,
              "#bd3786"
             ],
             [
              0.5555555555555556,
              "#d8576b"
             ],
             [
              0.6666666666666666,
              "#ed7953"
             ],
             [
              0.7777777777777778,
              "#fb9f3a"
             ],
             [
              0.8888888888888888,
              "#fdca26"
             ],
             [
              1,
              "#f0f921"
             ]
            ],
            "type": "histogram2dcontour"
           }
          ],
          "mesh3d": [
           {
            "colorbar": {
             "outlinewidth": 0,
             "ticks": ""
            },
            "type": "mesh3d"
           }
          ],
          "parcoords": [
           {
            "line": {
             "colorbar": {
              "outlinewidth": 0,
              "ticks": ""
             }
            },
            "type": "parcoords"
           }
          ],
          "pie": [
           {
            "automargin": true,
            "type": "pie"
           }
          ],
          "scatter": [
           {
            "fillpattern": {
             "fillmode": "overlay",
             "size": 10,
             "solidity": 0.2
            },
            "type": "scatter"
           }
          ],
          "scatter3d": [
           {
            "line": {
             "colorbar": {
              "outlinewidth": 0,
              "ticks": ""
             }
            },
            "marker": {
             "colorbar": {
              "outlinewidth": 0,
              "ticks": ""
             }
            },
            "type": "scatter3d"
           }
          ],
          "scattercarpet": [
           {
            "marker": {
             "colorbar": {
              "outlinewidth": 0,
              "ticks": ""
             }
            },
            "type": "scattercarpet"
           }
          ],
          "scattergeo": [
           {
            "marker": {
             "colorbar": {
              "outlinewidth": 0,
              "ticks": ""
             }
            },
            "type": "scattergeo"
           }
          ],
          "scattergl": [
           {
            "marker": {
             "colorbar": {
              "outlinewidth": 0,
              "ticks": ""
             }
            },
            "type": "scattergl"
           }
          ],
          "scattermapbox": [
           {
            "marker": {
             "colorbar": {
              "outlinewidth": 0,
              "ticks": ""
             }
            },
            "type": "scattermapbox"
           }
          ],
          "scatterpolar": [
           {
            "marker": {
             "colorbar": {
              "outlinewidth": 0,
              "ticks": ""
             }
            },
            "type": "scatterpolar"
           }
          ],
          "scatterpolargl": [
           {
            "marker": {
             "colorbar": {
              "outlinewidth": 0,
              "ticks": ""
             }
            },
            "type": "scatterpolargl"
           }
          ],
          "scatterternary": [
           {
            "marker": {
             "colorbar": {
              "outlinewidth": 0,
              "ticks": ""
             }
            },
            "type": "scatterternary"
           }
          ],
          "surface": [
           {
            "colorbar": {
             "outlinewidth": 0,
             "ticks": ""
            },
            "colorscale": [
             [
              0,
              "#0d0887"
             ],
             [
              0.1111111111111111,
              "#46039f"
             ],
             [
              0.2222222222222222,
              "#7201a8"
             ],
             [
              0.3333333333333333,
              "#9c179e"
             ],
             [
              0.4444444444444444,
              "#bd3786"
             ],
             [
              0.5555555555555556,
              "#d8576b"
             ],
             [
              0.6666666666666666,
              "#ed7953"
             ],
             [
              0.7777777777777778,
              "#fb9f3a"
             ],
             [
              0.8888888888888888,
              "#fdca26"
             ],
             [
              1,
              "#f0f921"
             ]
            ],
            "type": "surface"
           }
          ],
          "table": [
           {
            "cells": {
             "fill": {
              "color": "#EBF0F8"
             },
             "line": {
              "color": "white"
             }
            },
            "header": {
             "fill": {
              "color": "#C8D4E3"
             },
             "line": {
              "color": "white"
             }
            },
            "type": "table"
           }
          ]
         },
         "layout": {
          "annotationdefaults": {
           "arrowcolor": "#2a3f5f",
           "arrowhead": 0,
           "arrowwidth": 1
          },
          "autotypenumbers": "strict",
          "coloraxis": {
           "colorbar": {
            "outlinewidth": 0,
            "ticks": ""
           }
          },
          "colorscale": {
           "diverging": [
            [
             0,
             "#8e0152"
            ],
            [
             0.1,
             "#c51b7d"
            ],
            [
             0.2,
             "#de77ae"
            ],
            [
             0.3,
             "#f1b6da"
            ],
            [
             0.4,
             "#fde0ef"
            ],
            [
             0.5,
             "#f7f7f7"
            ],
            [
             0.6,
             "#e6f5d0"
            ],
            [
             0.7,
             "#b8e186"
            ],
            [
             0.8,
             "#7fbc41"
            ],
            [
             0.9,
             "#4d9221"
            ],
            [
             1,
             "#276419"
            ]
           ],
           "sequential": [
            [
             0,
             "#0d0887"
            ],
            [
             0.1111111111111111,
             "#46039f"
            ],
            [
             0.2222222222222222,
             "#7201a8"
            ],
            [
             0.3333333333333333,
             "#9c179e"
            ],
            [
             0.4444444444444444,
             "#bd3786"
            ],
            [
             0.5555555555555556,
             "#d8576b"
            ],
            [
             0.6666666666666666,
             "#ed7953"
            ],
            [
             0.7777777777777778,
             "#fb9f3a"
            ],
            [
             0.8888888888888888,
             "#fdca26"
            ],
            [
             1,
             "#f0f921"
            ]
           ],
           "sequentialminus": [
            [
             0,
             "#0d0887"
            ],
            [
             0.1111111111111111,
             "#46039f"
            ],
            [
             0.2222222222222222,
             "#7201a8"
            ],
            [
             0.3333333333333333,
             "#9c179e"
            ],
            [
             0.4444444444444444,
             "#bd3786"
            ],
            [
             0.5555555555555556,
             "#d8576b"
            ],
            [
             0.6666666666666666,
             "#ed7953"
            ],
            [
             0.7777777777777778,
             "#fb9f3a"
            ],
            [
             0.8888888888888888,
             "#fdca26"
            ],
            [
             1,
             "#f0f921"
            ]
           ]
          },
          "colorway": [
           "#636efa",
           "#EF553B",
           "#00cc96",
           "#ab63fa",
           "#FFA15A",
           "#19d3f3",
           "#FF6692",
           "#B6E880",
           "#FF97FF",
           "#FECB52"
          ],
          "font": {
           "color": "#2a3f5f"
          },
          "geo": {
           "bgcolor": "white",
           "lakecolor": "white",
           "landcolor": "#E5ECF6",
           "showlakes": true,
           "showland": true,
           "subunitcolor": "white"
          },
          "hoverlabel": {
           "align": "left"
          },
          "hovermode": "closest",
          "mapbox": {
           "style": "light"
          },
          "paper_bgcolor": "white",
          "plot_bgcolor": "#E5ECF6",
          "polar": {
           "angularaxis": {
            "gridcolor": "white",
            "linecolor": "white",
            "ticks": ""
           },
           "bgcolor": "#E5ECF6",
           "radialaxis": {
            "gridcolor": "white",
            "linecolor": "white",
            "ticks": ""
           }
          },
          "scene": {
           "xaxis": {
            "backgroundcolor": "#E5ECF6",
            "gridcolor": "white",
            "gridwidth": 2,
            "linecolor": "white",
            "showbackground": true,
            "ticks": "",
            "zerolinecolor": "white"
           },
           "yaxis": {
            "backgroundcolor": "#E5ECF6",
            "gridcolor": "white",
            "gridwidth": 2,
            "linecolor": "white",
            "showbackground": true,
            "ticks": "",
            "zerolinecolor": "white"
           },
           "zaxis": {
            "backgroundcolor": "#E5ECF6",
            "gridcolor": "white",
            "gridwidth": 2,
            "linecolor": "white",
            "showbackground": true,
            "ticks": "",
            "zerolinecolor": "white"
           }
          },
          "shapedefaults": {
           "line": {
            "color": "#2a3f5f"
           }
          },
          "ternary": {
           "aaxis": {
            "gridcolor": "white",
            "linecolor": "white",
            "ticks": ""
           },
           "baxis": {
            "gridcolor": "white",
            "linecolor": "white",
            "ticks": ""
           },
           "bgcolor": "#E5ECF6",
           "caxis": {
            "gridcolor": "white",
            "linecolor": "white",
            "ticks": ""
           }
          },
          "title": {
           "x": 0.05
          },
          "xaxis": {
           "automargin": true,
           "gridcolor": "white",
           "linecolor": "white",
           "ticks": "",
           "title": {
            "standoff": 15
           },
           "zerolinecolor": "white",
           "zerolinewidth": 2
          },
          "yaxis": {
           "automargin": true,
           "gridcolor": "white",
           "linecolor": "white",
           "ticks": "",
           "title": {
            "standoff": 15
           },
           "zerolinecolor": "white",
           "zerolinewidth": 2
          }
         }
        },
        "title": {
         "text": "Machine Workload Visualization (Greedy Algorithm) for 2025-01-09"
        },
        "xaxis": {
         "anchor": "y",
         "domain": [
          0,
          1
         ],
         "type": "date"
        },
        "yaxis": {
         "anchor": "x",
         "categoryorder": "total ascending",
         "domain": [
          0,
          1
         ],
         "title": {
          "text": "Machine Index"
         }
        }
       }
      }
     },
     "metadata": {},
     "output_type": "display_data"
    },
    {
     "data": {
      "application/vnd.plotly.v1+json": {
       "config": {
        "plotlyServerURL": "https://plot.ly"
       },
       "data": [
        {
         "alignmentgroup": "True",
         "base": [
          "2025-01-16T04:00:08.508237",
          "2025-01-16T04:07:08.508237",
          "2025-01-16T05:13:08.508237"
         ],
         "hovertemplate": "Menu Item=Bagels<br>Start=%{base}<br>Finish=%{x}<br>Machine Index=%{y}<extra></extra>",
         "legendgroup": "Bagels",
         "marker": {
          "color": "#EF553B",
          "line": {
           "width": 0
          },
          "pattern": {
           "shape": ""
          }
         },
         "name": "Bagels",
         "offsetgroup": "Bagels",
         "orientation": "h",
         "showlegend": true,
         "textposition": "auto",
         "type": "bar",
         "x": [
          420000,
          2700000,
          900000
         ],
         "xaxis": "x",
         "y": [
          "Mixer 1",
          "Proofer 1",
          "Oven 2"
         ],
         "yaxis": "y"
        },
        {
         "alignmentgroup": "True",
         "base": [
          "2025-01-16T04:07:08.508237",
          "2025-01-16T04:34:08.508237",
          "2025-01-16T04:54:08.508237",
          "2025-01-16T04:52:08.508237",
          "2025-01-16T04:57:08.508237",
          "2025-01-16T04:52:08.508237",
          "2025-01-16T05:42:08.508237",
          "2025-01-16T04:46:08.508237",
          "2025-01-16T05:28:08.508237",
          "2025-01-16T05:26:08.508237",
          "2025-01-16T06:06:08.508237",
          "2025-01-16T07:21:08.508237",
          "2025-01-16T04:15:08.508237",
          "2025-01-16T04:10:08.508237",
          "2025-01-16T04:33:08.508237",
          "2025-01-16T04:55:08.508237",
          "2025-01-16T05:10:08.508237",
          "2025-01-16T05:17:08.508237",
          "2025-01-16T05:50:08.508237",
          "2025-01-16T06:37:08.508237",
          "2025-01-16T06:43:08.508237",
          "2025-01-16T06:43:08.508237",
          "2025-01-16T08:01:08.508237",
          "2025-01-16T08:21:08.508237",
          "2025-01-16T04:08:08.508237",
          "2025-01-16T04:37:08.508237",
          "2025-01-16T04:28:08.508237",
          "2025-01-16T05:27:08.508237",
          "2025-01-16T04:28:08.508237",
          "2025-01-16T04:43:08.508237",
          "2025-01-16T05:58:08.508237",
          "2025-01-16T07:53:08.508237",
          "2025-01-16T05:19:08.508237",
          "2025-01-16T07:06:08.508237"
         ],
         "hovertemplate": "Menu Item=Downtime<br>Start=%{base}<br>Finish=%{x}<br>Machine Index=%{y}<extra></extra>",
         "legendgroup": "Downtime",
         "marker": {
          "color": "grey",
          "line": {
           "width": 0
          },
          "pattern": {
           "shape": ""
          }
         },
         "name": "Downtime",
         "offsetgroup": "Downtime",
         "orientation": "h",
         "showlegend": true,
         "textposition": "auto",
         "type": "bar",
         "x": [
          900000,
          900000,
          900000,
          900000,
          900000,
          600000,
          600000,
          1800000,
          1800000,
          1800000,
          1800000,
          1800000,
          900000,
          900000,
          900000,
          900000,
          600000,
          600000,
          600000,
          600000,
          1800000,
          1800000,
          1800000,
          1800000,
          900000,
          900000,
          900000,
          900000,
          1800000,
          1800000,
          1800000,
          1800000,
          900000,
          1800000
         ],
         "xaxis": "x",
         "y": [
          "Mixer 1",
          "Mixer 2",
          "Mixer 3",
          "Mixer 2",
          "Mixer 1",
          "Proofer 1",
          "Proofer 1",
          "Oven 3",
          "Oven 2",
          "Oven 3",
          "Oven 3",
          "Oven 2",
          "Mixer 2",
          "Mixer 3",
          "Mixer 3",
          "Mixer 4",
          "Proofer 2",
          "Proofer 1",
          "Proofer 2",
          "Proofer 1",
          "Oven 2",
          "Oven 1",
          "Oven 3",
          "Oven 2",
          "Mixer 4",
          "Mixer 1",
          "Mixer 4",
          "Mixer 2",
          "Oven 1",
          "Oven 2",
          "Oven 1",
          "Oven 1",
          "Mixer 3",
          "Oven 3"
         ],
         "yaxis": "y"
        },
        {
         "alignmentgroup": "True",
         "base": [
          "2025-01-16T04:30:08.508237",
          "2025-01-16T04:34:08.508237"
         ],
         "hovertemplate": "Menu Item=Cupcakes<br>Start=%{base}<br>Finish=%{x}<br>Machine Index=%{y}<extra></extra>",
         "legendgroup": "Cupcakes",
         "marker": {
          "color": "#00cc96",
          "line": {
           "width": 0
          },
          "pattern": {
           "shape": ""
          }
         },
         "name": "Cupcakes",
         "offsetgroup": "Cupcakes",
         "orientation": "h",
         "showlegend": true,
         "textposition": "auto",
         "type": "bar",
         "x": [
          240000,
          720000
         ],
         "xaxis": "x",
         "y": [
          "Mixer 2",
          "Oven 3"
         ],
         "yaxis": "y"
        },
        {
         "alignmentgroup": "True",
         "base": [
          "2025-01-16T04:48:08.508237",
          "2025-01-16T05:27:08.508237",
          "2025-01-16T07:13:08.508237"
         ],
         "hovertemplate": "Menu Item=Donuts<br>Start=%{base}<br>Finish=%{x}<br>Machine Index=%{y}<extra></extra>",
         "legendgroup": "Donuts",
         "marker": {
          "color": "#ab63fa",
          "line": {
           "width": 0
          },
          "pattern": {
           "shape": ""
          }
         },
         "name": "Donuts",
         "offsetgroup": "Donuts",
         "orientation": "h",
         "showlegend": true,
         "textposition": "auto",
         "type": "bar",
         "x": [
          360000,
          900000,
          480000
         ],
         "xaxis": "x",
         "y": [
          "Mixer 3",
          "Proofer 1",
          "Oven 2"
         ],
         "yaxis": "y"
        },
        {
         "alignmentgroup": "True",
         "base": [
          "2025-01-16T04:49:08.508237",
          "2025-01-16T05:16:08.508237"
         ],
         "hovertemplate": "Menu Item=Macarons<br>Start=%{base}<br>Finish=%{x}<br>Machine Index=%{y}<extra></extra>",
         "legendgroup": "Macarons",
         "marker": {
          "color": "#FFA15A",
          "line": {
           "width": 0
          },
          "pattern": {
           "shape": ""
          }
         },
         "name": "Macarons",
         "offsetgroup": "Macarons",
         "orientation": "h",
         "showlegend": true,
         "textposition": "auto",
         "type": "bar",
         "x": [
          180000,
          600000
         ],
         "xaxis": "x",
         "y": [
          "Mixer 2",
          "Oven 3"
         ],
         "yaxis": "y"
        },
        {
         "alignmentgroup": "True",
         "base": [
          "2025-01-16T04:52:08.508237",
          "2025-01-16T05:56:08.508237"
         ],
         "hovertemplate": "Menu Item=Muffins<br>Start=%{base}<br>Finish=%{x}<br>Machine Index=%{y}<extra></extra>",
         "legendgroup": "Muffins",
         "marker": {
          "color": "#19d3f3",
          "line": {
           "width": 0
          },
          "pattern": {
           "shape": ""
          }
         },
         "name": "Muffins",
         "offsetgroup": "Muffins",
         "orientation": "h",
         "showlegend": true,
         "textposition": "auto",
         "type": "bar",
         "x": [
          300000,
          600000
         ],
         "xaxis": "x",
         "y": [
          "Mixer 1",
          "Oven 3"
         ],
         "yaxis": "y"
        },
        {
         "alignmentgroup": "True",
         "base": [
          "2025-01-16T04:00:08.508237",
          "2025-01-16T05:02:08.508237",
          "2025-01-16T06:28:08.508237"
         ],
         "hovertemplate": "Menu Item=Baguette<br>Start=%{base}<br>Finish=%{x}<br>Machine Index=%{y}<extra></extra>",
         "legendgroup": "Baguette",
         "marker": {
          "color": "#FF6692",
          "line": {
           "width": 0
          },
          "pattern": {
           "shape": ""
          }
         },
         "name": "Baguette",
         "offsetgroup": "Baguette",
         "orientation": "h",
         "showlegend": true,
         "textposition": "auto",
         "type": "bar",
         "x": [
          900000,
          900000,
          900000
         ],
         "xaxis": "x",
         "y": [
          "Mixer 2",
          "Proofer 1",
          "Oven 1"
         ],
         "yaxis": "y"
        },
        {
         "alignmentgroup": "True",
         "base": [
          "2025-01-16T04:00:08.508237",
          "2025-01-16T04:10:08.508237",
          "2025-01-16T05:58:08.508237"
         ],
         "hovertemplate": "Menu Item=Bread<br>Start=%{base}<br>Finish=%{x}<br>Machine Index=%{y}<extra></extra>",
         "legendgroup": "Bread",
         "marker": {
          "color": "#B6E880",
          "line": {
           "width": 0
          },
          "pattern": {
           "shape": ""
          }
         },
         "name": "Bread",
         "offsetgroup": "Bread",
         "orientation": "h",
         "showlegend": true,
         "textposition": "auto",
         "type": "bar",
         "x": [
          600000,
          3600000,
          2700000
         ],
         "xaxis": "x",
         "y": [
          "Mixer 3",
          "Proofer 2",
          "Oven 2"
         ],
         "yaxis": "y"
        },
        {
         "alignmentgroup": "True",
         "base": [
          "2025-01-16T04:25:08.508237",
          "2025-01-16T05:20:08.508237",
          "2025-01-16T07:36:08.508237"
         ],
         "hovertemplate": "Menu Item=Croissant<br>Start=%{base}<br>Finish=%{x}<br>Machine Index=%{y}<extra></extra>",
         "legendgroup": "Croissant",
         "marker": {
          "color": "#FF97FF",
          "line": {
           "width": 0
          },
          "pattern": {
           "shape": ""
          }
         },
         "name": "Croissant",
         "offsetgroup": "Croissant",
         "orientation": "h",
         "showlegend": true,
         "textposition": "auto",
         "type": "bar",
         "x": [
          480000,
          1800000,
          1500000
         ],
         "xaxis": "x",
         "y": [
          "Mixer 3",
          "Proofer 2",
          "Oven 3"
         ],
         "yaxis": "y"
        },
        {
         "alignmentgroup": "True",
         "base": [
          "2025-01-16T04:43:08.508237",
          "2025-01-16T05:52:08.508237",
          "2025-01-16T07:51:08.508237"
         ],
         "hovertemplate": "Menu Item=Danish Pastry<br>Start=%{base}<br>Finish=%{x}<br>Machine Index=%{y}<extra></extra>",
         "legendgroup": "Danish Pastry",
         "marker": {
          "color": "#FECB52",
          "line": {
           "width": 0
          },
          "pattern": {
           "shape": ""
          }
         },
         "name": "Danish Pastry",
         "offsetgroup": "Danish Pastry",
         "orientation": "h",
         "showlegend": true,
         "textposition": "auto",
         "type": "bar",
         "x": [
          720000,
          2700000,
          1800000
         ],
         "xaxis": "x",
         "y": [
          "Mixer 4",
          "Proofer 1",
          "Oven 2"
         ],
         "yaxis": "y"
        },
        {
         "alignmentgroup": "True",
         "base": [
          "2025-01-16T04:00:08.508237",
          "2025-01-16T04:08:08.508237"
         ],
         "hovertemplate": "Menu Item=Brownies<br>Start=%{base}<br>Finish=%{x}<br>Machine Index=%{y}<extra></extra>",
         "legendgroup": "Brownies",
         "marker": {
          "color": "#636efa",
          "line": {
           "width": 0
          },
          "pattern": {
           "shape": ""
          }
         },
         "name": "Brownies",
         "offsetgroup": "Brownies",
         "orientation": "h",
         "showlegend": true,
         "textposition": "auto",
         "type": "bar",
         "x": [
          480000,
          1200000
         ],
         "xaxis": "x",
         "y": [
          "Mixer 4",
          "Oven 1"
         ],
         "yaxis": "y"
        },
        {
         "alignmentgroup": "True",
         "base": [
          "2025-01-16T04:22:08.508237",
          "2025-01-16T04:58:08.508237"
         ],
         "hovertemplate": "Menu Item=Cake<br>Start=%{base}<br>Finish=%{x}<br>Machine Index=%{y}<extra></extra>",
         "legendgroup": "Cake",
         "marker": {
          "color": "#EF553B",
          "line": {
           "width": 0
          },
          "pattern": {
           "shape": ""
          }
         },
         "name": "Cake",
         "offsetgroup": "Cake",
         "orientation": "h",
         "showlegend": true,
         "textposition": "auto",
         "type": "bar",
         "x": [
          900000,
          3600000
         ],
         "xaxis": "x",
         "y": [
          "Mixer 1",
          "Oven 1"
         ],
         "yaxis": "y"
        },
        {
         "alignmentgroup": "True",
         "base": [
          "2025-01-16T04:23:08.508237",
          "2025-01-16T04:28:08.508237"
         ],
         "hovertemplate": "Menu Item=Cookies<br>Start=%{base}<br>Finish=%{x}<br>Machine Index=%{y}<extra></extra>",
         "legendgroup": "Cookies",
         "marker": {
          "color": "#00cc96",
          "line": {
           "width": 0
          },
          "pattern": {
           "shape": ""
          }
         },
         "name": "Cookies",
         "offsetgroup": "Cookies",
         "orientation": "h",
         "showlegend": true,
         "textposition": "auto",
         "type": "bar",
         "x": [
          300000,
          900000
         ],
         "xaxis": "x",
         "y": [
          "Mixer 4",
          "Oven 2"
         ],
         "yaxis": "y"
        },
        {
         "alignmentgroup": "True",
         "base": [
          "2025-01-16T05:07:08.508237",
          "2025-01-16T07:13:08.508237"
         ],
         "hovertemplate": "Menu Item=Pie<br>Start=%{base}<br>Finish=%{x}<br>Machine Index=%{y}<extra></extra>",
         "legendgroup": "Pie",
         "marker": {
          "color": "#ab63fa",
          "line": {
           "width": 0
          },
          "pattern": {
           "shape": ""
          }
         },
         "name": "Pie",
         "offsetgroup": "Pie",
         "orientation": "h",
         "showlegend": true,
         "textposition": "auto",
         "type": "bar",
         "x": [
          1200000,
          2400000
         ],
         "xaxis": "x",
         "y": [
          "Mixer 2",
          "Oven 1"
         ],
         "yaxis": "y"
        },
        {
         "alignmentgroup": "True",
         "base": [
          "2025-01-16T05:09:08.508237",
          "2025-01-16T06:36:08.508237"
         ],
         "hovertemplate": "Menu Item=Quiche<br>Start=%{base}<br>Finish=%{x}<br>Machine Index=%{y}<extra></extra>",
         "legendgroup": "Quiche",
         "marker": {
          "color": "#FFA15A",
          "line": {
           "width": 0
          },
          "pattern": {
           "shape": ""
          }
         },
         "name": "Quiche",
         "offsetgroup": "Quiche",
         "orientation": "h",
         "showlegend": true,
         "textposition": "auto",
         "type": "bar",
         "x": [
          600000,
          1800000
         ],
         "xaxis": "x",
         "y": [
          "Mixer 3",
          "Oven 3"
         ],
         "yaxis": "y"
        }
       ],
       "layout": {
        "barmode": "overlay",
        "legend": {
         "title": {
          "text": "Menu Item"
         },
         "tracegroupgap": 0
        },
        "template": {
         "data": {
          "bar": [
           {
            "error_x": {
             "color": "#2a3f5f"
            },
            "error_y": {
             "color": "#2a3f5f"
            },
            "marker": {
             "line": {
              "color": "#E5ECF6",
              "width": 0.5
             },
             "pattern": {
              "fillmode": "overlay",
              "size": 10,
              "solidity": 0.2
             }
            },
            "type": "bar"
           }
          ],
          "barpolar": [
           {
            "marker": {
             "line": {
              "color": "#E5ECF6",
              "width": 0.5
             },
             "pattern": {
              "fillmode": "overlay",
              "size": 10,
              "solidity": 0.2
             }
            },
            "type": "barpolar"
           }
          ],
          "carpet": [
           {
            "aaxis": {
             "endlinecolor": "#2a3f5f",
             "gridcolor": "white",
             "linecolor": "white",
             "minorgridcolor": "white",
             "startlinecolor": "#2a3f5f"
            },
            "baxis": {
             "endlinecolor": "#2a3f5f",
             "gridcolor": "white",
             "linecolor": "white",
             "minorgridcolor": "white",
             "startlinecolor": "#2a3f5f"
            },
            "type": "carpet"
           }
          ],
          "choropleth": [
           {
            "colorbar": {
             "outlinewidth": 0,
             "ticks": ""
            },
            "type": "choropleth"
           }
          ],
          "contour": [
           {
            "colorbar": {
             "outlinewidth": 0,
             "ticks": ""
            },
            "colorscale": [
             [
              0,
              "#0d0887"
             ],
             [
              0.1111111111111111,
              "#46039f"
             ],
             [
              0.2222222222222222,
              "#7201a8"
             ],
             [
              0.3333333333333333,
              "#9c179e"
             ],
             [
              0.4444444444444444,
              "#bd3786"
             ],
             [
              0.5555555555555556,
              "#d8576b"
             ],
             [
              0.6666666666666666,
              "#ed7953"
             ],
             [
              0.7777777777777778,
              "#fb9f3a"
             ],
             [
              0.8888888888888888,
              "#fdca26"
             ],
             [
              1,
              "#f0f921"
             ]
            ],
            "type": "contour"
           }
          ],
          "contourcarpet": [
           {
            "colorbar": {
             "outlinewidth": 0,
             "ticks": ""
            },
            "type": "contourcarpet"
           }
          ],
          "heatmap": [
           {
            "colorbar": {
             "outlinewidth": 0,
             "ticks": ""
            },
            "colorscale": [
             [
              0,
              "#0d0887"
             ],
             [
              0.1111111111111111,
              "#46039f"
             ],
             [
              0.2222222222222222,
              "#7201a8"
             ],
             [
              0.3333333333333333,
              "#9c179e"
             ],
             [
              0.4444444444444444,
              "#bd3786"
             ],
             [
              0.5555555555555556,
              "#d8576b"
             ],
             [
              0.6666666666666666,
              "#ed7953"
             ],
             [
              0.7777777777777778,
              "#fb9f3a"
             ],
             [
              0.8888888888888888,
              "#fdca26"
             ],
             [
              1,
              "#f0f921"
             ]
            ],
            "type": "heatmap"
           }
          ],
          "heatmapgl": [
           {
            "colorbar": {
             "outlinewidth": 0,
             "ticks": ""
            },
            "colorscale": [
             [
              0,
              "#0d0887"
             ],
             [
              0.1111111111111111,
              "#46039f"
             ],
             [
              0.2222222222222222,
              "#7201a8"
             ],
             [
              0.3333333333333333,
              "#9c179e"
             ],
             [
              0.4444444444444444,
              "#bd3786"
             ],
             [
              0.5555555555555556,
              "#d8576b"
             ],
             [
              0.6666666666666666,
              "#ed7953"
             ],
             [
              0.7777777777777778,
              "#fb9f3a"
             ],
             [
              0.8888888888888888,
              "#fdca26"
             ],
             [
              1,
              "#f0f921"
             ]
            ],
            "type": "heatmapgl"
           }
          ],
          "histogram": [
           {
            "marker": {
             "pattern": {
              "fillmode": "overlay",
              "size": 10,
              "solidity": 0.2
             }
            },
            "type": "histogram"
           }
          ],
          "histogram2d": [
           {
            "colorbar": {
             "outlinewidth": 0,
             "ticks": ""
            },
            "colorscale": [
             [
              0,
              "#0d0887"
             ],
             [
              0.1111111111111111,
              "#46039f"
             ],
             [
              0.2222222222222222,
              "#7201a8"
             ],
             [
              0.3333333333333333,
              "#9c179e"
             ],
             [
              0.4444444444444444,
              "#bd3786"
             ],
             [
              0.5555555555555556,
              "#d8576b"
             ],
             [
              0.6666666666666666,
              "#ed7953"
             ],
             [
              0.7777777777777778,
              "#fb9f3a"
             ],
             [
              0.8888888888888888,
              "#fdca26"
             ],
             [
              1,
              "#f0f921"
             ]
            ],
            "type": "histogram2d"
           }
          ],
          "histogram2dcontour": [
           {
            "colorbar": {
             "outlinewidth": 0,
             "ticks": ""
            },
            "colorscale": [
             [
              0,
              "#0d0887"
             ],
             [
              0.1111111111111111,
              "#46039f"
             ],
             [
              0.2222222222222222,
              "#7201a8"
             ],
             [
              0.3333333333333333,
              "#9c179e"
             ],
             [
              0.4444444444444444,
              "#bd3786"
             ],
             [
              0.5555555555555556,
              "#d8576b"
             ],
             [
              0.6666666666666666,
              "#ed7953"
             ],
             [
              0.7777777777777778,
              "#fb9f3a"
             ],
             [
              0.8888888888888888,
              "#fdca26"
             ],
             [
              1,
              "#f0f921"
             ]
            ],
            "type": "histogram2dcontour"
           }
          ],
          "mesh3d": [
           {
            "colorbar": {
             "outlinewidth": 0,
             "ticks": ""
            },
            "type": "mesh3d"
           }
          ],
          "parcoords": [
           {
            "line": {
             "colorbar": {
              "outlinewidth": 0,
              "ticks": ""
             }
            },
            "type": "parcoords"
           }
          ],
          "pie": [
           {
            "automargin": true,
            "type": "pie"
           }
          ],
          "scatter": [
           {
            "fillpattern": {
             "fillmode": "overlay",
             "size": 10,
             "solidity": 0.2
            },
            "type": "scatter"
           }
          ],
          "scatter3d": [
           {
            "line": {
             "colorbar": {
              "outlinewidth": 0,
              "ticks": ""
             }
            },
            "marker": {
             "colorbar": {
              "outlinewidth": 0,
              "ticks": ""
             }
            },
            "type": "scatter3d"
           }
          ],
          "scattercarpet": [
           {
            "marker": {
             "colorbar": {
              "outlinewidth": 0,
              "ticks": ""
             }
            },
            "type": "scattercarpet"
           }
          ],
          "scattergeo": [
           {
            "marker": {
             "colorbar": {
              "outlinewidth": 0,
              "ticks": ""
             }
            },
            "type": "scattergeo"
           }
          ],
          "scattergl": [
           {
            "marker": {
             "colorbar": {
              "outlinewidth": 0,
              "ticks": ""
             }
            },
            "type": "scattergl"
           }
          ],
          "scattermapbox": [
           {
            "marker": {
             "colorbar": {
              "outlinewidth": 0,
              "ticks": ""
             }
            },
            "type": "scattermapbox"
           }
          ],
          "scatterpolar": [
           {
            "marker": {
             "colorbar": {
              "outlinewidth": 0,
              "ticks": ""
             }
            },
            "type": "scatterpolar"
           }
          ],
          "scatterpolargl": [
           {
            "marker": {
             "colorbar": {
              "outlinewidth": 0,
              "ticks": ""
             }
            },
            "type": "scatterpolargl"
           }
          ],
          "scatterternary": [
           {
            "marker": {
             "colorbar": {
              "outlinewidth": 0,
              "ticks": ""
             }
            },
            "type": "scatterternary"
           }
          ],
          "surface": [
           {
            "colorbar": {
             "outlinewidth": 0,
             "ticks": ""
            },
            "colorscale": [
             [
              0,
              "#0d0887"
             ],
             [
              0.1111111111111111,
              "#46039f"
             ],
             [
              0.2222222222222222,
              "#7201a8"
             ],
             [
              0.3333333333333333,
              "#9c179e"
             ],
             [
              0.4444444444444444,
              "#bd3786"
             ],
             [
              0.5555555555555556,
              "#d8576b"
             ],
             [
              0.6666666666666666,
              "#ed7953"
             ],
             [
              0.7777777777777778,
              "#fb9f3a"
             ],
             [
              0.8888888888888888,
              "#fdca26"
             ],
             [
              1,
              "#f0f921"
             ]
            ],
            "type": "surface"
           }
          ],
          "table": [
           {
            "cells": {
             "fill": {
              "color": "#EBF0F8"
             },
             "line": {
              "color": "white"
             }
            },
            "header": {
             "fill": {
              "color": "#C8D4E3"
             },
             "line": {
              "color": "white"
             }
            },
            "type": "table"
           }
          ]
         },
         "layout": {
          "annotationdefaults": {
           "arrowcolor": "#2a3f5f",
           "arrowhead": 0,
           "arrowwidth": 1
          },
          "autotypenumbers": "strict",
          "coloraxis": {
           "colorbar": {
            "outlinewidth": 0,
            "ticks": ""
           }
          },
          "colorscale": {
           "diverging": [
            [
             0,
             "#8e0152"
            ],
            [
             0.1,
             "#c51b7d"
            ],
            [
             0.2,
             "#de77ae"
            ],
            [
             0.3,
             "#f1b6da"
            ],
            [
             0.4,
             "#fde0ef"
            ],
            [
             0.5,
             "#f7f7f7"
            ],
            [
             0.6,
             "#e6f5d0"
            ],
            [
             0.7,
             "#b8e186"
            ],
            [
             0.8,
             "#7fbc41"
            ],
            [
             0.9,
             "#4d9221"
            ],
            [
             1,
             "#276419"
            ]
           ],
           "sequential": [
            [
             0,
             "#0d0887"
            ],
            [
             0.1111111111111111,
             "#46039f"
            ],
            [
             0.2222222222222222,
             "#7201a8"
            ],
            [
             0.3333333333333333,
             "#9c179e"
            ],
            [
             0.4444444444444444,
             "#bd3786"
            ],
            [
             0.5555555555555556,
             "#d8576b"
            ],
            [
             0.6666666666666666,
             "#ed7953"
            ],
            [
             0.7777777777777778,
             "#fb9f3a"
            ],
            [
             0.8888888888888888,
             "#fdca26"
            ],
            [
             1,
             "#f0f921"
            ]
           ],
           "sequentialminus": [
            [
             0,
             "#0d0887"
            ],
            [
             0.1111111111111111,
             "#46039f"
            ],
            [
             0.2222222222222222,
             "#7201a8"
            ],
            [
             0.3333333333333333,
             "#9c179e"
            ],
            [
             0.4444444444444444,
             "#bd3786"
            ],
            [
             0.5555555555555556,
             "#d8576b"
            ],
            [
             0.6666666666666666,
             "#ed7953"
            ],
            [
             0.7777777777777778,
             "#fb9f3a"
            ],
            [
             0.8888888888888888,
             "#fdca26"
            ],
            [
             1,
             "#f0f921"
            ]
           ]
          },
          "colorway": [
           "#636efa",
           "#EF553B",
           "#00cc96",
           "#ab63fa",
           "#FFA15A",
           "#19d3f3",
           "#FF6692",
           "#B6E880",
           "#FF97FF",
           "#FECB52"
          ],
          "font": {
           "color": "#2a3f5f"
          },
          "geo": {
           "bgcolor": "white",
           "lakecolor": "white",
           "landcolor": "#E5ECF6",
           "showlakes": true,
           "showland": true,
           "subunitcolor": "white"
          },
          "hoverlabel": {
           "align": "left"
          },
          "hovermode": "closest",
          "mapbox": {
           "style": "light"
          },
          "paper_bgcolor": "white",
          "plot_bgcolor": "#E5ECF6",
          "polar": {
           "angularaxis": {
            "gridcolor": "white",
            "linecolor": "white",
            "ticks": ""
           },
           "bgcolor": "#E5ECF6",
           "radialaxis": {
            "gridcolor": "white",
            "linecolor": "white",
            "ticks": ""
           }
          },
          "scene": {
           "xaxis": {
            "backgroundcolor": "#E5ECF6",
            "gridcolor": "white",
            "gridwidth": 2,
            "linecolor": "white",
            "showbackground": true,
            "ticks": "",
            "zerolinecolor": "white"
           },
           "yaxis": {
            "backgroundcolor": "#E5ECF6",
            "gridcolor": "white",
            "gridwidth": 2,
            "linecolor": "white",
            "showbackground": true,
            "ticks": "",
            "zerolinecolor": "white"
           },
           "zaxis": {
            "backgroundcolor": "#E5ECF6",
            "gridcolor": "white",
            "gridwidth": 2,
            "linecolor": "white",
            "showbackground": true,
            "ticks": "",
            "zerolinecolor": "white"
           }
          },
          "shapedefaults": {
           "line": {
            "color": "#2a3f5f"
           }
          },
          "ternary": {
           "aaxis": {
            "gridcolor": "white",
            "linecolor": "white",
            "ticks": ""
           },
           "baxis": {
            "gridcolor": "white",
            "linecolor": "white",
            "ticks": ""
           },
           "bgcolor": "#E5ECF6",
           "caxis": {
            "gridcolor": "white",
            "linecolor": "white",
            "ticks": ""
           }
          },
          "title": {
           "x": 0.05
          },
          "xaxis": {
           "automargin": true,
           "gridcolor": "white",
           "linecolor": "white",
           "ticks": "",
           "title": {
            "standoff": 15
           },
           "zerolinecolor": "white",
           "zerolinewidth": 2
          },
          "yaxis": {
           "automargin": true,
           "gridcolor": "white",
           "linecolor": "white",
           "ticks": "",
           "title": {
            "standoff": 15
           },
           "zerolinecolor": "white",
           "zerolinewidth": 2
          }
         }
        },
        "title": {
         "text": "Machine Workload Visualization (Greedy Algorithm) for 2025-01-16"
        },
        "xaxis": {
         "anchor": "y",
         "domain": [
          0,
          1
         ],
         "type": "date"
        },
        "yaxis": {
         "anchor": "x",
         "categoryorder": "total ascending",
         "domain": [
          0,
          1
         ],
         "title": {
          "text": "Machine Index"
         }
        }
       }
      }
     },
     "metadata": {},
     "output_type": "display_data"
    }
   ],
   "source": [
    "from datetime import datetime, timedelta\n",
    "import pandas as pd\n",
    "import random\n",
    "from collections import defaultdict\n",
    "import heapq\n",
    "import plotly.express as px\n",
    "\n",
    "# FINAL FINAL FINAL FINAL FINAL AAAAAAAAAAAAAAAAAAAAAAAAAAAAAAAAAAAAAAAAAAAAAAAAAAAAAAAAAAAAAAAAAAAAAAAAAAAAAAAAAAAAAAAAAAAAA\n",
    "# Define divisions - set menu items \n",
    "divisions = {\n",
    "    \"Baking\": [\"Bread\", \"Croissant\", \"Danish Pastry\", \"Baguette\"],\n",
    "    \"Pastry\": [\"Cake\", \"Pie\", \"Cookies\", \"Brownies\"],\n",
    "    \"Confectionery\": [\"Macarons\", \"Cupcakes\", \"Muffins\", \"Donuts\", \"Bagels\"],\n",
    "    \"Butchery\": [\"Quiche\"]\n",
    "}\n",
    "\n",
    "# Define total available machinery\n",
    "total_machinery = {\n",
    "    \"Mixer\": 4,\n",
    "    \"Proofer\": 2,\n",
    "    \"Oven\": 3\n",
    "}\n",
    "\n",
    "# Define unit times for each machine and item (in minutes)\n",
    "unit_times = {\n",
    "    \"Mixer\": {\n",
    "        \"Bread\": 10,\n",
    "        \"Croissant\": 8,\n",
    "        \"Danish Pastry\": 12,\n",
    "        \"Cake\": 15,\n",
    "        \"Pie\": 20,\n",
    "        \"Cookies\": 5,\n",
    "        \"Brownies\": 8,\n",
    "        \"Macarons\": 3,\n",
    "        \"Cupcakes\": 4,\n",
    "        \"Muffins\": 5,\n",
    "        \"Donuts\": 6,\n",
    "        \"Bagels\": 7,\n",
    "        \"Quiche\": 10,\n",
    "        \"Baguette\": 15\n",
    "    },\n",
    "    \"Oven\": {\n",
    "        \"Bread\": 45,\n",
    "        \"Croissant\": 25,\n",
    "        \"Danish Pastry\": 30,\n",
    "        \"Cake\": 60,\n",
    "        \"Pie\": 40,\n",
    "        \"Cookies\": 15,\n",
    "        \"Brownies\": 20,\n",
    "        \"Macarons\": 10,\n",
    "        \"Cupcakes\": 12,\n",
    "        \"Muffins\": 10,\n",
    "        \"Donuts\": 8,\n",
    "        \"Bagels\": 15,\n",
    "        \"Quiche\": 30,\n",
    "        \"Baguette\": 15\n",
    "    },\n",
    "    \"Proofer\": {\n",
    "        \"Bread\": 60,\n",
    "        \"Croissant\": 30,\n",
    "        \"Danish Pastry\": 45,\n",
    "        \"Cake\": 0,\n",
    "        \"Pie\": 0,\n",
    "        \"Cookies\": 0,\n",
    "        \"Brownies\": 0,\n",
    "        \"Macarons\": 0,\n",
    "        \"Cupcakes\": 0,\n",
    "        \"Muffins\": 0,\n",
    "        \"Donuts\": 15,\n",
    "        \"Bagels\": 45,\n",
    "        \"Quiche\": 0,\n",
    "        \"Baguette\": 15\n",
    "    }\n",
    "}\n",
    "\n",
    "# Define machine downtime (in minutes)\n",
    "downtime = {\n",
    "    \"Mixer\": 15,\n",
    "    \"Oven\": 30,\n",
    "    \"Proofer\": 10,\n",
    "}\n",
    "\n",
    "def get_special_menu_input():\n",
    "    special_items = []\n",
    "    while True:\n",
    "        item_name = input(\"Enter special menu item (type 'done' to finish): \")\n",
    "        if item_name.lower() == \"done\":\n",
    "            break\n",
    "\n",
    "        print(\"Enter Division Responsible for this Menu item:\")\n",
    "        for i, division_name in enumerate(divisions.keys(), 1):  # Print divisions with numbers\n",
    "            print(f\"{i}. {division_name}\")\n",
    "\n",
    "        try:\n",
    "            division_choice = int(input(\"Choose a division (1-4): \"))\n",
    "            if division_choice not in range(1, len(divisions) + 1):  # Check against valid range\n",
    "                print(\"Invalid division. Please enter a valid division.\")\n",
    "                continue\n",
    "            division = list(divisions.keys())[division_choice - 1]  # Get division name by index\n",
    "        except (ValueError, IndexError):\n",
    "            print(\"Invalid input. Please enter a number between 1 and 4.\")\n",
    "            continue\n",
    "\n",
    "        processing_times = {}\n",
    "        for machine in total_machinery.keys():\n",
    "            try:\n",
    "                processing_time = int(input(f\"Enter processing time for {machine} in minutes: \"))\n",
    "                if processing_time < 0:\n",
    "                    raise ValueError\n",
    "                processing_times[machine] = processing_time\n",
    "            except ValueError:\n",
    "                print(\"Invalid input. Please enter a valid positive number.\")\n",
    "                continue\n",
    "\n",
    "        special_items.append({\n",
    "            \"name\": item_name,\n",
    "            \"division\": division,\n",
    "            \"processing_times\": processing_times\n",
    "        })\n",
    "\n",
    "    return special_items\n",
    "\n",
    "\n",
    "def schedule_tasks(date, special_items_input):\n",
    "    \"\"\"Schedules tasks for a given date, considering shared machinery, enforcing machine order for all divisions, including machine downtime, and minimizing unnecessary waiting.\"\"\"\n",
    "    schedule = defaultdict(lambda: defaultdict(list))\n",
    "    start_time = datetime.combine(date.date(), datetime.now().replace(hour=4, minute=0).time())\n",
    "\n",
    "    # Initialize machine_times with tuples of (time, machine_index)\n",
    "    machine_times = {machine: [(start_time, i) for i in range(total_machinery[machine])] for machine in total_machinery}\n",
    "\n",
    "    # Convert to heaps\n",
    "    for machine in machine_times:\n",
    "        heapq.heapify(machine_times[machine])\n",
    "\n",
    "    machine_order = [\"Mixer\", \"Proofer\", \"Oven\"]  # Define the machine order\n",
    "\n",
    "    # Create a dictionary to store tasks for each item\n",
    "    item_tasks = defaultdict(list)\n",
    "    for division_name, division_items in divisions.items():\n",
    "        all_items = division_items + [f\"Special: {item['name']}\" for item in special_items_input if item['division'] == division_name]\n",
    "        for item in all_items:\n",
    "            item_name = item if not item.startswith(\"Special: \") else item[9:]\n",
    "            processing_time = {machine: unit_times[machine].get(item_name, 0) for machine in machine_order}\n",
    "            if \"Special: \" in item:\n",
    "                special_item = next((i for i in special_items_input if i[\"name\"] == item_name), None)\n",
    "                if special_item:\n",
    "                    processing_time.update(special_item[\"processing_times\"])\n",
    "            for i, machine in enumerate(machine_order):\n",
    "                if processing_time[machine] > 0:\n",
    "                    item_tasks[item].append((division_name, machine, processing_time[machine]))  # Store tasks for each item\n",
    "\n",
    "    task_queue = []  # Initialize an empty task queue\n",
    "\n",
    "    # Initially add the first task for each item to the queue\n",
    "    for item, tasks in item_tasks.items():\n",
    "        task_queue.append((start_time, item, tasks[0][0], tasks[0][1], 0))  # Add first task for each item\n",
    "\n",
    "    heapq.heapify(task_queue)  # Sort task queue initially ------- INITIAL TASK QUEUE INDEPENDENT\n",
    "\n",
    "    # Initialize a dictionary to track machine usage\n",
    "    machine_index_used = {machine: [False] * total_machinery[machine] for machine in total_machinery}\n",
    "\n",
    "    while task_queue:\n",
    "        task_time, item, division_name, machine, task_index = heapq.heappop(task_queue)\n",
    "\n",
    "        # Find the earliest available machine of this type\n",
    "        machine_available_time, machine_index = heapq.heappop(machine_times[machine])\n",
    "\n",
    "        # Apply downtime if the machine has been used BEFORE this task\n",
    "        if machine_index_used[machine][machine_index]:\n",
    "            task_start_time = max(task_time, machine_available_time + timedelta(minutes=downtime[machine]))\n",
    "        else:\n",
    "            task_start_time = max(task_time, machine_available_time)\n",
    "        #Mark Current Machine as Used\n",
    "        machine_index_used[machine][machine_index] = True\n",
    "\n",
    "\n",
    "\n",
    "        # Schedule the task\n",
    "        schedule[division_name][machine].append((task_start_time, item, machine_index + 1))\n",
    "\n",
    "        # Update machine availability, incorporating processing time and downtime\n",
    "        task_completion_time = task_start_time + timedelta(minutes=item_tasks[item][task_index][2]) # task completion time WITHOUT downtime\n",
    "\n",
    "        #Calculate: downtime START\n",
    "        downtime_start_time = task_completion_time\n",
    "\n",
    "        # Add downtime to machine availability for next task on this machine.\n",
    "        \n",
    "        heapq.heappush(machine_times[machine], # biang kerok \n",
    "                       (downtime_start_time, machine_index))  # Update machine_times with downtime\n",
    "\n",
    "        # Add the next task for this item to the queue, if any\n",
    "        next_task_index = task_index + 1\n",
    "        if next_task_index < len(item_tasks[item]):\n",
    "            next_task = item_tasks[item][next_task_index]\n",
    "            # task_time for next task is the completion time of the current task WITHOUT downtime\n",
    "            next_task_time = task_completion_time  # Use completion time without downtime here\n",
    "            task_queue.append((next_task_time, item, next_task[0], next_task[1], next_task_index))\n",
    "\n",
    "        heapq.heapify(task_queue)  # Sort task queue after adding each task\n",
    "\n",
    "    return schedule\n",
    "\n",
    "def print_schedule(schedule, date):\n",
    "    \"\"\"Prints the schedule for a given date.\"\"\"\n",
    "    print(f\"\\nSchedule for {date.strftime('%Y-%m-%d')}:\")\n",
    "    for division, machines in schedule.items():\n",
    "        print(f\"  {division}:\")\n",
    "        for machine, tasks in machines.items():\n",
    "            print(f\"    {machine}:\")\n",
    "            for task_time, item, machine_number in tasks:\n",
    "                print(f\"      - {task_time.strftime('%H:%M')}: {item} (Machine {machine_number})\")\n",
    "\n",
    "\n",
    "def create_gantt_chart(schedule, date):\n",
    "    \"\"\"\n",
    "    Creates a Gantt chart from the schedule_tasks output, including downtime in red.\n",
    "\n",
    "    Args:\n",
    "        schedule (dict): The output from schedule_tasks.\n",
    "        date (datetime): The date for which the schedule is generated.\n",
    "    \"\"\"\n",
    "    df = []\n",
    "\n",
    "    for division, machines in schedule.items():\n",
    "        for machine, tasks in machines.items():\n",
    "            for task_time, item, machine_number in tasks:\n",
    "                # Calculate the finish time based on unit_times\n",
    "                finish_time = task_time + timedelta(minutes=unit_times.get(machine, {}).get(item, 0))\n",
    "\n",
    "                # Append tasks to the DataFrame\n",
    "                df.append(dict(\n",
    "                    Machine=f\"{machine} {machine_number}\",\n",
    "                    Start=task_time,\n",
    "                    Finish=finish_time,\n",
    "                    Item=item,\n",
    "                    Type=\"Task\"  # Add a 'Type' column to distinguish between tasks and downtime\n",
    "                ))\n",
    "\n",
    "                # Add downtime after the task\n",
    "                df.append(dict(\n",
    "                    Machine=f\"{machine} {machine_number}\",\n",
    "                    Start=finish_time,\n",
    "                    Finish=finish_time + timedelta(minutes=downtime[machine]),\n",
    "                    Item=\"Downtime\",\n",
    "                    Type=\"Downtime\"  # Add a 'Type' column to distinguish between tasks and downtime\n",
    "                ))\n",
    "\n",
    "    # Convert to DataFrame\n",
    "    df = pd.DataFrame(df)\n",
    "\n",
    "    # Ensure Start and Finish are datetime objects\n",
    "    df['Start'] = pd.to_datetime(df['Start'])\n",
    "    df['Finish'] = pd.to_datetime(df['Finish'])\n",
    "\n",
    "    # Create the Gantt chart using Plotly Express\n",
    "    # Define the colors for tasks and downtime\n",
    "    color_map = {\"Downtime\": \"grey\"}  # Set downtime color to black\n",
    "\n",
    "    fig = px.timeline(df, x_start=\"Start\", x_end=\"Finish\", y=\"Machine\", color=\"Item\",\n",
    "                      color_discrete_map=color_map,\n",
    "                      title=f\"Machine Workload Visualization (Greedy Algorithm) for {date.strftime('%Y-%m-%d')}\",\n",
    "                      labels={\"Item\": \"Menu Item\", \"Machine\": \"Machine Index\"})\n",
    "    # Update layout for better visibility\n",
    "    fig.update_yaxes(categoryorder=\"total ascending\")\n",
    "    fig.update_traces(marker=dict(line=dict(width=0)))\n",
    "\n",
    "    fig.show()\n",
    "\n",
    "# Example usage\n",
    "today = datetime.now()\n",
    "next_week = today + timedelta(days=7)\n",
    "\n",
    "special_items_input = get_special_menu_input()\n",
    "\n",
    "for date in [today, next_week]:\n",
    "    schedule = schedule_tasks(date, special_items_input)\n",
    "    create_gantt_chart(schedule, date)"
   ]
  },
  {
   "cell_type": "markdown",
   "metadata": {},
   "source": [
    "#+BIG O, time & space complexity"
   ]
  },
  {
   "cell_type": "code",
   "execution_count": 3,
   "metadata": {},
   "outputs": [
    {
     "name": "stdout",
     "output_type": "stream",
     "text": [
      "UNOPTIMIZED\n",
      "Total Performance Metrics for 2 days:\n",
      "  Total Time Taken: 2.168416976928711 ms\n",
      "  Peak Memory Usage: 4916 bytes\n",
      "\n",
      "\n",
      "==========================================================================\n",
      "\n",
      "\n"
     ]
    },
    {
     "data": {
      "application/vnd.plotly.v1+json": {
       "config": {
        "plotlyServerURL": "https://plot.ly"
       },
       "data": [
        {
         "alignmentgroup": "True",
         "base": [
          "2025-01-09T04:00:42.879451",
          "2025-01-09T04:07:42.879451",
          "2025-01-09T05:45:42.879451"
         ],
         "hovertemplate": "Menu Item=Bagels<br>Start=%{base}<br>Finish=%{x}<br>Machine Index=%{y}<extra></extra>",
         "legendgroup": "Bagels",
         "marker": {
          "color": "#EF553B",
          "line": {
           "width": 0
          },
          "pattern": {
           "shape": ""
          }
         },
         "name": "Bagels",
         "offsetgroup": "Bagels",
         "orientation": "h",
         "showlegend": true,
         "textposition": "auto",
         "type": "bar",
         "x": [
          420000,
          2700000,
          900000
         ],
         "xaxis": "x",
         "y": [
          "Mixer 1",
          "Proofer 1",
          "Oven 2"
         ],
         "yaxis": "y"
        },
        {
         "alignmentgroup": "True",
         "base": [
          "2025-01-09T04:07:42.879451",
          "2025-01-09T04:29:42.879451",
          "2025-01-09T04:48:42.879451",
          "2025-01-09T04:47:42.879451",
          "2025-01-09T04:51:42.879451",
          "2025-01-09T04:52:42.879451",
          "2025-01-09T05:57:42.879451",
          "2025-01-09T05:10:42.879451",
          "2025-01-09T05:22:42.879451",
          "2025-01-09T05:50:42.879451",
          "2025-01-09T06:00:42.879451",
          "2025-01-09T07:28:42.879451",
          "2025-01-09T04:10:42.879451",
          "2025-01-09T04:31:42.879451",
          "2025-01-09T04:42:42.879451",
          "2025-01-09T05:10:42.879451",
          "2025-01-09T05:32:42.879451",
          "2025-01-09T06:05:42.879451",
          "2025-01-09T06:37:42.879451",
          "2025-01-09T07:32:42.879451",
          "2025-01-09T08:10:42.879451",
          "2025-01-09T04:08:42.879451",
          "2025-01-09T04:15:42.879451",
          "2025-01-09T04:27:42.879451",
          "2025-01-09T05:17:42.879451",
          "2025-01-09T04:28:42.879451",
          "2025-01-09T05:15:42.879451",
          "2025-01-09T04:42:42.879451",
          "2025-01-09T07:10:42.879451",
          "2025-01-09T05:12:42.879451",
          "2025-01-09T06:50:42.879451"
         ],
         "hovertemplate": "Menu Item=Downtime<br>Start=%{base}<br>Finish=%{x}<br>Machine Index=%{y}<extra></extra>",
         "legendgroup": "Downtime",
         "marker": {
          "color": "grey",
          "line": {
           "width": 0
          },
          "pattern": {
           "shape": ""
          }
         },
         "name": "Downtime",
         "offsetgroup": "Downtime",
         "orientation": "h",
         "showlegend": true,
         "textposition": "auto",
         "type": "bar",
         "x": [
          900000,
          900000,
          900000,
          900000,
          900000,
          600000,
          600000,
          1800000,
          1800000,
          1800000,
          1800000,
          1800000,
          900000,
          900000,
          900000,
          600000,
          600000,
          600000,
          1800000,
          1800000,
          1800000,
          900000,
          900000,
          900000,
          900000,
          1800000,
          1800000,
          1800000,
          1800000,
          900000,
          1800000
         ],
         "xaxis": "x",
         "y": [
          "Mixer 1",
          "Mixer 2",
          "Mixer 1",
          "Mixer 2",
          "Mixer 3",
          "Proofer 1",
          "Proofer 1",
          "Oven 1",
          "Oven 3",
          "Oven 1",
          "Oven 2",
          "Oven 1",
          "Mixer 2",
          "Mixer 3",
          "Mixer 4",
          "Proofer 2",
          "Proofer 1",
          "Proofer 2",
          "Oven 3",
          "Oven 3",
          "Oven 2",
          "Mixer 3",
          "Mixer 4",
          "Mixer 1",
          "Mixer 4",
          "Oven 1",
          "Oven 2",
          "Oven 3",
          "Oven 2",
          "Mixer 2",
          "Oven 1"
         ],
         "yaxis": "y"
        },
        {
         "alignmentgroup": "True",
         "base": [
          "2025-01-09T04:25:42.879451",
          "2025-01-09T04:58:42.879451"
         ],
         "hovertemplate": "Menu Item=Cupcakes<br>Start=%{base}<br>Finish=%{x}<br>Machine Index=%{y}<extra></extra>",
         "legendgroup": "Cupcakes",
         "marker": {
          "color": "#00cc96",
          "line": {
           "width": 0
          },
          "pattern": {
           "shape": ""
          }
         },
         "name": "Cupcakes",
         "offsetgroup": "Cupcakes",
         "orientation": "h",
         "showlegend": true,
         "textposition": "auto",
         "type": "bar",
         "x": [
          240000,
          720000
         ],
         "xaxis": "x",
         "y": [
          "Mixer 2",
          "Oven 1"
         ],
         "yaxis": "y"
        },
        {
         "alignmentgroup": "True",
         "base": [
          "2025-01-09T04:42:42.879451",
          "2025-01-09T05:42:42.879451",
          "2025-01-09T07:20:42.879451"
         ],
         "hovertemplate": "Menu Item=Donuts<br>Start=%{base}<br>Finish=%{x}<br>Machine Index=%{y}<extra></extra>",
         "legendgroup": "Donuts",
         "marker": {
          "color": "#ab63fa",
          "line": {
           "width": 0
          },
          "pattern": {
           "shape": ""
          }
         },
         "name": "Donuts",
         "offsetgroup": "Donuts",
         "orientation": "h",
         "showlegend": true,
         "textposition": "auto",
         "type": "bar",
         "x": [
          360000,
          900000,
          480000
         ],
         "xaxis": "x",
         "y": [
          "Mixer 1",
          "Proofer 1",
          "Oven 1"
         ],
         "yaxis": "y"
        },
        {
         "alignmentgroup": "True",
         "base": [
          "2025-01-09T04:44:42.879451",
          "2025-01-09T05:12:42.879451"
         ],
         "hovertemplate": "Menu Item=Macarons<br>Start=%{base}<br>Finish=%{x}<br>Machine Index=%{y}<extra></extra>",
         "legendgroup": "Macarons",
         "marker": {
          "color": "#FFA15A",
          "line": {
           "width": 0
          },
          "pattern": {
           "shape": ""
          }
         },
         "name": "Macarons",
         "offsetgroup": "Macarons",
         "orientation": "h",
         "showlegend": true,
         "textposition": "auto",
         "type": "bar",
         "x": [
          180000,
          600000
         ],
         "xaxis": "x",
         "y": [
          "Mixer 2",
          "Oven 3"
         ],
         "yaxis": "y"
        },
        {
         "alignmentgroup": "True",
         "base": [
          "2025-01-09T04:46:42.879451",
          "2025-01-09T05:40:42.879451"
         ],
         "hovertemplate": "Menu Item=Muffins<br>Start=%{base}<br>Finish=%{x}<br>Machine Index=%{y}<extra></extra>",
         "legendgroup": "Muffins",
         "marker": {
          "color": "#19d3f3",
          "line": {
           "width": 0
          },
          "pattern": {
           "shape": ""
          }
         },
         "name": "Muffins",
         "offsetgroup": "Muffins",
         "orientation": "h",
         "showlegend": true,
         "textposition": "auto",
         "type": "bar",
         "x": [
          300000,
          600000
         ],
         "xaxis": "x",
         "y": [
          "Mixer 3",
          "Oven 1"
         ],
         "yaxis": "y"
        },
        {
         "alignmentgroup": "True",
         "base": [
          "2025-01-09T04:00:42.879451",
          "2025-01-09T04:10:42.879451",
          "2025-01-09T05:52:42.879451"
         ],
         "hovertemplate": "Menu Item=Bread<br>Start=%{base}<br>Finish=%{x}<br>Machine Index=%{y}<extra></extra>",
         "legendgroup": "Bread",
         "marker": {
          "color": "#FF6692",
          "line": {
           "width": 0
          },
          "pattern": {
           "shape": ""
          }
         },
         "name": "Bread",
         "offsetgroup": "Bread",
         "orientation": "h",
         "showlegend": true,
         "textposition": "auto",
         "type": "bar",
         "x": [
          600000,
          3600000,
          2700000
         ],
         "xaxis": "x",
         "y": [
          "Mixer 2",
          "Proofer 2",
          "Oven 3"
         ],
         "yaxis": "y"
        },
        {
         "alignmentgroup": "True",
         "base": [
          "2025-01-09T04:23:42.879451",
          "2025-01-09T05:02:42.879451",
          "2025-01-09T07:07:42.879451"
         ],
         "hovertemplate": "Menu Item=Croissant<br>Start=%{base}<br>Finish=%{x}<br>Machine Index=%{y}<extra></extra>",
         "legendgroup": "Croissant",
         "marker": {
          "color": "#B6E880",
          "line": {
           "width": 0
          },
          "pattern": {
           "shape": ""
          }
         },
         "name": "Croissant",
         "offsetgroup": "Croissant",
         "orientation": "h",
         "showlegend": true,
         "textposition": "auto",
         "type": "bar",
         "x": [
          480000,
          1800000,
          1500000
         ],
         "xaxis": "x",
         "y": [
          "Mixer 3",
          "Proofer 1",
          "Oven 3"
         ],
         "yaxis": "y"
        },
        {
         "alignmentgroup": "True",
         "base": [
          "2025-01-09T04:30:42.879451",
          "2025-01-09T05:20:42.879451",
          "2025-01-09T07:40:42.879451"
         ],
         "hovertemplate": "Menu Item=Danish Pastry<br>Start=%{base}<br>Finish=%{x}<br>Machine Index=%{y}<extra></extra>",
         "legendgroup": "Danish Pastry",
         "marker": {
          "color": "#FF97FF",
          "line": {
           "width": 0
          },
          "pattern": {
           "shape": ""
          }
         },
         "name": "Danish Pastry",
         "offsetgroup": "Danish Pastry",
         "orientation": "h",
         "showlegend": true,
         "textposition": "auto",
         "type": "bar",
         "x": [
          720000,
          2700000,
          1800000
         ],
         "xaxis": "x",
         "y": [
          "Mixer 4",
          "Proofer 2",
          "Oven 2"
         ],
         "yaxis": "y"
        },
        {
         "alignmentgroup": "True",
         "base": [
          "2025-01-09T04:00:42.879451",
          "2025-01-09T04:08:42.879451"
         ],
         "hovertemplate": "Menu Item=Brownies<br>Start=%{base}<br>Finish=%{x}<br>Machine Index=%{y}<extra></extra>",
         "legendgroup": "Brownies",
         "marker": {
          "color": "#FECB52",
          "line": {
           "width": 0
          },
          "pattern": {
           "shape": ""
          }
         },
         "name": "Brownies",
         "offsetgroup": "Brownies",
         "orientation": "h",
         "showlegend": true,
         "textposition": "auto",
         "type": "bar",
         "x": [
          480000,
          1200000
         ],
         "xaxis": "x",
         "y": [
          "Mixer 3",
          "Oven 1"
         ],
         "yaxis": "y"
        },
        {
         "alignmentgroup": "True",
         "base": [
          "2025-01-09T04:00:42.879451",
          "2025-01-09T04:15:42.879451"
         ],
         "hovertemplate": "Menu Item=Cake<br>Start=%{base}<br>Finish=%{x}<br>Machine Index=%{y}<extra></extra>",
         "legendgroup": "Cake",
         "marker": {
          "color": "#636efa",
          "line": {
           "width": 0
          },
          "pattern": {
           "shape": ""
          }
         },
         "name": "Cake",
         "offsetgroup": "Cake",
         "orientation": "h",
         "showlegend": true,
         "textposition": "auto",
         "type": "bar",
         "x": [
          900000,
          3600000
         ],
         "xaxis": "x",
         "y": [
          "Mixer 4",
          "Oven 2"
         ],
         "yaxis": "y"
        },
        {
         "alignmentgroup": "True",
         "base": [
          "2025-01-09T04:22:42.879451",
          "2025-01-09T04:27:42.879451"
         ],
         "hovertemplate": "Menu Item=Cookies<br>Start=%{base}<br>Finish=%{x}<br>Machine Index=%{y}<extra></extra>",
         "legendgroup": "Cookies",
         "marker": {
          "color": "#EF553B",
          "line": {
           "width": 0
          },
          "pattern": {
           "shape": ""
          }
         },
         "name": "Cookies",
         "offsetgroup": "Cookies",
         "orientation": "h",
         "showlegend": true,
         "textposition": "auto",
         "type": "bar",
         "x": [
          300000,
          900000
         ],
         "xaxis": "x",
         "y": [
          "Mixer 1",
          "Oven 3"
         ],
         "yaxis": "y"
        },
        {
         "alignmentgroup": "True",
         "base": [
          "2025-01-09T04:57:42.879451",
          "2025-01-09T06:30:42.879451"
         ],
         "hovertemplate": "Menu Item=Pie<br>Start=%{base}<br>Finish=%{x}<br>Machine Index=%{y}<extra></extra>",
         "legendgroup": "Pie",
         "marker": {
          "color": "#00cc96",
          "line": {
           "width": 0
          },
          "pattern": {
           "shape": ""
          }
         },
         "name": "Pie",
         "offsetgroup": "Pie",
         "orientation": "h",
         "showlegend": true,
         "textposition": "auto",
         "type": "bar",
         "x": [
          1200000,
          2400000
         ],
         "xaxis": "x",
         "y": [
          "Mixer 4",
          "Oven 2"
         ],
         "yaxis": "y"
        },
        {
         "alignmentgroup": "True",
         "base": [
          "2025-01-09T05:02:42.879451",
          "2025-01-09T06:20:42.879451"
         ],
         "hovertemplate": "Menu Item=Quiche<br>Start=%{base}<br>Finish=%{x}<br>Machine Index=%{y}<extra></extra>",
         "legendgroup": "Quiche",
         "marker": {
          "color": "#ab63fa",
          "line": {
           "width": 0
          },
          "pattern": {
           "shape": ""
          }
         },
         "name": "Quiche",
         "offsetgroup": "Quiche",
         "orientation": "h",
         "showlegend": true,
         "textposition": "auto",
         "type": "bar",
         "x": [
          600000,
          1800000
         ],
         "xaxis": "x",
         "y": [
          "Mixer 2",
          "Oven 1"
         ],
         "yaxis": "y"
        }
       ],
       "layout": {
        "barmode": "overlay",
        "legend": {
         "title": {
          "text": "Menu Item"
         },
         "tracegroupgap": 0
        },
        "template": {
         "data": {
          "bar": [
           {
            "error_x": {
             "color": "#2a3f5f"
            },
            "error_y": {
             "color": "#2a3f5f"
            },
            "marker": {
             "line": {
              "color": "#E5ECF6",
              "width": 0.5
             },
             "pattern": {
              "fillmode": "overlay",
              "size": 10,
              "solidity": 0.2
             }
            },
            "type": "bar"
           }
          ],
          "barpolar": [
           {
            "marker": {
             "line": {
              "color": "#E5ECF6",
              "width": 0.5
             },
             "pattern": {
              "fillmode": "overlay",
              "size": 10,
              "solidity": 0.2
             }
            },
            "type": "barpolar"
           }
          ],
          "carpet": [
           {
            "aaxis": {
             "endlinecolor": "#2a3f5f",
             "gridcolor": "white",
             "linecolor": "white",
             "minorgridcolor": "white",
             "startlinecolor": "#2a3f5f"
            },
            "baxis": {
             "endlinecolor": "#2a3f5f",
             "gridcolor": "white",
             "linecolor": "white",
             "minorgridcolor": "white",
             "startlinecolor": "#2a3f5f"
            },
            "type": "carpet"
           }
          ],
          "choropleth": [
           {
            "colorbar": {
             "outlinewidth": 0,
             "ticks": ""
            },
            "type": "choropleth"
           }
          ],
          "contour": [
           {
            "colorbar": {
             "outlinewidth": 0,
             "ticks": ""
            },
            "colorscale": [
             [
              0,
              "#0d0887"
             ],
             [
              0.1111111111111111,
              "#46039f"
             ],
             [
              0.2222222222222222,
              "#7201a8"
             ],
             [
              0.3333333333333333,
              "#9c179e"
             ],
             [
              0.4444444444444444,
              "#bd3786"
             ],
             [
              0.5555555555555556,
              "#d8576b"
             ],
             [
              0.6666666666666666,
              "#ed7953"
             ],
             [
              0.7777777777777778,
              "#fb9f3a"
             ],
             [
              0.8888888888888888,
              "#fdca26"
             ],
             [
              1,
              "#f0f921"
             ]
            ],
            "type": "contour"
           }
          ],
          "contourcarpet": [
           {
            "colorbar": {
             "outlinewidth": 0,
             "ticks": ""
            },
            "type": "contourcarpet"
           }
          ],
          "heatmap": [
           {
            "colorbar": {
             "outlinewidth": 0,
             "ticks": ""
            },
            "colorscale": [
             [
              0,
              "#0d0887"
             ],
             [
              0.1111111111111111,
              "#46039f"
             ],
             [
              0.2222222222222222,
              "#7201a8"
             ],
             [
              0.3333333333333333,
              "#9c179e"
             ],
             [
              0.4444444444444444,
              "#bd3786"
             ],
             [
              0.5555555555555556,
              "#d8576b"
             ],
             [
              0.6666666666666666,
              "#ed7953"
             ],
             [
              0.7777777777777778,
              "#fb9f3a"
             ],
             [
              0.8888888888888888,
              "#fdca26"
             ],
             [
              1,
              "#f0f921"
             ]
            ],
            "type": "heatmap"
           }
          ],
          "heatmapgl": [
           {
            "colorbar": {
             "outlinewidth": 0,
             "ticks": ""
            },
            "colorscale": [
             [
              0,
              "#0d0887"
             ],
             [
              0.1111111111111111,
              "#46039f"
             ],
             [
              0.2222222222222222,
              "#7201a8"
             ],
             [
              0.3333333333333333,
              "#9c179e"
             ],
             [
              0.4444444444444444,
              "#bd3786"
             ],
             [
              0.5555555555555556,
              "#d8576b"
             ],
             [
              0.6666666666666666,
              "#ed7953"
             ],
             [
              0.7777777777777778,
              "#fb9f3a"
             ],
             [
              0.8888888888888888,
              "#fdca26"
             ],
             [
              1,
              "#f0f921"
             ]
            ],
            "type": "heatmapgl"
           }
          ],
          "histogram": [
           {
            "marker": {
             "pattern": {
              "fillmode": "overlay",
              "size": 10,
              "solidity": 0.2
             }
            },
            "type": "histogram"
           }
          ],
          "histogram2d": [
           {
            "colorbar": {
             "outlinewidth": 0,
             "ticks": ""
            },
            "colorscale": [
             [
              0,
              "#0d0887"
             ],
             [
              0.1111111111111111,
              "#46039f"
             ],
             [
              0.2222222222222222,
              "#7201a8"
             ],
             [
              0.3333333333333333,
              "#9c179e"
             ],
             [
              0.4444444444444444,
              "#bd3786"
             ],
             [
              0.5555555555555556,
              "#d8576b"
             ],
             [
              0.6666666666666666,
              "#ed7953"
             ],
             [
              0.7777777777777778,
              "#fb9f3a"
             ],
             [
              0.8888888888888888,
              "#fdca26"
             ],
             [
              1,
              "#f0f921"
             ]
            ],
            "type": "histogram2d"
           }
          ],
          "histogram2dcontour": [
           {
            "colorbar": {
             "outlinewidth": 0,
             "ticks": ""
            },
            "colorscale": [
             [
              0,
              "#0d0887"
             ],
             [
              0.1111111111111111,
              "#46039f"
             ],
             [
              0.2222222222222222,
              "#7201a8"
             ],
             [
              0.3333333333333333,
              "#9c179e"
             ],
             [
              0.4444444444444444,
              "#bd3786"
             ],
             [
              0.5555555555555556,
              "#d8576b"
             ],
             [
              0.6666666666666666,
              "#ed7953"
             ],
             [
              0.7777777777777778,
              "#fb9f3a"
             ],
             [
              0.8888888888888888,
              "#fdca26"
             ],
             [
              1,
              "#f0f921"
             ]
            ],
            "type": "histogram2dcontour"
           }
          ],
          "mesh3d": [
           {
            "colorbar": {
             "outlinewidth": 0,
             "ticks": ""
            },
            "type": "mesh3d"
           }
          ],
          "parcoords": [
           {
            "line": {
             "colorbar": {
              "outlinewidth": 0,
              "ticks": ""
             }
            },
            "type": "parcoords"
           }
          ],
          "pie": [
           {
            "automargin": true,
            "type": "pie"
           }
          ],
          "scatter": [
           {
            "fillpattern": {
             "fillmode": "overlay",
             "size": 10,
             "solidity": 0.2
            },
            "type": "scatter"
           }
          ],
          "scatter3d": [
           {
            "line": {
             "colorbar": {
              "outlinewidth": 0,
              "ticks": ""
             }
            },
            "marker": {
             "colorbar": {
              "outlinewidth": 0,
              "ticks": ""
             }
            },
            "type": "scatter3d"
           }
          ],
          "scattercarpet": [
           {
            "marker": {
             "colorbar": {
              "outlinewidth": 0,
              "ticks": ""
             }
            },
            "type": "scattercarpet"
           }
          ],
          "scattergeo": [
           {
            "marker": {
             "colorbar": {
              "outlinewidth": 0,
              "ticks": ""
             }
            },
            "type": "scattergeo"
           }
          ],
          "scattergl": [
           {
            "marker": {
             "colorbar": {
              "outlinewidth": 0,
              "ticks": ""
             }
            },
            "type": "scattergl"
           }
          ],
          "scattermapbox": [
           {
            "marker": {
             "colorbar": {
              "outlinewidth": 0,
              "ticks": ""
             }
            },
            "type": "scattermapbox"
           }
          ],
          "scatterpolar": [
           {
            "marker": {
             "colorbar": {
              "outlinewidth": 0,
              "ticks": ""
             }
            },
            "type": "scatterpolar"
           }
          ],
          "scatterpolargl": [
           {
            "marker": {
             "colorbar": {
              "outlinewidth": 0,
              "ticks": ""
             }
            },
            "type": "scatterpolargl"
           }
          ],
          "scatterternary": [
           {
            "marker": {
             "colorbar": {
              "outlinewidth": 0,
              "ticks": ""
             }
            },
            "type": "scatterternary"
           }
          ],
          "surface": [
           {
            "colorbar": {
             "outlinewidth": 0,
             "ticks": ""
            },
            "colorscale": [
             [
              0,
              "#0d0887"
             ],
             [
              0.1111111111111111,
              "#46039f"
             ],
             [
              0.2222222222222222,
              "#7201a8"
             ],
             [
              0.3333333333333333,
              "#9c179e"
             ],
             [
              0.4444444444444444,
              "#bd3786"
             ],
             [
              0.5555555555555556,
              "#d8576b"
             ],
             [
              0.6666666666666666,
              "#ed7953"
             ],
             [
              0.7777777777777778,
              "#fb9f3a"
             ],
             [
              0.8888888888888888,
              "#fdca26"
             ],
             [
              1,
              "#f0f921"
             ]
            ],
            "type": "surface"
           }
          ],
          "table": [
           {
            "cells": {
             "fill": {
              "color": "#EBF0F8"
             },
             "line": {
              "color": "white"
             }
            },
            "header": {
             "fill": {
              "color": "#C8D4E3"
             },
             "line": {
              "color": "white"
             }
            },
            "type": "table"
           }
          ]
         },
         "layout": {
          "annotationdefaults": {
           "arrowcolor": "#2a3f5f",
           "arrowhead": 0,
           "arrowwidth": 1
          },
          "autotypenumbers": "strict",
          "coloraxis": {
           "colorbar": {
            "outlinewidth": 0,
            "ticks": ""
           }
          },
          "colorscale": {
           "diverging": [
            [
             0,
             "#8e0152"
            ],
            [
             0.1,
             "#c51b7d"
            ],
            [
             0.2,
             "#de77ae"
            ],
            [
             0.3,
             "#f1b6da"
            ],
            [
             0.4,
             "#fde0ef"
            ],
            [
             0.5,
             "#f7f7f7"
            ],
            [
             0.6,
             "#e6f5d0"
            ],
            [
             0.7,
             "#b8e186"
            ],
            [
             0.8,
             "#7fbc41"
            ],
            [
             0.9,
             "#4d9221"
            ],
            [
             1,
             "#276419"
            ]
           ],
           "sequential": [
            [
             0,
             "#0d0887"
            ],
            [
             0.1111111111111111,
             "#46039f"
            ],
            [
             0.2222222222222222,
             "#7201a8"
            ],
            [
             0.3333333333333333,
             "#9c179e"
            ],
            [
             0.4444444444444444,
             "#bd3786"
            ],
            [
             0.5555555555555556,
             "#d8576b"
            ],
            [
             0.6666666666666666,
             "#ed7953"
            ],
            [
             0.7777777777777778,
             "#fb9f3a"
            ],
            [
             0.8888888888888888,
             "#fdca26"
            ],
            [
             1,
             "#f0f921"
            ]
           ],
           "sequentialminus": [
            [
             0,
             "#0d0887"
            ],
            [
             0.1111111111111111,
             "#46039f"
            ],
            [
             0.2222222222222222,
             "#7201a8"
            ],
            [
             0.3333333333333333,
             "#9c179e"
            ],
            [
             0.4444444444444444,
             "#bd3786"
            ],
            [
             0.5555555555555556,
             "#d8576b"
            ],
            [
             0.6666666666666666,
             "#ed7953"
            ],
            [
             0.7777777777777778,
             "#fb9f3a"
            ],
            [
             0.8888888888888888,
             "#fdca26"
            ],
            [
             1,
             "#f0f921"
            ]
           ]
          },
          "colorway": [
           "#636efa",
           "#EF553B",
           "#00cc96",
           "#ab63fa",
           "#FFA15A",
           "#19d3f3",
           "#FF6692",
           "#B6E880",
           "#FF97FF",
           "#FECB52"
          ],
          "font": {
           "color": "#2a3f5f"
          },
          "geo": {
           "bgcolor": "white",
           "lakecolor": "white",
           "landcolor": "#E5ECF6",
           "showlakes": true,
           "showland": true,
           "subunitcolor": "white"
          },
          "hoverlabel": {
           "align": "left"
          },
          "hovermode": "closest",
          "mapbox": {
           "style": "light"
          },
          "paper_bgcolor": "white",
          "plot_bgcolor": "#E5ECF6",
          "polar": {
           "angularaxis": {
            "gridcolor": "white",
            "linecolor": "white",
            "ticks": ""
           },
           "bgcolor": "#E5ECF6",
           "radialaxis": {
            "gridcolor": "white",
            "linecolor": "white",
            "ticks": ""
           }
          },
          "scene": {
           "xaxis": {
            "backgroundcolor": "#E5ECF6",
            "gridcolor": "white",
            "gridwidth": 2,
            "linecolor": "white",
            "showbackground": true,
            "ticks": "",
            "zerolinecolor": "white"
           },
           "yaxis": {
            "backgroundcolor": "#E5ECF6",
            "gridcolor": "white",
            "gridwidth": 2,
            "linecolor": "white",
            "showbackground": true,
            "ticks": "",
            "zerolinecolor": "white"
           },
           "zaxis": {
            "backgroundcolor": "#E5ECF6",
            "gridcolor": "white",
            "gridwidth": 2,
            "linecolor": "white",
            "showbackground": true,
            "ticks": "",
            "zerolinecolor": "white"
           }
          },
          "shapedefaults": {
           "line": {
            "color": "#2a3f5f"
           }
          },
          "ternary": {
           "aaxis": {
            "gridcolor": "white",
            "linecolor": "white",
            "ticks": ""
           },
           "baxis": {
            "gridcolor": "white",
            "linecolor": "white",
            "ticks": ""
           },
           "bgcolor": "#E5ECF6",
           "caxis": {
            "gridcolor": "white",
            "linecolor": "white",
            "ticks": ""
           }
          },
          "title": {
           "x": 0.05
          },
          "xaxis": {
           "automargin": true,
           "gridcolor": "white",
           "linecolor": "white",
           "ticks": "",
           "title": {
            "standoff": 15
           },
           "zerolinecolor": "white",
           "zerolinewidth": 2
          },
          "yaxis": {
           "automargin": true,
           "gridcolor": "white",
           "linecolor": "white",
           "ticks": "",
           "title": {
            "standoff": 15
           },
           "zerolinecolor": "white",
           "zerolinewidth": 2
          }
         }
        },
        "title": {
         "text": "Machine Workload Visualization (Greedy Algorithm) for 2025-01-09"
        },
        "xaxis": {
         "anchor": "y",
         "domain": [
          0,
          1
         ],
         "type": "date"
        },
        "yaxis": {
         "anchor": "x",
         "categoryorder": "total ascending",
         "domain": [
          0,
          1
         ],
         "title": {
          "text": "Machine Index"
         }
        }
       }
      }
     },
     "metadata": {},
     "output_type": "display_data"
    }
   ],
   "source": [
    "from datetime import datetime, timedelta\n",
    "import pandas as pd\n",
    "import random\n",
    "from collections import defaultdict\n",
    "import heapq\n",
    "import plotly.express as px\n",
    "\n",
    "import time\n",
    "import tracemalloc\n",
    "\n",
    "# FINAL FINAL FINAL FINAL FINAL AAAAAAAAAAAAAAAAAAAAAAAAAAAAAAAAAAAAAAAAAAAAAAAAAAAAAAAAAAAAAAAAAAAAAAAAAAAAAAAAAAAAAAAAAAAAA\n",
    "# Define divisions - set menu items \n",
    "divisions = {\n",
    "    \"Baking\": [\"Bread\", \"Croissant\", \"Danish Pastry\"],\n",
    "    \"Pastry\": [\"Cake\", \"Pie\", \"Cookies\", \"Brownies\"],\n",
    "    \"Confectionery\": [\"Macarons\", \"Cupcakes\", \"Muffins\", \"Donuts\", \"Bagels\"],\n",
    "    \"Butchery\": [\"Quiche\"]\n",
    "}\n",
    "\n",
    "# Define total available machinery\n",
    "total_machinery = {\n",
    "    \"Mixer\": 4,\n",
    "    \"Proofer\": 2,\n",
    "    \"Oven\": 3\n",
    "}\n",
    "\n",
    "# Define unit times for each machine and item (in minutes)\n",
    "unit_times = {\n",
    "    \"Mixer\": {\n",
    "        \"Bread\": 10,\n",
    "        \"Croissant\": 8,\n",
    "        \"Danish Pastry\": 12,\n",
    "        \"Cake\": 15,\n",
    "        \"Pie\": 20,\n",
    "        \"Cookies\": 5,\n",
    "        \"Brownies\": 8,\n",
    "        \"Macarons\": 3,\n",
    "        \"Cupcakes\": 4,\n",
    "        \"Muffins\": 5,\n",
    "        \"Donuts\": 6,\n",
    "        \"Bagels\": 7,\n",
    "        \"Quiche\": 10\n",
    "    },\n",
    "    \"Oven\": {\n",
    "        \"Bread\": 45,\n",
    "        \"Croissant\": 25,\n",
    "        \"Danish Pastry\": 30,\n",
    "        \"Cake\": 60,\n",
    "        \"Pie\": 40,\n",
    "        \"Cookies\": 15,\n",
    "        \"Brownies\": 20,\n",
    "        \"Macarons\": 10,\n",
    "        \"Cupcakes\": 12,\n",
    "        \"Muffins\": 10,\n",
    "        \"Donuts\": 8,\n",
    "        \"Bagels\": 15,\n",
    "        \"Quiche\": 30\n",
    "    },\n",
    "    \"Proofer\": {\n",
    "        \"Bread\": 60,\n",
    "        \"Croissant\": 30,\n",
    "        \"Danish Pastry\": 45,\n",
    "        \"Cake\": 0,\n",
    "        \"Pie\": 0,\n",
    "        \"Cookies\": 0,\n",
    "        \"Brownies\": 0,\n",
    "        \"Macarons\": 0,\n",
    "        \"Cupcakes\": 0,\n",
    "        \"Muffins\": 0,\n",
    "        \"Donuts\": 15,\n",
    "        \"Bagels\": 45,\n",
    "        \"Quiche\": 0\n",
    "    }\n",
    "}\n",
    "\n",
    "# Define machine downtime (in minutes)\n",
    "downtime = {\n",
    "    \"Mixer\": 15,\n",
    "    \"Oven\": 30,\n",
    "    \"Proofer\": 10,\n",
    "}\n",
    "\n",
    "def get_special_menu_input():\n",
    "    special_items = []\n",
    "    while True:\n",
    "        item_name = input(\"Enter special menu item (type 'done' to finish): \")\n",
    "        if item_name.lower() == \"done\":\n",
    "            break\n",
    "\n",
    "        print(\"Enter Division Responsible for this Menu item:\")\n",
    "        for i, division_name in enumerate(divisions.keys(), 1):  # Print divisions with numbers\n",
    "            print(f\"{i}. {division_name}\")\n",
    "\n",
    "        try:\n",
    "            division_choice = int(input(\"Choose a division (1-4): \"))\n",
    "            if division_choice not in range(1, len(divisions) + 1):  # Check against valid range\n",
    "                print(\"Invalid division. Please enter a valid division.\")\n",
    "                continue\n",
    "            division = list(divisions.keys())[division_choice - 1]  # Get division name by index\n",
    "        except (ValueError, IndexError):\n",
    "            print(\"Invalid input. Please enter a number between 1 and 4.\")\n",
    "            continue\n",
    "\n",
    "        processing_times = {}\n",
    "        for machine in total_machinery.keys():\n",
    "            try:\n",
    "                processing_time = int(input(f\"Enter processing time for {machine} in minutes: \"))\n",
    "                if processing_time < 0:\n",
    "                    raise ValueError\n",
    "                processing_times[machine] = processing_time\n",
    "            except ValueError:\n",
    "                print(\"Invalid input. Please enter a valid positive number.\")\n",
    "                continue\n",
    "\n",
    "        special_items.append({\n",
    "            \"name\": item_name,\n",
    "            \"division\": division,\n",
    "            \"processing_times\": processing_times\n",
    "        })\n",
    "\n",
    "    return special_items\n",
    "\n",
    "\n",
    "def schedule_tasks(date, special_items_input):\n",
    "    \"\"\"Schedules tasks for a given date, considering shared machinery, enforcing machine order for all divisions, including machine downtime, and minimizing unnecessary waiting.\"\"\"\n",
    "    schedule = defaultdict(lambda: defaultdict(list))\n",
    "    start_time = datetime.combine(date.date(), datetime.now().replace(hour=4, minute=0).time())\n",
    "\n",
    "    # Initialize machine_times with tuples of (time, machine_index)\n",
    "    machine_times = {machine: [(start_time, i) for i in range(total_machinery[machine])] for machine in total_machinery}\n",
    "\n",
    "    # Convert to heaps\n",
    "    for machine in machine_times:\n",
    "        heapq.heapify(machine_times[machine])\n",
    "\n",
    "    machine_order = [\"Mixer\", \"Proofer\", \"Oven\"]  # Define the machine order\n",
    "\n",
    "    # Create a dictionary to store tasks for each item\n",
    "    item_tasks = defaultdict(list)\n",
    "    for division_name, division_items in divisions.items():\n",
    "        all_items = division_items + [f\"Special: {item['name']}\" for item in special_items_input if item['division'] == division_name]\n",
    "        for item in all_items:\n",
    "            item_name = item if not item.startswith(\"Special: \") else item[9:]\n",
    "            processing_time = {machine: unit_times[machine].get(item_name, 0) for machine in machine_order}\n",
    "            if \"Special: \" in item:\n",
    "                special_item = next((i for i in special_items_input if i[\"name\"] == item_name), None)\n",
    "                if special_item:\n",
    "                    processing_time.update(special_item[\"processing_times\"])\n",
    "            for i, machine in enumerate(machine_order):\n",
    "                if processing_time[machine] > 0:\n",
    "                    item_tasks[item].append((division_name, machine, processing_time[machine]))  # Store tasks for each item\n",
    "\n",
    "    task_queue = []  # Initialize an empty task queue\n",
    "\n",
    "    # Initially add the first task for each item to the queue\n",
    "    for item, tasks in item_tasks.items():\n",
    "        task_queue.append((start_time, item, tasks[0][0], tasks[0][1], 0))  # Add first task for each item\n",
    "\n",
    "    heapq.heapify(task_queue)  # Sort task queue initially ------- INITIAL TASK QUEUE INDEPENDENT\n",
    "\n",
    "    # Initialize a dictionary to track machine usage\n",
    "    machine_index_used = {machine: [False] * total_machinery[machine] for machine in total_machinery}\n",
    "\n",
    "    while task_queue:\n",
    "        task_time, item, division_name, machine, task_index = heapq.heappop(task_queue)\n",
    "\n",
    "        # Find the earliest available machine of this type\n",
    "        machine_available_time, machine_index = heapq.heappop(machine_times[machine])\n",
    "\n",
    "        # Apply downtime if the machine has been used BEFORE this task\n",
    "        if machine_index_used[machine][machine_index]:\n",
    "            task_start_time = max(task_time, machine_available_time + timedelta(minutes=downtime[machine]))\n",
    "        else:\n",
    "            task_start_time = max(task_time, machine_available_time)\n",
    "        #Mark Current Machine as Used\n",
    "        machine_index_used[machine][machine_index] = True\n",
    "\n",
    "\n",
    "\n",
    "        # Schedule the task\n",
    "        schedule[division_name][machine].append((task_start_time, item, machine_index + 1))\n",
    "\n",
    "        # Update machine availability, incorporating processing time and downtime\n",
    "        task_completion_time = task_start_time + timedelta(minutes=item_tasks[item][task_index][2]) # task completion time WITHOUT downtime\n",
    "\n",
    "        #Calculate: downtime START\n",
    "        downtime_start_time = task_completion_time\n",
    "\n",
    "        # Add downtime to machine availability for next task on this machine.\n",
    "       \n",
    "        heapq.heappush(machine_times[machine], # biang kerok \n",
    "                       (downtime_start_time, machine_index))  # Update machine_times with downtime\n",
    "\n",
    "        # Add the next task for this item to the queue, if any\n",
    "        next_task_index = task_index + 1\n",
    "        if next_task_index < len(item_tasks[item]):\n",
    "            next_task = item_tasks[item][next_task_index]\n",
    "            # task_time for next task is the completion time of the current task WITHOUT downtime\n",
    "            next_task_time = task_completion_time  # Use completion time without downtime here\n",
    "            task_queue.append((next_task_time, item, next_task[0], next_task[1], next_task_index))\n",
    "\n",
    "        heapq.heapify(task_queue)  # Sort task queue after adding each task\n",
    "\n",
    "    return schedule\n",
    "\n",
    "def print_schedule(schedule, date):\n",
    "    \"\"\"Prints the schedule for a given date.\"\"\"\n",
    "    print(f\"\\nSchedule for {date.strftime('%Y-%m-%d')}:\")\n",
    "    for division, machines in schedule.items():\n",
    "        print(f\"  {division}:\")\n",
    "        for machine, tasks in machines.items():\n",
    "            print(f\"    {machine}:\")\n",
    "            for task_time, item, machine_number in tasks:\n",
    "                print(f\"      - {task_time.strftime('%H:%M')}: {item} (Machine {machine_number})\")\n",
    "\n",
    "\n",
    "def create_gantt_chart(schedule, date):\n",
    "    \"\"\"\n",
    "    Creates a Gantt chart from the schedule_tasks output, including downtime in red.\n",
    "\n",
    "    Args:\n",
    "        schedule (dict): The output from schedule_tasks.\n",
    "        date (datetime): The date for which the schedule is generated.\n",
    "    \"\"\"\n",
    "    df = []\n",
    "\n",
    "    for division, machines in schedule.items():\n",
    "        for machine, tasks in machines.items():\n",
    "            for task_time, item, machine_number in tasks:\n",
    "                # Calculate the finish time based on unit_times\n",
    "                finish_time = task_time + timedelta(minutes=unit_times.get(machine, {}).get(item, 0))\n",
    "\n",
    "                # Append tasks to the DataFrame\n",
    "                df.append(dict(\n",
    "                    Machine=f\"{machine} {machine_number}\",\n",
    "                    Start=task_time,\n",
    "                    Finish=finish_time,\n",
    "                    Item=item,\n",
    "                    Type=\"Task\"  # Add a 'Type' column to distinguish between tasks and downtime\n",
    "                ))\n",
    "\n",
    "                # Add downtime after the task\n",
    "                df.append(dict(\n",
    "                    Machine=f\"{machine} {machine_number}\",\n",
    "                    Start=finish_time,\n",
    "                    Finish=finish_time + timedelta(minutes=downtime[machine]),\n",
    "                    Item=\"Downtime\",\n",
    "                    Type=\"Downtime\"  # Add a 'Type' column to distinguish between tasks and downtime\n",
    "                ))\n",
    "\n",
    "    # Convert to DataFrame\n",
    "    df = pd.DataFrame(df)\n",
    "\n",
    "    # Ensure Start and Finish are datetime objects\n",
    "    df['Start'] = pd.to_datetime(df['Start'])\n",
    "    df['Finish'] = pd.to_datetime(df['Finish'])\n",
    "\n",
    "    # Create the Gantt chart using Plotly Express\n",
    "    # Define the colors for tasks and downtime\n",
    "    color_map = {\"Downtime\": \"grey\"}  # Set downtime color to black\n",
    "\n",
    "    fig = px.timeline(df, x_start=\"Start\", x_end=\"Finish\", y=\"Machine\", color=\"Item\",\n",
    "                      color_discrete_map=color_map,\n",
    "                      title=f\"Machine Workload Visualization (Greedy Algorithm) for {date.strftime('%Y-%m-%d')}\",\n",
    "                      labels={\"Item\": \"Menu Item\", \"Machine\": \"Machine Index\"})\n",
    "    # Update layout for better visibility\n",
    "    fig.update_yaxes(categoryorder=\"total ascending\")\n",
    "    fig.update_traces(marker=dict(line=dict(width=0)))\n",
    "\n",
    "    fig.show()\n",
    "\n",
    "def measure_total_performance(schedule_function, dates, *args):\n",
    "    \"\"\"\n",
    "    Measures the total time and space complexity of the scheduling algorithm for multiple dates.\n",
    "\n",
    "    Args:\n",
    "        schedule_function (function): The scheduling function to measure.\n",
    "        dates (list): List of dates to run the scheduling function for.\n",
    "        *args: Additional arguments to pass to the scheduling function.\n",
    "\n",
    "    Returns:\n",
    "        dict: Total time taken (in nanoseconds) and peak memory usage (in bytes).\n",
    "    \"\"\"\n",
    "    total_time_ms = 0\n",
    "    total_peak_memory = 0\n",
    "\n",
    "    for date in dates:\n",
    "        # Start measuring memory\n",
    "        tracemalloc.start()\n",
    "\n",
    "        # Start measuring time in nanoseconds\n",
    "        start_time_ms = time.time()\n",
    "\n",
    "        # Execute the scheduling function\n",
    "        schedule_function(date, *args)\n",
    "\n",
    "        # End measuring time in nanoseconds\n",
    "        end_time_ms = time.time()\n",
    "\n",
    "        # Stop measuring memory\n",
    "        current, peak_memory = tracemalloc.get_traced_memory()\n",
    "        tracemalloc.stop()\n",
    "\n",
    "        # Accumulate total time and memory\n",
    "        total_time_ms += ((end_time_ms - start_time_ms) * 1000)\n",
    "        total_peak_memory = max(total_peak_memory, peak_memory)  # Use peak memory across all runs\n",
    "\n",
    "    return {\n",
    "        \"Total Time Taken (ms)\": total_time_ms,\n",
    "        \"Peak Memory Usage (bytes)\": total_peak_memory\n",
    "    }\n",
    "\n",
    "# Example usage\n",
    "today = datetime.now()\n",
    "next_week = today + timedelta(days=0)\n",
    "\n",
    "special_items_input = []\n",
    "dates = [today, next_week]  # List of dates\n",
    "\n",
    "# Normal\n",
    "performance = measure_total_performance(schedule_tasks, dates, special_items_input)\n",
    "\n",
    "# Print total performance metrics\n",
    "print(f\"Greedy Algorithm\")\n",
    "print(f\"Total Performance Metrics for {len(dates)} days:\")\n",
    "print(f\"  Total Time Taken: {performance['Total Time Taken (ms)']} ms\")\n",
    "print(f\"  Peak Memory Usage: {performance['Peak Memory Usage (bytes)']} bytes\")\n",
    "\n",
    "print('\\n')\n",
    "print('==========================================================================')\n",
    "print('\\n')\n",
    "\n",
    "schedule = schedule_tasks(today, special_items_input)\n",
    "create_gantt_chart(schedule, today)"
   ]
  },
  {
   "cell_type": "markdown",
   "metadata": {},
   "source": [
    "#Simulated Annealing"
   ]
  },
  {
   "cell_type": "code",
   "execution_count": 7,
   "metadata": {},
   "outputs": [
    {
     "name": "stdout",
     "output_type": "stream",
     "text": [
      "Generated Schedule: defaultdict(<function generate_initial_schedule.<locals>.<lambda> at 0x000001B4ED692660>, {'Baking': defaultdict(<class 'list'>, {'Mixer': [(datetime.datetime(2025, 1, 9, 4, 0, 32, 711055), 'Bread', 1), (datetime.datetime(2025, 1, 9, 4, 0, 32, 711055), 'Croissant', 2), (datetime.datetime(2025, 1, 9, 4, 0, 32, 711055), 'Danish Pastry', 3), (datetime.datetime(2025, 1, 9, 4, 0, 32, 711055), 'Baguette', 4)], 'Proofer': [(datetime.datetime(2025, 1, 9, 4, 10, 32, 711055), 'Bread', 1), (datetime.datetime(2025, 1, 9, 4, 8, 32, 711055), 'Croissant', 2), (datetime.datetime(2025, 1, 9, 4, 48, 32, 711055), 'Danish Pastry', 2), (datetime.datetime(2025, 1, 9, 5, 20, 32, 711055), 'Baguette', 1)], 'Oven': [(datetime.datetime(2025, 1, 9, 5, 10, 32, 711055), 'Bread', 1), (datetime.datetime(2025, 1, 9, 4, 38, 32, 711055), 'Croissant', 2), (datetime.datetime(2025, 1, 9, 5, 33, 32, 711055), 'Danish Pastry', 3), (datetime.datetime(2025, 1, 9, 5, 35, 32, 711055), 'Baguette', 2)]}), 'Pastry': defaultdict(<class 'list'>, {'Mixer': [(datetime.datetime(2025, 1, 9, 4, 23, 32, 711055), 'Cake', 2), (datetime.datetime(2025, 1, 9, 4, 25, 32, 711055), 'Pie', 1), (datetime.datetime(2025, 1, 9, 4, 27, 32, 711055), 'Cookies', 3), (datetime.datetime(2025, 1, 9, 4, 30, 32, 711055), 'Brownies', 4)], 'Oven': [(datetime.datetime(2025, 1, 9, 6, 20, 32, 711055), 'Cake', 2), (datetime.datetime(2025, 1, 9, 6, 25, 32, 711055), 'Pie', 1), (datetime.datetime(2025, 1, 9, 6, 33, 32, 711055), 'Cookies', 3), (datetime.datetime(2025, 1, 9, 7, 18, 32, 711055), 'Brownies', 3)]}), 'Confectionery': defaultdict(<class 'list'>, {'Mixer': [(datetime.datetime(2025, 1, 9, 4, 47, 32, 711055), 'Macarons', 3), (datetime.datetime(2025, 1, 9, 4, 53, 32, 711055), 'Cupcakes', 2), (datetime.datetime(2025, 1, 9, 4, 53, 32, 711055), 'Muffins', 4), (datetime.datetime(2025, 1, 9, 5, 0, 32, 711055), 'Donuts', 1), (datetime.datetime(2025, 1, 9, 5, 5, 32, 711055), 'Bagels', 3)], 'Oven': [(datetime.datetime(2025, 1, 9, 7, 35, 32, 711055), 'Macarons', 1), (datetime.datetime(2025, 1, 9, 7, 50, 32, 711055), 'Cupcakes', 2), (datetime.datetime(2025, 1, 9, 8, 8, 32, 711055), 'Muffins', 3), (datetime.datetime(2025, 1, 9, 8, 15, 32, 711055), 'Donuts', 1), (datetime.datetime(2025, 1, 9, 8, 32, 32, 711055), 'Bagels', 2)], 'Proofer': [(datetime.datetime(2025, 1, 9, 5, 43, 32, 711055), 'Donuts', 2), (datetime.datetime(2025, 1, 9, 5, 45, 32, 711055), 'Bagels', 1)]}), 'Butchery': defaultdict(<class 'list'>, {'Mixer': [(datetime.datetime(2025, 1, 9, 5, 12, 32, 711055), 'Quiche', 2)], 'Oven': [(datetime.datetime(2025, 1, 9, 8, 48, 32, 711055), 'Quiche', 3)]})})\n",
      "\n",
      "Schedule for 2025-01-09:\n",
      "  Baking:\n",
      "    Mixer:\n",
      "      - 04:00: Bread (Machine 1)\n",
      "      - 04:00: Croissant (Machine 2)\n",
      "      - 04:00: Danish Pastry (Machine 3)\n",
      "      - 04:00: Baguette (Machine 4)\n",
      "    Proofer:\n",
      "      - 04:10: Bread (Machine 1)\n",
      "      - 04:08: Croissant (Machine 2)\n",
      "      - 04:48: Danish Pastry (Machine 2)\n",
      "      - 05:20: Baguette (Machine 1)\n",
      "    Oven:\n",
      "      - 05:10: Bread (Machine 1)\n",
      "      - 04:38: Croissant (Machine 2)\n",
      "      - 05:33: Danish Pastry (Machine 3)\n",
      "      - 05:35: Baguette (Machine 2)\n",
      "  Pastry:\n",
      "    Mixer:\n",
      "      - 04:23: Cake (Machine 2)\n",
      "      - 04:25: Pie (Machine 1)\n",
      "      - 04:27: Cookies (Machine 3)\n",
      "      - 04:30: Brownies (Machine 4)\n",
      "    Oven:\n",
      "      - 06:20: Cake (Machine 2)\n",
      "      - 06:25: Pie (Machine 1)\n",
      "      - 06:33: Cookies (Machine 3)\n",
      "      - 07:18: Brownies (Machine 3)\n",
      "  Confectionery:\n",
      "    Mixer:\n",
      "      - 04:47: Macarons (Machine 3)\n",
      "      - 04:53: Cupcakes (Machine 2)\n",
      "      - 04:53: Muffins (Machine 4)\n",
      "      - 05:00: Donuts (Machine 1)\n",
      "      - 05:05: Bagels (Machine 3)\n",
      "    Oven:\n",
      "      - 07:35: Macarons (Machine 1)\n",
      "      - 07:50: Cupcakes (Machine 2)\n",
      "      - 08:08: Muffins (Machine 3)\n",
      "      - 08:15: Donuts (Machine 1)\n",
      "      - 08:32: Bagels (Machine 2)\n",
      "    Proofer:\n",
      "      - 05:43: Donuts (Machine 2)\n",
      "      - 05:45: Bagels (Machine 1)\n",
      "  Butchery:\n",
      "    Mixer:\n",
      "      - 05:12: Quiche (Machine 2)\n",
      "    Oven:\n",
      "      - 08:48: Quiche (Machine 3)\n"
     ]
    },
    {
     "data": {
      "application/vnd.plotly.v1+json": {
       "config": {
        "plotlyServerURL": "https://plot.ly"
       },
       "data": [
        {
         "alignmentgroup": "True",
         "base": [
          "2025-01-09T04:00:32.711055",
          "2025-01-09T04:10:32.711055",
          "2025-01-09T05:10:32.711055"
         ],
         "hovertemplate": "Menu Item=Bread<br>Start=%{base}<br>Finish=%{x}<br>Machine Index=%{y}<extra></extra>",
         "legendgroup": "Bread",
         "marker": {
          "color": "#EF553B",
          "line": {
           "width": 0
          },
          "pattern": {
           "shape": ""
          }
         },
         "name": "Bread",
         "offsetgroup": "Bread",
         "orientation": "h",
         "showlegend": true,
         "textposition": "auto",
         "type": "bar",
         "x": [
          600000,
          3600000,
          2700000
         ],
         "xaxis": "x",
         "y": [
          "Mixer 1",
          "Proofer 1",
          "Oven 1"
         ],
         "yaxis": "y"
        },
        {
         "alignmentgroup": "True",
         "base": [
          "2025-01-09T04:10:32.711055",
          "2025-01-09T04:08:32.711055",
          "2025-01-09T04:12:32.711055",
          "2025-01-09T04:15:32.711055",
          "2025-01-09T05:10:32.711055",
          "2025-01-09T04:38:32.711055",
          "2025-01-09T05:33:32.711055",
          "2025-01-09T05:35:32.711055",
          "2025-01-09T05:55:32.711055",
          "2025-01-09T05:03:32.711055",
          "2025-01-09T06:03:32.711055",
          "2025-01-09T05:50:32.711055",
          "2025-01-09T04:38:32.711055",
          "2025-01-09T04:45:32.711055",
          "2025-01-09T04:32:32.711055",
          "2025-01-09T04:38:32.711055",
          "2025-01-09T07:20:32.711055",
          "2025-01-09T07:05:32.711055",
          "2025-01-09T06:48:32.711055",
          "2025-01-09T07:38:32.711055",
          "2025-01-09T04:50:32.711055",
          "2025-01-09T04:57:32.711055",
          "2025-01-09T04:58:32.711055",
          "2025-01-09T05:06:32.711055",
          "2025-01-09T05:12:32.711055",
          "2025-01-09T07:45:32.711055",
          "2025-01-09T08:02:32.711055",
          "2025-01-09T08:18:32.711055",
          "2025-01-09T08:23:32.711055",
          "2025-01-09T08:47:32.711055",
          "2025-01-09T05:58:32.711055",
          "2025-01-09T06:30:32.711055",
          "2025-01-09T05:22:32.711055",
          "2025-01-09T09:18:32.711055"
         ],
         "hovertemplate": "Menu Item=Downtime<br>Start=%{base}<br>Finish=%{x}<br>Machine Index=%{y}<extra></extra>",
         "legendgroup": "Downtime",
         "marker": {
          "color": "grey",
          "line": {
           "width": 0
          },
          "pattern": {
           "shape": ""
          }
         },
         "name": "Downtime",
         "offsetgroup": "Downtime",
         "orientation": "h",
         "showlegend": true,
         "textposition": "auto",
         "type": "bar",
         "x": [
          900000,
          900000,
          900000,
          900000,
          600000,
          600000,
          600000,
          600000,
          1800000,
          1800000,
          1800000,
          1800000,
          900000,
          900000,
          900000,
          900000,
          1800000,
          1800000,
          1800000,
          1800000,
          900000,
          900000,
          900000,
          900000,
          900000,
          1800000,
          1800000,
          1800000,
          1800000,
          1800000,
          600000,
          600000,
          900000,
          1800000
         ],
         "xaxis": "x",
         "y": [
          "Mixer 1",
          "Mixer 2",
          "Mixer 3",
          "Mixer 4",
          "Proofer 1",
          "Proofer 2",
          "Proofer 2",
          "Proofer 1",
          "Oven 1",
          "Oven 2",
          "Oven 3",
          "Oven 2",
          "Mixer 2",
          "Mixer 1",
          "Mixer 3",
          "Mixer 4",
          "Oven 2",
          "Oven 1",
          "Oven 3",
          "Oven 3",
          "Mixer 3",
          "Mixer 2",
          "Mixer 4",
          "Mixer 1",
          "Mixer 3",
          "Oven 1",
          "Oven 2",
          "Oven 3",
          "Oven 1",
          "Oven 2",
          "Proofer 2",
          "Proofer 1",
          "Mixer 2",
          "Oven 3"
         ],
         "yaxis": "y"
        },
        {
         "alignmentgroup": "True",
         "base": [
          "2025-01-09T04:00:32.711055",
          "2025-01-09T04:08:32.711055",
          "2025-01-09T04:38:32.711055"
         ],
         "hovertemplate": "Menu Item=Croissant<br>Start=%{base}<br>Finish=%{x}<br>Machine Index=%{y}<extra></extra>",
         "legendgroup": "Croissant",
         "marker": {
          "color": "#00cc96",
          "line": {
           "width": 0
          },
          "pattern": {
           "shape": ""
          }
         },
         "name": "Croissant",
         "offsetgroup": "Croissant",
         "orientation": "h",
         "showlegend": true,
         "textposition": "auto",
         "type": "bar",
         "x": [
          480000,
          1800000,
          1500000
         ],
         "xaxis": "x",
         "y": [
          "Mixer 2",
          "Proofer 2",
          "Oven 2"
         ],
         "yaxis": "y"
        },
        {
         "alignmentgroup": "True",
         "base": [
          "2025-01-09T04:00:32.711055",
          "2025-01-09T04:48:32.711055",
          "2025-01-09T05:33:32.711055"
         ],
         "hovertemplate": "Menu Item=Danish Pastry<br>Start=%{base}<br>Finish=%{x}<br>Machine Index=%{y}<extra></extra>",
         "legendgroup": "Danish Pastry",
         "marker": {
          "color": "#ab63fa",
          "line": {
           "width": 0
          },
          "pattern": {
           "shape": ""
          }
         },
         "name": "Danish Pastry",
         "offsetgroup": "Danish Pastry",
         "orientation": "h",
         "showlegend": true,
         "textposition": "auto",
         "type": "bar",
         "x": [
          720000,
          2700000,
          1800000
         ],
         "xaxis": "x",
         "y": [
          "Mixer 3",
          "Proofer 2",
          "Oven 3"
         ],
         "yaxis": "y"
        },
        {
         "alignmentgroup": "True",
         "base": [
          "2025-01-09T04:00:32.711055",
          "2025-01-09T05:20:32.711055",
          "2025-01-09T05:35:32.711055"
         ],
         "hovertemplate": "Menu Item=Baguette<br>Start=%{base}<br>Finish=%{x}<br>Machine Index=%{y}<extra></extra>",
         "legendgroup": "Baguette",
         "marker": {
          "color": "#FFA15A",
          "line": {
           "width": 0
          },
          "pattern": {
           "shape": ""
          }
         },
         "name": "Baguette",
         "offsetgroup": "Baguette",
         "orientation": "h",
         "showlegend": true,
         "textposition": "auto",
         "type": "bar",
         "x": [
          900000,
          900000,
          900000
         ],
         "xaxis": "x",
         "y": [
          "Mixer 4",
          "Proofer 1",
          "Oven 2"
         ],
         "yaxis": "y"
        },
        {
         "alignmentgroup": "True",
         "base": [
          "2025-01-09T04:23:32.711055",
          "2025-01-09T06:20:32.711055"
         ],
         "hovertemplate": "Menu Item=Cake<br>Start=%{base}<br>Finish=%{x}<br>Machine Index=%{y}<extra></extra>",
         "legendgroup": "Cake",
         "marker": {
          "color": "#19d3f3",
          "line": {
           "width": 0
          },
          "pattern": {
           "shape": ""
          }
         },
         "name": "Cake",
         "offsetgroup": "Cake",
         "orientation": "h",
         "showlegend": true,
         "textposition": "auto",
         "type": "bar",
         "x": [
          900000,
          3600000
         ],
         "xaxis": "x",
         "y": [
          "Mixer 2",
          "Oven 2"
         ],
         "yaxis": "y"
        },
        {
         "alignmentgroup": "True",
         "base": [
          "2025-01-09T04:25:32.711055",
          "2025-01-09T06:25:32.711055"
         ],
         "hovertemplate": "Menu Item=Pie<br>Start=%{base}<br>Finish=%{x}<br>Machine Index=%{y}<extra></extra>",
         "legendgroup": "Pie",
         "marker": {
          "color": "#FF6692",
          "line": {
           "width": 0
          },
          "pattern": {
           "shape": ""
          }
         },
         "name": "Pie",
         "offsetgroup": "Pie",
         "orientation": "h",
         "showlegend": true,
         "textposition": "auto",
         "type": "bar",
         "x": [
          1200000,
          2400000
         ],
         "xaxis": "x",
         "y": [
          "Mixer 1",
          "Oven 1"
         ],
         "yaxis": "y"
        },
        {
         "alignmentgroup": "True",
         "base": [
          "2025-01-09T04:27:32.711055",
          "2025-01-09T06:33:32.711055"
         ],
         "hovertemplate": "Menu Item=Cookies<br>Start=%{base}<br>Finish=%{x}<br>Machine Index=%{y}<extra></extra>",
         "legendgroup": "Cookies",
         "marker": {
          "color": "#B6E880",
          "line": {
           "width": 0
          },
          "pattern": {
           "shape": ""
          }
         },
         "name": "Cookies",
         "offsetgroup": "Cookies",
         "orientation": "h",
         "showlegend": true,
         "textposition": "auto",
         "type": "bar",
         "x": [
          300000,
          900000
         ],
         "xaxis": "x",
         "y": [
          "Mixer 3",
          "Oven 3"
         ],
         "yaxis": "y"
        },
        {
         "alignmentgroup": "True",
         "base": [
          "2025-01-09T04:30:32.711055",
          "2025-01-09T07:18:32.711055"
         ],
         "hovertemplate": "Menu Item=Brownies<br>Start=%{base}<br>Finish=%{x}<br>Machine Index=%{y}<extra></extra>",
         "legendgroup": "Brownies",
         "marker": {
          "color": "#FF97FF",
          "line": {
           "width": 0
          },
          "pattern": {
           "shape": ""
          }
         },
         "name": "Brownies",
         "offsetgroup": "Brownies",
         "orientation": "h",
         "showlegend": true,
         "textposition": "auto",
         "type": "bar",
         "x": [
          480000,
          1200000
         ],
         "xaxis": "x",
         "y": [
          "Mixer 4",
          "Oven 3"
         ],
         "yaxis": "y"
        },
        {
         "alignmentgroup": "True",
         "base": [
          "2025-01-09T04:47:32.711055",
          "2025-01-09T07:35:32.711055"
         ],
         "hovertemplate": "Menu Item=Macarons<br>Start=%{base}<br>Finish=%{x}<br>Machine Index=%{y}<extra></extra>",
         "legendgroup": "Macarons",
         "marker": {
          "color": "#FECB52",
          "line": {
           "width": 0
          },
          "pattern": {
           "shape": ""
          }
         },
         "name": "Macarons",
         "offsetgroup": "Macarons",
         "orientation": "h",
         "showlegend": true,
         "textposition": "auto",
         "type": "bar",
         "x": [
          180000,
          600000
         ],
         "xaxis": "x",
         "y": [
          "Mixer 3",
          "Oven 1"
         ],
         "yaxis": "y"
        },
        {
         "alignmentgroup": "True",
         "base": [
          "2025-01-09T04:53:32.711055",
          "2025-01-09T07:50:32.711055"
         ],
         "hovertemplate": "Menu Item=Cupcakes<br>Start=%{base}<br>Finish=%{x}<br>Machine Index=%{y}<extra></extra>",
         "legendgroup": "Cupcakes",
         "marker": {
          "color": "#636efa",
          "line": {
           "width": 0
          },
          "pattern": {
           "shape": ""
          }
         },
         "name": "Cupcakes",
         "offsetgroup": "Cupcakes",
         "orientation": "h",
         "showlegend": true,
         "textposition": "auto",
         "type": "bar",
         "x": [
          240000,
          720000
         ],
         "xaxis": "x",
         "y": [
          "Mixer 2",
          "Oven 2"
         ],
         "yaxis": "y"
        },
        {
         "alignmentgroup": "True",
         "base": [
          "2025-01-09T04:53:32.711055",
          "2025-01-09T08:08:32.711055"
         ],
         "hovertemplate": "Menu Item=Muffins<br>Start=%{base}<br>Finish=%{x}<br>Machine Index=%{y}<extra></extra>",
         "legendgroup": "Muffins",
         "marker": {
          "color": "#EF553B",
          "line": {
           "width": 0
          },
          "pattern": {
           "shape": ""
          }
         },
         "name": "Muffins",
         "offsetgroup": "Muffins",
         "orientation": "h",
         "showlegend": true,
         "textposition": "auto",
         "type": "bar",
         "x": [
          300000,
          600000
         ],
         "xaxis": "x",
         "y": [
          "Mixer 4",
          "Oven 3"
         ],
         "yaxis": "y"
        },
        {
         "alignmentgroup": "True",
         "base": [
          "2025-01-09T05:00:32.711055",
          "2025-01-09T08:15:32.711055",
          "2025-01-09T05:43:32.711055"
         ],
         "hovertemplate": "Menu Item=Donuts<br>Start=%{base}<br>Finish=%{x}<br>Machine Index=%{y}<extra></extra>",
         "legendgroup": "Donuts",
         "marker": {
          "color": "#00cc96",
          "line": {
           "width": 0
          },
          "pattern": {
           "shape": ""
          }
         },
         "name": "Donuts",
         "offsetgroup": "Donuts",
         "orientation": "h",
         "showlegend": true,
         "textposition": "auto",
         "type": "bar",
         "x": [
          360000,
          480000,
          900000
         ],
         "xaxis": "x",
         "y": [
          "Mixer 1",
          "Oven 1",
          "Proofer 2"
         ],
         "yaxis": "y"
        },
        {
         "alignmentgroup": "True",
         "base": [
          "2025-01-09T05:05:32.711055",
          "2025-01-09T08:32:32.711055",
          "2025-01-09T05:45:32.711055"
         ],
         "hovertemplate": "Menu Item=Bagels<br>Start=%{base}<br>Finish=%{x}<br>Machine Index=%{y}<extra></extra>",
         "legendgroup": "Bagels",
         "marker": {
          "color": "#ab63fa",
          "line": {
           "width": 0
          },
          "pattern": {
           "shape": ""
          }
         },
         "name": "Bagels",
         "offsetgroup": "Bagels",
         "orientation": "h",
         "showlegend": true,
         "textposition": "auto",
         "type": "bar",
         "x": [
          420000,
          900000,
          2700000
         ],
         "xaxis": "x",
         "y": [
          "Mixer 3",
          "Oven 2",
          "Proofer 1"
         ],
         "yaxis": "y"
        },
        {
         "alignmentgroup": "True",
         "base": [
          "2025-01-09T05:12:32.711055",
          "2025-01-09T08:48:32.711055"
         ],
         "hovertemplate": "Menu Item=Quiche<br>Start=%{base}<br>Finish=%{x}<br>Machine Index=%{y}<extra></extra>",
         "legendgroup": "Quiche",
         "marker": {
          "color": "#FFA15A",
          "line": {
           "width": 0
          },
          "pattern": {
           "shape": ""
          }
         },
         "name": "Quiche",
         "offsetgroup": "Quiche",
         "orientation": "h",
         "showlegend": true,
         "textposition": "auto",
         "type": "bar",
         "x": [
          600000,
          1800000
         ],
         "xaxis": "x",
         "y": [
          "Mixer 2",
          "Oven 3"
         ],
         "yaxis": "y"
        }
       ],
       "layout": {
        "barmode": "overlay",
        "legend": {
         "title": {
          "text": "Menu Item"
         },
         "tracegroupgap": 0
        },
        "template": {
         "data": {
          "bar": [
           {
            "error_x": {
             "color": "#2a3f5f"
            },
            "error_y": {
             "color": "#2a3f5f"
            },
            "marker": {
             "line": {
              "color": "#E5ECF6",
              "width": 0.5
             },
             "pattern": {
              "fillmode": "overlay",
              "size": 10,
              "solidity": 0.2
             }
            },
            "type": "bar"
           }
          ],
          "barpolar": [
           {
            "marker": {
             "line": {
              "color": "#E5ECF6",
              "width": 0.5
             },
             "pattern": {
              "fillmode": "overlay",
              "size": 10,
              "solidity": 0.2
             }
            },
            "type": "barpolar"
           }
          ],
          "carpet": [
           {
            "aaxis": {
             "endlinecolor": "#2a3f5f",
             "gridcolor": "white",
             "linecolor": "white",
             "minorgridcolor": "white",
             "startlinecolor": "#2a3f5f"
            },
            "baxis": {
             "endlinecolor": "#2a3f5f",
             "gridcolor": "white",
             "linecolor": "white",
             "minorgridcolor": "white",
             "startlinecolor": "#2a3f5f"
            },
            "type": "carpet"
           }
          ],
          "choropleth": [
           {
            "colorbar": {
             "outlinewidth": 0,
             "ticks": ""
            },
            "type": "choropleth"
           }
          ],
          "contour": [
           {
            "colorbar": {
             "outlinewidth": 0,
             "ticks": ""
            },
            "colorscale": [
             [
              0,
              "#0d0887"
             ],
             [
              0.1111111111111111,
              "#46039f"
             ],
             [
              0.2222222222222222,
              "#7201a8"
             ],
             [
              0.3333333333333333,
              "#9c179e"
             ],
             [
              0.4444444444444444,
              "#bd3786"
             ],
             [
              0.5555555555555556,
              "#d8576b"
             ],
             [
              0.6666666666666666,
              "#ed7953"
             ],
             [
              0.7777777777777778,
              "#fb9f3a"
             ],
             [
              0.8888888888888888,
              "#fdca26"
             ],
             [
              1,
              "#f0f921"
             ]
            ],
            "type": "contour"
           }
          ],
          "contourcarpet": [
           {
            "colorbar": {
             "outlinewidth": 0,
             "ticks": ""
            },
            "type": "contourcarpet"
           }
          ],
          "heatmap": [
           {
            "colorbar": {
             "outlinewidth": 0,
             "ticks": ""
            },
            "colorscale": [
             [
              0,
              "#0d0887"
             ],
             [
              0.1111111111111111,
              "#46039f"
             ],
             [
              0.2222222222222222,
              "#7201a8"
             ],
             [
              0.3333333333333333,
              "#9c179e"
             ],
             [
              0.4444444444444444,
              "#bd3786"
             ],
             [
              0.5555555555555556,
              "#d8576b"
             ],
             [
              0.6666666666666666,
              "#ed7953"
             ],
             [
              0.7777777777777778,
              "#fb9f3a"
             ],
             [
              0.8888888888888888,
              "#fdca26"
             ],
             [
              1,
              "#f0f921"
             ]
            ],
            "type": "heatmap"
           }
          ],
          "heatmapgl": [
           {
            "colorbar": {
             "outlinewidth": 0,
             "ticks": ""
            },
            "colorscale": [
             [
              0,
              "#0d0887"
             ],
             [
              0.1111111111111111,
              "#46039f"
             ],
             [
              0.2222222222222222,
              "#7201a8"
             ],
             [
              0.3333333333333333,
              "#9c179e"
             ],
             [
              0.4444444444444444,
              "#bd3786"
             ],
             [
              0.5555555555555556,
              "#d8576b"
             ],
             [
              0.6666666666666666,
              "#ed7953"
             ],
             [
              0.7777777777777778,
              "#fb9f3a"
             ],
             [
              0.8888888888888888,
              "#fdca26"
             ],
             [
              1,
              "#f0f921"
             ]
            ],
            "type": "heatmapgl"
           }
          ],
          "histogram": [
           {
            "marker": {
             "pattern": {
              "fillmode": "overlay",
              "size": 10,
              "solidity": 0.2
             }
            },
            "type": "histogram"
           }
          ],
          "histogram2d": [
           {
            "colorbar": {
             "outlinewidth": 0,
             "ticks": ""
            },
            "colorscale": [
             [
              0,
              "#0d0887"
             ],
             [
              0.1111111111111111,
              "#46039f"
             ],
             [
              0.2222222222222222,
              "#7201a8"
             ],
             [
              0.3333333333333333,
              "#9c179e"
             ],
             [
              0.4444444444444444,
              "#bd3786"
             ],
             [
              0.5555555555555556,
              "#d8576b"
             ],
             [
              0.6666666666666666,
              "#ed7953"
             ],
             [
              0.7777777777777778,
              "#fb9f3a"
             ],
             [
              0.8888888888888888,
              "#fdca26"
             ],
             [
              1,
              "#f0f921"
             ]
            ],
            "type": "histogram2d"
           }
          ],
          "histogram2dcontour": [
           {
            "colorbar": {
             "outlinewidth": 0,
             "ticks": ""
            },
            "colorscale": [
             [
              0,
              "#0d0887"
             ],
             [
              0.1111111111111111,
              "#46039f"
             ],
             [
              0.2222222222222222,
              "#7201a8"
             ],
             [
              0.3333333333333333,
              "#9c179e"
             ],
             [
              0.4444444444444444,
              "#bd3786"
             ],
             [
              0.5555555555555556,
              "#d8576b"
             ],
             [
              0.6666666666666666,
              "#ed7953"
             ],
             [
              0.7777777777777778,
              "#fb9f3a"
             ],
             [
              0.8888888888888888,
              "#fdca26"
             ],
             [
              1,
              "#f0f921"
             ]
            ],
            "type": "histogram2dcontour"
           }
          ],
          "mesh3d": [
           {
            "colorbar": {
             "outlinewidth": 0,
             "ticks": ""
            },
            "type": "mesh3d"
           }
          ],
          "parcoords": [
           {
            "line": {
             "colorbar": {
              "outlinewidth": 0,
              "ticks": ""
             }
            },
            "type": "parcoords"
           }
          ],
          "pie": [
           {
            "automargin": true,
            "type": "pie"
           }
          ],
          "scatter": [
           {
            "fillpattern": {
             "fillmode": "overlay",
             "size": 10,
             "solidity": 0.2
            },
            "type": "scatter"
           }
          ],
          "scatter3d": [
           {
            "line": {
             "colorbar": {
              "outlinewidth": 0,
              "ticks": ""
             }
            },
            "marker": {
             "colorbar": {
              "outlinewidth": 0,
              "ticks": ""
             }
            },
            "type": "scatter3d"
           }
          ],
          "scattercarpet": [
           {
            "marker": {
             "colorbar": {
              "outlinewidth": 0,
              "ticks": ""
             }
            },
            "type": "scattercarpet"
           }
          ],
          "scattergeo": [
           {
            "marker": {
             "colorbar": {
              "outlinewidth": 0,
              "ticks": ""
             }
            },
            "type": "scattergeo"
           }
          ],
          "scattergl": [
           {
            "marker": {
             "colorbar": {
              "outlinewidth": 0,
              "ticks": ""
             }
            },
            "type": "scattergl"
           }
          ],
          "scattermapbox": [
           {
            "marker": {
             "colorbar": {
              "outlinewidth": 0,
              "ticks": ""
             }
            },
            "type": "scattermapbox"
           }
          ],
          "scatterpolar": [
           {
            "marker": {
             "colorbar": {
              "outlinewidth": 0,
              "ticks": ""
             }
            },
            "type": "scatterpolar"
           }
          ],
          "scatterpolargl": [
           {
            "marker": {
             "colorbar": {
              "outlinewidth": 0,
              "ticks": ""
             }
            },
            "type": "scatterpolargl"
           }
          ],
          "scatterternary": [
           {
            "marker": {
             "colorbar": {
              "outlinewidth": 0,
              "ticks": ""
             }
            },
            "type": "scatterternary"
           }
          ],
          "surface": [
           {
            "colorbar": {
             "outlinewidth": 0,
             "ticks": ""
            },
            "colorscale": [
             [
              0,
              "#0d0887"
             ],
             [
              0.1111111111111111,
              "#46039f"
             ],
             [
              0.2222222222222222,
              "#7201a8"
             ],
             [
              0.3333333333333333,
              "#9c179e"
             ],
             [
              0.4444444444444444,
              "#bd3786"
             ],
             [
              0.5555555555555556,
              "#d8576b"
             ],
             [
              0.6666666666666666,
              "#ed7953"
             ],
             [
              0.7777777777777778,
              "#fb9f3a"
             ],
             [
              0.8888888888888888,
              "#fdca26"
             ],
             [
              1,
              "#f0f921"
             ]
            ],
            "type": "surface"
           }
          ],
          "table": [
           {
            "cells": {
             "fill": {
              "color": "#EBF0F8"
             },
             "line": {
              "color": "white"
             }
            },
            "header": {
             "fill": {
              "color": "#C8D4E3"
             },
             "line": {
              "color": "white"
             }
            },
            "type": "table"
           }
          ]
         },
         "layout": {
          "annotationdefaults": {
           "arrowcolor": "#2a3f5f",
           "arrowhead": 0,
           "arrowwidth": 1
          },
          "autotypenumbers": "strict",
          "coloraxis": {
           "colorbar": {
            "outlinewidth": 0,
            "ticks": ""
           }
          },
          "colorscale": {
           "diverging": [
            [
             0,
             "#8e0152"
            ],
            [
             0.1,
             "#c51b7d"
            ],
            [
             0.2,
             "#de77ae"
            ],
            [
             0.3,
             "#f1b6da"
            ],
            [
             0.4,
             "#fde0ef"
            ],
            [
             0.5,
             "#f7f7f7"
            ],
            [
             0.6,
             "#e6f5d0"
            ],
            [
             0.7,
             "#b8e186"
            ],
            [
             0.8,
             "#7fbc41"
            ],
            [
             0.9,
             "#4d9221"
            ],
            [
             1,
             "#276419"
            ]
           ],
           "sequential": [
            [
             0,
             "#0d0887"
            ],
            [
             0.1111111111111111,
             "#46039f"
            ],
            [
             0.2222222222222222,
             "#7201a8"
            ],
            [
             0.3333333333333333,
             "#9c179e"
            ],
            [
             0.4444444444444444,
             "#bd3786"
            ],
            [
             0.5555555555555556,
             "#d8576b"
            ],
            [
             0.6666666666666666,
             "#ed7953"
            ],
            [
             0.7777777777777778,
             "#fb9f3a"
            ],
            [
             0.8888888888888888,
             "#fdca26"
            ],
            [
             1,
             "#f0f921"
            ]
           ],
           "sequentialminus": [
            [
             0,
             "#0d0887"
            ],
            [
             0.1111111111111111,
             "#46039f"
            ],
            [
             0.2222222222222222,
             "#7201a8"
            ],
            [
             0.3333333333333333,
             "#9c179e"
            ],
            [
             0.4444444444444444,
             "#bd3786"
            ],
            [
             0.5555555555555556,
             "#d8576b"
            ],
            [
             0.6666666666666666,
             "#ed7953"
            ],
            [
             0.7777777777777778,
             "#fb9f3a"
            ],
            [
             0.8888888888888888,
             "#fdca26"
            ],
            [
             1,
             "#f0f921"
            ]
           ]
          },
          "colorway": [
           "#636efa",
           "#EF553B",
           "#00cc96",
           "#ab63fa",
           "#FFA15A",
           "#19d3f3",
           "#FF6692",
           "#B6E880",
           "#FF97FF",
           "#FECB52"
          ],
          "font": {
           "color": "#2a3f5f"
          },
          "geo": {
           "bgcolor": "white",
           "lakecolor": "white",
           "landcolor": "#E5ECF6",
           "showlakes": true,
           "showland": true,
           "subunitcolor": "white"
          },
          "hoverlabel": {
           "align": "left"
          },
          "hovermode": "closest",
          "mapbox": {
           "style": "light"
          },
          "paper_bgcolor": "white",
          "plot_bgcolor": "#E5ECF6",
          "polar": {
           "angularaxis": {
            "gridcolor": "white",
            "linecolor": "white",
            "ticks": ""
           },
           "bgcolor": "#E5ECF6",
           "radialaxis": {
            "gridcolor": "white",
            "linecolor": "white",
            "ticks": ""
           }
          },
          "scene": {
           "xaxis": {
            "backgroundcolor": "#E5ECF6",
            "gridcolor": "white",
            "gridwidth": 2,
            "linecolor": "white",
            "showbackground": true,
            "ticks": "",
            "zerolinecolor": "white"
           },
           "yaxis": {
            "backgroundcolor": "#E5ECF6",
            "gridcolor": "white",
            "gridwidth": 2,
            "linecolor": "white",
            "showbackground": true,
            "ticks": "",
            "zerolinecolor": "white"
           },
           "zaxis": {
            "backgroundcolor": "#E5ECF6",
            "gridcolor": "white",
            "gridwidth": 2,
            "linecolor": "white",
            "showbackground": true,
            "ticks": "",
            "zerolinecolor": "white"
           }
          },
          "shapedefaults": {
           "line": {
            "color": "#2a3f5f"
           }
          },
          "ternary": {
           "aaxis": {
            "gridcolor": "white",
            "linecolor": "white",
            "ticks": ""
           },
           "baxis": {
            "gridcolor": "white",
            "linecolor": "white",
            "ticks": ""
           },
           "bgcolor": "#E5ECF6",
           "caxis": {
            "gridcolor": "white",
            "linecolor": "white",
            "ticks": ""
           }
          },
          "title": {
           "x": 0.05
          },
          "xaxis": {
           "automargin": true,
           "gridcolor": "white",
           "linecolor": "white",
           "ticks": "",
           "title": {
            "standoff": 15
           },
           "zerolinecolor": "white",
           "zerolinewidth": 2
          },
          "yaxis": {
           "automargin": true,
           "gridcolor": "white",
           "linecolor": "white",
           "ticks": "",
           "title": {
            "standoff": 15
           },
           "zerolinecolor": "white",
           "zerolinewidth": 2
          }
         }
        },
        "title": {
         "text": "Machine Workload Visualization (Simulated Annealing) for 2025-01-09"
        },
        "xaxis": {
         "anchor": "y",
         "domain": [
          0,
          1
         ],
         "type": "date"
        },
        "yaxis": {
         "anchor": "x",
         "categoryorder": "total ascending",
         "domain": [
          0,
          1
         ],
         "title": {
          "text": "Machine Index"
         }
        }
       }
      }
     },
     "metadata": {},
     "output_type": "display_data"
    },
    {
     "name": "stdout",
     "output_type": "stream",
     "text": [
      "Generated Schedule: defaultdict(<function generate_initial_schedule.<locals>.<lambda> at 0x000001B497C07F60>, {'Baking': defaultdict(<class 'list'>, {'Mixer': [(datetime.datetime(2025, 1, 9, 4, 0, 32, 789951), 'Bread', 1), (datetime.datetime(2025, 1, 9, 4, 0, 32, 789951), 'Croissant', 2), (datetime.datetime(2025, 1, 9, 4, 0, 32, 789951), 'Danish Pastry', 3), (datetime.datetime(2025, 1, 9, 4, 0, 32, 789951), 'Baguette', 4)], 'Proofer': [(datetime.datetime(2025, 1, 9, 4, 10, 32, 789951), 'Bread', 1), (datetime.datetime(2025, 1, 9, 4, 8, 32, 789951), 'Croissant', 2), (datetime.datetime(2025, 1, 9, 4, 48, 32, 789951), 'Danish Pastry', 2), (datetime.datetime(2025, 1, 9, 5, 20, 32, 789951), 'Baguette', 1)], 'Oven': [(datetime.datetime(2025, 1, 9, 5, 10, 32, 789951), 'Bread', 1), (datetime.datetime(2025, 1, 9, 4, 38, 32, 789951), 'Croissant', 2), (datetime.datetime(2025, 1, 9, 5, 33, 32, 789951), 'Danish Pastry', 3), (datetime.datetime(2025, 1, 9, 5, 35, 32, 789951), 'Baguette', 2)]}), 'Pastry': defaultdict(<class 'list'>, {'Mixer': [(datetime.datetime(2025, 1, 9, 4, 23, 32, 789951), 'Cake', 2), (datetime.datetime(2025, 1, 9, 4, 25, 32, 789951), 'Pie', 1), (datetime.datetime(2025, 1, 9, 4, 27, 32, 789951), 'Cookies', 3), (datetime.datetime(2025, 1, 9, 4, 30, 32, 789951), 'Brownies', 4)], 'Oven': [(datetime.datetime(2025, 1, 9, 6, 20, 32, 789951), 'Cake', 2), (datetime.datetime(2025, 1, 9, 6, 25, 32, 789951), 'Pie', 1), (datetime.datetime(2025, 1, 9, 6, 33, 32, 789951), 'Cookies', 3), (datetime.datetime(2025, 1, 9, 7, 18, 32, 789951), 'Brownies', 3)]}), 'Confectionery': defaultdict(<class 'list'>, {'Mixer': [(datetime.datetime(2025, 1, 9, 4, 47, 32, 789951), 'Macarons', 3), (datetime.datetime(2025, 1, 9, 4, 53, 32, 789951), 'Cupcakes', 2), (datetime.datetime(2025, 1, 9, 4, 53, 32, 789951), 'Muffins', 4), (datetime.datetime(2025, 1, 9, 5, 0, 32, 789951), 'Donuts', 1), (datetime.datetime(2025, 1, 9, 5, 5, 32, 789951), 'Bagels', 3)], 'Oven': [(datetime.datetime(2025, 1, 9, 7, 35, 32, 789951), 'Macarons', 1), (datetime.datetime(2025, 1, 9, 7, 50, 32, 789951), 'Cupcakes', 2), (datetime.datetime(2025, 1, 9, 8, 8, 32, 789951), 'Muffins', 3), (datetime.datetime(2025, 1, 9, 8, 15, 32, 789951), 'Donuts', 1), (datetime.datetime(2025, 1, 9, 8, 32, 32, 789951), 'Bagels', 2)], 'Proofer': [(datetime.datetime(2025, 1, 9, 5, 43, 32, 789951), 'Donuts', 2), (datetime.datetime(2025, 1, 9, 5, 45, 32, 789951), 'Bagels', 1)]}), 'Butchery': defaultdict(<class 'list'>, {'Mixer': [(datetime.datetime(2025, 1, 9, 5, 12, 32, 789951), 'Quiche', 2)], 'Oven': [(datetime.datetime(2025, 1, 9, 8, 48, 32, 789951), 'Quiche', 3)]})})\n",
      "\n",
      "Schedule for 2025-01-16:\n",
      "  Baking:\n",
      "    Mixer:\n",
      "      - 04:00: Bread (Machine 1)\n",
      "      - 04:00: Croissant (Machine 2)\n",
      "      - 04:00: Danish Pastry (Machine 3)\n",
      "      - 04:00: Baguette (Machine 4)\n",
      "    Proofer:\n",
      "      - 04:10: Bread (Machine 1)\n",
      "      - 04:08: Croissant (Machine 2)\n",
      "      - 04:48: Danish Pastry (Machine 2)\n",
      "      - 05:20: Baguette (Machine 1)\n",
      "    Oven:\n",
      "      - 05:10: Bread (Machine 1)\n",
      "      - 04:38: Croissant (Machine 2)\n",
      "      - 05:33: Danish Pastry (Machine 3)\n",
      "      - 05:35: Baguette (Machine 2)\n",
      "  Pastry:\n",
      "    Mixer:\n",
      "      - 04:23: Cake (Machine 2)\n",
      "      - 04:25: Pie (Machine 1)\n",
      "      - 04:27: Cookies (Machine 3)\n",
      "      - 04:30: Brownies (Machine 4)\n",
      "    Oven:\n",
      "      - 06:20: Cake (Machine 2)\n",
      "      - 06:25: Pie (Machine 1)\n",
      "      - 06:33: Cookies (Machine 3)\n",
      "      - 07:18: Brownies (Machine 3)\n",
      "  Confectionery:\n",
      "    Mixer:\n",
      "      - 04:47: Macarons (Machine 3)\n",
      "      - 04:53: Cupcakes (Machine 2)\n",
      "      - 04:53: Muffins (Machine 4)\n",
      "      - 05:00: Donuts (Machine 1)\n",
      "      - 05:05: Bagels (Machine 3)\n",
      "    Oven:\n",
      "      - 07:35: Macarons (Machine 1)\n",
      "      - 07:50: Cupcakes (Machine 2)\n",
      "      - 08:08: Muffins (Machine 3)\n",
      "      - 08:15: Donuts (Machine 1)\n",
      "      - 08:32: Bagels (Machine 2)\n",
      "    Proofer:\n",
      "      - 05:43: Donuts (Machine 2)\n",
      "      - 05:45: Bagels (Machine 1)\n",
      "  Butchery:\n",
      "    Mixer:\n",
      "      - 05:12: Quiche (Machine 2)\n",
      "    Oven:\n",
      "      - 08:48: Quiche (Machine 3)\n"
     ]
    },
    {
     "data": {
      "application/vnd.plotly.v1+json": {
       "config": {
        "plotlyServerURL": "https://plot.ly"
       },
       "data": [
        {
         "alignmentgroup": "True",
         "base": [
          "2025-01-09T04:00:32.789951",
          "2025-01-09T04:10:32.789951",
          "2025-01-09T05:10:32.789951"
         ],
         "hovertemplate": "Menu Item=Bread<br>Start=%{base}<br>Finish=%{x}<br>Machine Index=%{y}<extra></extra>",
         "legendgroup": "Bread",
         "marker": {
          "color": "#EF553B",
          "line": {
           "width": 0
          },
          "pattern": {
           "shape": ""
          }
         },
         "name": "Bread",
         "offsetgroup": "Bread",
         "orientation": "h",
         "showlegend": true,
         "textposition": "auto",
         "type": "bar",
         "x": [
          600000,
          3600000,
          2700000
         ],
         "xaxis": "x",
         "y": [
          "Mixer 1",
          "Proofer 1",
          "Oven 1"
         ],
         "yaxis": "y"
        },
        {
         "alignmentgroup": "True",
         "base": [
          "2025-01-09T04:10:32.789951",
          "2025-01-09T04:08:32.789951",
          "2025-01-09T04:12:32.789951",
          "2025-01-09T04:15:32.789951",
          "2025-01-09T05:10:32.789951",
          "2025-01-09T04:38:32.789951",
          "2025-01-09T05:33:32.789951",
          "2025-01-09T05:35:32.789951",
          "2025-01-09T05:55:32.789951",
          "2025-01-09T05:03:32.789951",
          "2025-01-09T06:03:32.789951",
          "2025-01-09T05:50:32.789951",
          "2025-01-09T04:38:32.789951",
          "2025-01-09T04:45:32.789951",
          "2025-01-09T04:32:32.789951",
          "2025-01-09T04:38:32.789951",
          "2025-01-09T07:20:32.789951",
          "2025-01-09T07:05:32.789951",
          "2025-01-09T06:48:32.789951",
          "2025-01-09T07:38:32.789951",
          "2025-01-09T04:50:32.789951",
          "2025-01-09T04:57:32.789951",
          "2025-01-09T04:58:32.789951",
          "2025-01-09T05:06:32.789951",
          "2025-01-09T05:12:32.789951",
          "2025-01-09T07:45:32.789951",
          "2025-01-09T08:02:32.789951",
          "2025-01-09T08:18:32.789951",
          "2025-01-09T08:23:32.789951",
          "2025-01-09T08:47:32.789951",
          "2025-01-09T05:58:32.789951",
          "2025-01-09T06:30:32.789951",
          "2025-01-09T05:22:32.789951",
          "2025-01-09T09:18:32.789951"
         ],
         "hovertemplate": "Menu Item=Downtime<br>Start=%{base}<br>Finish=%{x}<br>Machine Index=%{y}<extra></extra>",
         "legendgroup": "Downtime",
         "marker": {
          "color": "grey",
          "line": {
           "width": 0
          },
          "pattern": {
           "shape": ""
          }
         },
         "name": "Downtime",
         "offsetgroup": "Downtime",
         "orientation": "h",
         "showlegend": true,
         "textposition": "auto",
         "type": "bar",
         "x": [
          900000,
          900000,
          900000,
          900000,
          600000,
          600000,
          600000,
          600000,
          1800000,
          1800000,
          1800000,
          1800000,
          900000,
          900000,
          900000,
          900000,
          1800000,
          1800000,
          1800000,
          1800000,
          900000,
          900000,
          900000,
          900000,
          900000,
          1800000,
          1800000,
          1800000,
          1800000,
          1800000,
          600000,
          600000,
          900000,
          1800000
         ],
         "xaxis": "x",
         "y": [
          "Mixer 1",
          "Mixer 2",
          "Mixer 3",
          "Mixer 4",
          "Proofer 1",
          "Proofer 2",
          "Proofer 2",
          "Proofer 1",
          "Oven 1",
          "Oven 2",
          "Oven 3",
          "Oven 2",
          "Mixer 2",
          "Mixer 1",
          "Mixer 3",
          "Mixer 4",
          "Oven 2",
          "Oven 1",
          "Oven 3",
          "Oven 3",
          "Mixer 3",
          "Mixer 2",
          "Mixer 4",
          "Mixer 1",
          "Mixer 3",
          "Oven 1",
          "Oven 2",
          "Oven 3",
          "Oven 1",
          "Oven 2",
          "Proofer 2",
          "Proofer 1",
          "Mixer 2",
          "Oven 3"
         ],
         "yaxis": "y"
        },
        {
         "alignmentgroup": "True",
         "base": [
          "2025-01-09T04:00:32.789951",
          "2025-01-09T04:08:32.789951",
          "2025-01-09T04:38:32.789951"
         ],
         "hovertemplate": "Menu Item=Croissant<br>Start=%{base}<br>Finish=%{x}<br>Machine Index=%{y}<extra></extra>",
         "legendgroup": "Croissant",
         "marker": {
          "color": "#00cc96",
          "line": {
           "width": 0
          },
          "pattern": {
           "shape": ""
          }
         },
         "name": "Croissant",
         "offsetgroup": "Croissant",
         "orientation": "h",
         "showlegend": true,
         "textposition": "auto",
         "type": "bar",
         "x": [
          480000,
          1800000,
          1500000
         ],
         "xaxis": "x",
         "y": [
          "Mixer 2",
          "Proofer 2",
          "Oven 2"
         ],
         "yaxis": "y"
        },
        {
         "alignmentgroup": "True",
         "base": [
          "2025-01-09T04:00:32.789951",
          "2025-01-09T04:48:32.789951",
          "2025-01-09T05:33:32.789951"
         ],
         "hovertemplate": "Menu Item=Danish Pastry<br>Start=%{base}<br>Finish=%{x}<br>Machine Index=%{y}<extra></extra>",
         "legendgroup": "Danish Pastry",
         "marker": {
          "color": "#ab63fa",
          "line": {
           "width": 0
          },
          "pattern": {
           "shape": ""
          }
         },
         "name": "Danish Pastry",
         "offsetgroup": "Danish Pastry",
         "orientation": "h",
         "showlegend": true,
         "textposition": "auto",
         "type": "bar",
         "x": [
          720000,
          2700000,
          1800000
         ],
         "xaxis": "x",
         "y": [
          "Mixer 3",
          "Proofer 2",
          "Oven 3"
         ],
         "yaxis": "y"
        },
        {
         "alignmentgroup": "True",
         "base": [
          "2025-01-09T04:00:32.789951",
          "2025-01-09T05:20:32.789951",
          "2025-01-09T05:35:32.789951"
         ],
         "hovertemplate": "Menu Item=Baguette<br>Start=%{base}<br>Finish=%{x}<br>Machine Index=%{y}<extra></extra>",
         "legendgroup": "Baguette",
         "marker": {
          "color": "#FFA15A",
          "line": {
           "width": 0
          },
          "pattern": {
           "shape": ""
          }
         },
         "name": "Baguette",
         "offsetgroup": "Baguette",
         "orientation": "h",
         "showlegend": true,
         "textposition": "auto",
         "type": "bar",
         "x": [
          900000,
          900000,
          900000
         ],
         "xaxis": "x",
         "y": [
          "Mixer 4",
          "Proofer 1",
          "Oven 2"
         ],
         "yaxis": "y"
        },
        {
         "alignmentgroup": "True",
         "base": [
          "2025-01-09T04:23:32.789951",
          "2025-01-09T06:20:32.789951"
         ],
         "hovertemplate": "Menu Item=Cake<br>Start=%{base}<br>Finish=%{x}<br>Machine Index=%{y}<extra></extra>",
         "legendgroup": "Cake",
         "marker": {
          "color": "#19d3f3",
          "line": {
           "width": 0
          },
          "pattern": {
           "shape": ""
          }
         },
         "name": "Cake",
         "offsetgroup": "Cake",
         "orientation": "h",
         "showlegend": true,
         "textposition": "auto",
         "type": "bar",
         "x": [
          900000,
          3600000
         ],
         "xaxis": "x",
         "y": [
          "Mixer 2",
          "Oven 2"
         ],
         "yaxis": "y"
        },
        {
         "alignmentgroup": "True",
         "base": [
          "2025-01-09T04:25:32.789951",
          "2025-01-09T06:25:32.789951"
         ],
         "hovertemplate": "Menu Item=Pie<br>Start=%{base}<br>Finish=%{x}<br>Machine Index=%{y}<extra></extra>",
         "legendgroup": "Pie",
         "marker": {
          "color": "#FF6692",
          "line": {
           "width": 0
          },
          "pattern": {
           "shape": ""
          }
         },
         "name": "Pie",
         "offsetgroup": "Pie",
         "orientation": "h",
         "showlegend": true,
         "textposition": "auto",
         "type": "bar",
         "x": [
          1200000,
          2400000
         ],
         "xaxis": "x",
         "y": [
          "Mixer 1",
          "Oven 1"
         ],
         "yaxis": "y"
        },
        {
         "alignmentgroup": "True",
         "base": [
          "2025-01-09T04:27:32.789951",
          "2025-01-09T06:33:32.789951"
         ],
         "hovertemplate": "Menu Item=Cookies<br>Start=%{base}<br>Finish=%{x}<br>Machine Index=%{y}<extra></extra>",
         "legendgroup": "Cookies",
         "marker": {
          "color": "#B6E880",
          "line": {
           "width": 0
          },
          "pattern": {
           "shape": ""
          }
         },
         "name": "Cookies",
         "offsetgroup": "Cookies",
         "orientation": "h",
         "showlegend": true,
         "textposition": "auto",
         "type": "bar",
         "x": [
          300000,
          900000
         ],
         "xaxis": "x",
         "y": [
          "Mixer 3",
          "Oven 3"
         ],
         "yaxis": "y"
        },
        {
         "alignmentgroup": "True",
         "base": [
          "2025-01-09T04:30:32.789951",
          "2025-01-09T07:18:32.789951"
         ],
         "hovertemplate": "Menu Item=Brownies<br>Start=%{base}<br>Finish=%{x}<br>Machine Index=%{y}<extra></extra>",
         "legendgroup": "Brownies",
         "marker": {
          "color": "#FF97FF",
          "line": {
           "width": 0
          },
          "pattern": {
           "shape": ""
          }
         },
         "name": "Brownies",
         "offsetgroup": "Brownies",
         "orientation": "h",
         "showlegend": true,
         "textposition": "auto",
         "type": "bar",
         "x": [
          480000,
          1200000
         ],
         "xaxis": "x",
         "y": [
          "Mixer 4",
          "Oven 3"
         ],
         "yaxis": "y"
        },
        {
         "alignmentgroup": "True",
         "base": [
          "2025-01-09T04:47:32.789951",
          "2025-01-09T07:35:32.789951"
         ],
         "hovertemplate": "Menu Item=Macarons<br>Start=%{base}<br>Finish=%{x}<br>Machine Index=%{y}<extra></extra>",
         "legendgroup": "Macarons",
         "marker": {
          "color": "#FECB52",
          "line": {
           "width": 0
          },
          "pattern": {
           "shape": ""
          }
         },
         "name": "Macarons",
         "offsetgroup": "Macarons",
         "orientation": "h",
         "showlegend": true,
         "textposition": "auto",
         "type": "bar",
         "x": [
          180000,
          600000
         ],
         "xaxis": "x",
         "y": [
          "Mixer 3",
          "Oven 1"
         ],
         "yaxis": "y"
        },
        {
         "alignmentgroup": "True",
         "base": [
          "2025-01-09T04:53:32.789951",
          "2025-01-09T07:50:32.789951"
         ],
         "hovertemplate": "Menu Item=Cupcakes<br>Start=%{base}<br>Finish=%{x}<br>Machine Index=%{y}<extra></extra>",
         "legendgroup": "Cupcakes",
         "marker": {
          "color": "#636efa",
          "line": {
           "width": 0
          },
          "pattern": {
           "shape": ""
          }
         },
         "name": "Cupcakes",
         "offsetgroup": "Cupcakes",
         "orientation": "h",
         "showlegend": true,
         "textposition": "auto",
         "type": "bar",
         "x": [
          240000,
          720000
         ],
         "xaxis": "x",
         "y": [
          "Mixer 2",
          "Oven 2"
         ],
         "yaxis": "y"
        },
        {
         "alignmentgroup": "True",
         "base": [
          "2025-01-09T04:53:32.789951",
          "2025-01-09T08:08:32.789951"
         ],
         "hovertemplate": "Menu Item=Muffins<br>Start=%{base}<br>Finish=%{x}<br>Machine Index=%{y}<extra></extra>",
         "legendgroup": "Muffins",
         "marker": {
          "color": "#EF553B",
          "line": {
           "width": 0
          },
          "pattern": {
           "shape": ""
          }
         },
         "name": "Muffins",
         "offsetgroup": "Muffins",
         "orientation": "h",
         "showlegend": true,
         "textposition": "auto",
         "type": "bar",
         "x": [
          300000,
          600000
         ],
         "xaxis": "x",
         "y": [
          "Mixer 4",
          "Oven 3"
         ],
         "yaxis": "y"
        },
        {
         "alignmentgroup": "True",
         "base": [
          "2025-01-09T05:00:32.789951",
          "2025-01-09T08:15:32.789951",
          "2025-01-09T05:43:32.789951"
         ],
         "hovertemplate": "Menu Item=Donuts<br>Start=%{base}<br>Finish=%{x}<br>Machine Index=%{y}<extra></extra>",
         "legendgroup": "Donuts",
         "marker": {
          "color": "#00cc96",
          "line": {
           "width": 0
          },
          "pattern": {
           "shape": ""
          }
         },
         "name": "Donuts",
         "offsetgroup": "Donuts",
         "orientation": "h",
         "showlegend": true,
         "textposition": "auto",
         "type": "bar",
         "x": [
          360000,
          480000,
          900000
         ],
         "xaxis": "x",
         "y": [
          "Mixer 1",
          "Oven 1",
          "Proofer 2"
         ],
         "yaxis": "y"
        },
        {
         "alignmentgroup": "True",
         "base": [
          "2025-01-09T05:05:32.789951",
          "2025-01-09T08:32:32.789951",
          "2025-01-09T05:45:32.789951"
         ],
         "hovertemplate": "Menu Item=Bagels<br>Start=%{base}<br>Finish=%{x}<br>Machine Index=%{y}<extra></extra>",
         "legendgroup": "Bagels",
         "marker": {
          "color": "#ab63fa",
          "line": {
           "width": 0
          },
          "pattern": {
           "shape": ""
          }
         },
         "name": "Bagels",
         "offsetgroup": "Bagels",
         "orientation": "h",
         "showlegend": true,
         "textposition": "auto",
         "type": "bar",
         "x": [
          420000,
          900000,
          2700000
         ],
         "xaxis": "x",
         "y": [
          "Mixer 3",
          "Oven 2",
          "Proofer 1"
         ],
         "yaxis": "y"
        },
        {
         "alignmentgroup": "True",
         "base": [
          "2025-01-09T05:12:32.789951",
          "2025-01-09T08:48:32.789951"
         ],
         "hovertemplate": "Menu Item=Quiche<br>Start=%{base}<br>Finish=%{x}<br>Machine Index=%{y}<extra></extra>",
         "legendgroup": "Quiche",
         "marker": {
          "color": "#FFA15A",
          "line": {
           "width": 0
          },
          "pattern": {
           "shape": ""
          }
         },
         "name": "Quiche",
         "offsetgroup": "Quiche",
         "orientation": "h",
         "showlegend": true,
         "textposition": "auto",
         "type": "bar",
         "x": [
          600000,
          1800000
         ],
         "xaxis": "x",
         "y": [
          "Mixer 2",
          "Oven 3"
         ],
         "yaxis": "y"
        }
       ],
       "layout": {
        "barmode": "overlay",
        "legend": {
         "title": {
          "text": "Menu Item"
         },
         "tracegroupgap": 0
        },
        "template": {
         "data": {
          "bar": [
           {
            "error_x": {
             "color": "#2a3f5f"
            },
            "error_y": {
             "color": "#2a3f5f"
            },
            "marker": {
             "line": {
              "color": "#E5ECF6",
              "width": 0.5
             },
             "pattern": {
              "fillmode": "overlay",
              "size": 10,
              "solidity": 0.2
             }
            },
            "type": "bar"
           }
          ],
          "barpolar": [
           {
            "marker": {
             "line": {
              "color": "#E5ECF6",
              "width": 0.5
             },
             "pattern": {
              "fillmode": "overlay",
              "size": 10,
              "solidity": 0.2
             }
            },
            "type": "barpolar"
           }
          ],
          "carpet": [
           {
            "aaxis": {
             "endlinecolor": "#2a3f5f",
             "gridcolor": "white",
             "linecolor": "white",
             "minorgridcolor": "white",
             "startlinecolor": "#2a3f5f"
            },
            "baxis": {
             "endlinecolor": "#2a3f5f",
             "gridcolor": "white",
             "linecolor": "white",
             "minorgridcolor": "white",
             "startlinecolor": "#2a3f5f"
            },
            "type": "carpet"
           }
          ],
          "choropleth": [
           {
            "colorbar": {
             "outlinewidth": 0,
             "ticks": ""
            },
            "type": "choropleth"
           }
          ],
          "contour": [
           {
            "colorbar": {
             "outlinewidth": 0,
             "ticks": ""
            },
            "colorscale": [
             [
              0,
              "#0d0887"
             ],
             [
              0.1111111111111111,
              "#46039f"
             ],
             [
              0.2222222222222222,
              "#7201a8"
             ],
             [
              0.3333333333333333,
              "#9c179e"
             ],
             [
              0.4444444444444444,
              "#bd3786"
             ],
             [
              0.5555555555555556,
              "#d8576b"
             ],
             [
              0.6666666666666666,
              "#ed7953"
             ],
             [
              0.7777777777777778,
              "#fb9f3a"
             ],
             [
              0.8888888888888888,
              "#fdca26"
             ],
             [
              1,
              "#f0f921"
             ]
            ],
            "type": "contour"
           }
          ],
          "contourcarpet": [
           {
            "colorbar": {
             "outlinewidth": 0,
             "ticks": ""
            },
            "type": "contourcarpet"
           }
          ],
          "heatmap": [
           {
            "colorbar": {
             "outlinewidth": 0,
             "ticks": ""
            },
            "colorscale": [
             [
              0,
              "#0d0887"
             ],
             [
              0.1111111111111111,
              "#46039f"
             ],
             [
              0.2222222222222222,
              "#7201a8"
             ],
             [
              0.3333333333333333,
              "#9c179e"
             ],
             [
              0.4444444444444444,
              "#bd3786"
             ],
             [
              0.5555555555555556,
              "#d8576b"
             ],
             [
              0.6666666666666666,
              "#ed7953"
             ],
             [
              0.7777777777777778,
              "#fb9f3a"
             ],
             [
              0.8888888888888888,
              "#fdca26"
             ],
             [
              1,
              "#f0f921"
             ]
            ],
            "type": "heatmap"
           }
          ],
          "heatmapgl": [
           {
            "colorbar": {
             "outlinewidth": 0,
             "ticks": ""
            },
            "colorscale": [
             [
              0,
              "#0d0887"
             ],
             [
              0.1111111111111111,
              "#46039f"
             ],
             [
              0.2222222222222222,
              "#7201a8"
             ],
             [
              0.3333333333333333,
              "#9c179e"
             ],
             [
              0.4444444444444444,
              "#bd3786"
             ],
             [
              0.5555555555555556,
              "#d8576b"
             ],
             [
              0.6666666666666666,
              "#ed7953"
             ],
             [
              0.7777777777777778,
              "#fb9f3a"
             ],
             [
              0.8888888888888888,
              "#fdca26"
             ],
             [
              1,
              "#f0f921"
             ]
            ],
            "type": "heatmapgl"
           }
          ],
          "histogram": [
           {
            "marker": {
             "pattern": {
              "fillmode": "overlay",
              "size": 10,
              "solidity": 0.2
             }
            },
            "type": "histogram"
           }
          ],
          "histogram2d": [
           {
            "colorbar": {
             "outlinewidth": 0,
             "ticks": ""
            },
            "colorscale": [
             [
              0,
              "#0d0887"
             ],
             [
              0.1111111111111111,
              "#46039f"
             ],
             [
              0.2222222222222222,
              "#7201a8"
             ],
             [
              0.3333333333333333,
              "#9c179e"
             ],
             [
              0.4444444444444444,
              "#bd3786"
             ],
             [
              0.5555555555555556,
              "#d8576b"
             ],
             [
              0.6666666666666666,
              "#ed7953"
             ],
             [
              0.7777777777777778,
              "#fb9f3a"
             ],
             [
              0.8888888888888888,
              "#fdca26"
             ],
             [
              1,
              "#f0f921"
             ]
            ],
            "type": "histogram2d"
           }
          ],
          "histogram2dcontour": [
           {
            "colorbar": {
             "outlinewidth": 0,
             "ticks": ""
            },
            "colorscale": [
             [
              0,
              "#0d0887"
             ],
             [
              0.1111111111111111,
              "#46039f"
             ],
             [
              0.2222222222222222,
              "#7201a8"
             ],
             [
              0.3333333333333333,
              "#9c179e"
             ],
             [
              0.4444444444444444,
              "#bd3786"
             ],
             [
              0.5555555555555556,
              "#d8576b"
             ],
             [
              0.6666666666666666,
              "#ed7953"
             ],
             [
              0.7777777777777778,
              "#fb9f3a"
             ],
             [
              0.8888888888888888,
              "#fdca26"
             ],
             [
              1,
              "#f0f921"
             ]
            ],
            "type": "histogram2dcontour"
           }
          ],
          "mesh3d": [
           {
            "colorbar": {
             "outlinewidth": 0,
             "ticks": ""
            },
            "type": "mesh3d"
           }
          ],
          "parcoords": [
           {
            "line": {
             "colorbar": {
              "outlinewidth": 0,
              "ticks": ""
             }
            },
            "type": "parcoords"
           }
          ],
          "pie": [
           {
            "automargin": true,
            "type": "pie"
           }
          ],
          "scatter": [
           {
            "fillpattern": {
             "fillmode": "overlay",
             "size": 10,
             "solidity": 0.2
            },
            "type": "scatter"
           }
          ],
          "scatter3d": [
           {
            "line": {
             "colorbar": {
              "outlinewidth": 0,
              "ticks": ""
             }
            },
            "marker": {
             "colorbar": {
              "outlinewidth": 0,
              "ticks": ""
             }
            },
            "type": "scatter3d"
           }
          ],
          "scattercarpet": [
           {
            "marker": {
             "colorbar": {
              "outlinewidth": 0,
              "ticks": ""
             }
            },
            "type": "scattercarpet"
           }
          ],
          "scattergeo": [
           {
            "marker": {
             "colorbar": {
              "outlinewidth": 0,
              "ticks": ""
             }
            },
            "type": "scattergeo"
           }
          ],
          "scattergl": [
           {
            "marker": {
             "colorbar": {
              "outlinewidth": 0,
              "ticks": ""
             }
            },
            "type": "scattergl"
           }
          ],
          "scattermapbox": [
           {
            "marker": {
             "colorbar": {
              "outlinewidth": 0,
              "ticks": ""
             }
            },
            "type": "scattermapbox"
           }
          ],
          "scatterpolar": [
           {
            "marker": {
             "colorbar": {
              "outlinewidth": 0,
              "ticks": ""
             }
            },
            "type": "scatterpolar"
           }
          ],
          "scatterpolargl": [
           {
            "marker": {
             "colorbar": {
              "outlinewidth": 0,
              "ticks": ""
             }
            },
            "type": "scatterpolargl"
           }
          ],
          "scatterternary": [
           {
            "marker": {
             "colorbar": {
              "outlinewidth": 0,
              "ticks": ""
             }
            },
            "type": "scatterternary"
           }
          ],
          "surface": [
           {
            "colorbar": {
             "outlinewidth": 0,
             "ticks": ""
            },
            "colorscale": [
             [
              0,
              "#0d0887"
             ],
             [
              0.1111111111111111,
              "#46039f"
             ],
             [
              0.2222222222222222,
              "#7201a8"
             ],
             [
              0.3333333333333333,
              "#9c179e"
             ],
             [
              0.4444444444444444,
              "#bd3786"
             ],
             [
              0.5555555555555556,
              "#d8576b"
             ],
             [
              0.6666666666666666,
              "#ed7953"
             ],
             [
              0.7777777777777778,
              "#fb9f3a"
             ],
             [
              0.8888888888888888,
              "#fdca26"
             ],
             [
              1,
              "#f0f921"
             ]
            ],
            "type": "surface"
           }
          ],
          "table": [
           {
            "cells": {
             "fill": {
              "color": "#EBF0F8"
             },
             "line": {
              "color": "white"
             }
            },
            "header": {
             "fill": {
              "color": "#C8D4E3"
             },
             "line": {
              "color": "white"
             }
            },
            "type": "table"
           }
          ]
         },
         "layout": {
          "annotationdefaults": {
           "arrowcolor": "#2a3f5f",
           "arrowhead": 0,
           "arrowwidth": 1
          },
          "autotypenumbers": "strict",
          "coloraxis": {
           "colorbar": {
            "outlinewidth": 0,
            "ticks": ""
           }
          },
          "colorscale": {
           "diverging": [
            [
             0,
             "#8e0152"
            ],
            [
             0.1,
             "#c51b7d"
            ],
            [
             0.2,
             "#de77ae"
            ],
            [
             0.3,
             "#f1b6da"
            ],
            [
             0.4,
             "#fde0ef"
            ],
            [
             0.5,
             "#f7f7f7"
            ],
            [
             0.6,
             "#e6f5d0"
            ],
            [
             0.7,
             "#b8e186"
            ],
            [
             0.8,
             "#7fbc41"
            ],
            [
             0.9,
             "#4d9221"
            ],
            [
             1,
             "#276419"
            ]
           ],
           "sequential": [
            [
             0,
             "#0d0887"
            ],
            [
             0.1111111111111111,
             "#46039f"
            ],
            [
             0.2222222222222222,
             "#7201a8"
            ],
            [
             0.3333333333333333,
             "#9c179e"
            ],
            [
             0.4444444444444444,
             "#bd3786"
            ],
            [
             0.5555555555555556,
             "#d8576b"
            ],
            [
             0.6666666666666666,
             "#ed7953"
            ],
            [
             0.7777777777777778,
             "#fb9f3a"
            ],
            [
             0.8888888888888888,
             "#fdca26"
            ],
            [
             1,
             "#f0f921"
            ]
           ],
           "sequentialminus": [
            [
             0,
             "#0d0887"
            ],
            [
             0.1111111111111111,
             "#46039f"
            ],
            [
             0.2222222222222222,
             "#7201a8"
            ],
            [
             0.3333333333333333,
             "#9c179e"
            ],
            [
             0.4444444444444444,
             "#bd3786"
            ],
            [
             0.5555555555555556,
             "#d8576b"
            ],
            [
             0.6666666666666666,
             "#ed7953"
            ],
            [
             0.7777777777777778,
             "#fb9f3a"
            ],
            [
             0.8888888888888888,
             "#fdca26"
            ],
            [
             1,
             "#f0f921"
            ]
           ]
          },
          "colorway": [
           "#636efa",
           "#EF553B",
           "#00cc96",
           "#ab63fa",
           "#FFA15A",
           "#19d3f3",
           "#FF6692",
           "#B6E880",
           "#FF97FF",
           "#FECB52"
          ],
          "font": {
           "color": "#2a3f5f"
          },
          "geo": {
           "bgcolor": "white",
           "lakecolor": "white",
           "landcolor": "#E5ECF6",
           "showlakes": true,
           "showland": true,
           "subunitcolor": "white"
          },
          "hoverlabel": {
           "align": "left"
          },
          "hovermode": "closest",
          "mapbox": {
           "style": "light"
          },
          "paper_bgcolor": "white",
          "plot_bgcolor": "#E5ECF6",
          "polar": {
           "angularaxis": {
            "gridcolor": "white",
            "linecolor": "white",
            "ticks": ""
           },
           "bgcolor": "#E5ECF6",
           "radialaxis": {
            "gridcolor": "white",
            "linecolor": "white",
            "ticks": ""
           }
          },
          "scene": {
           "xaxis": {
            "backgroundcolor": "#E5ECF6",
            "gridcolor": "white",
            "gridwidth": 2,
            "linecolor": "white",
            "showbackground": true,
            "ticks": "",
            "zerolinecolor": "white"
           },
           "yaxis": {
            "backgroundcolor": "#E5ECF6",
            "gridcolor": "white",
            "gridwidth": 2,
            "linecolor": "white",
            "showbackground": true,
            "ticks": "",
            "zerolinecolor": "white"
           },
           "zaxis": {
            "backgroundcolor": "#E5ECF6",
            "gridcolor": "white",
            "gridwidth": 2,
            "linecolor": "white",
            "showbackground": true,
            "ticks": "",
            "zerolinecolor": "white"
           }
          },
          "shapedefaults": {
           "line": {
            "color": "#2a3f5f"
           }
          },
          "ternary": {
           "aaxis": {
            "gridcolor": "white",
            "linecolor": "white",
            "ticks": ""
           },
           "baxis": {
            "gridcolor": "white",
            "linecolor": "white",
            "ticks": ""
           },
           "bgcolor": "#E5ECF6",
           "caxis": {
            "gridcolor": "white",
            "linecolor": "white",
            "ticks": ""
           }
          },
          "title": {
           "x": 0.05
          },
          "xaxis": {
           "automargin": true,
           "gridcolor": "white",
           "linecolor": "white",
           "ticks": "",
           "title": {
            "standoff": 15
           },
           "zerolinecolor": "white",
           "zerolinewidth": 2
          },
          "yaxis": {
           "automargin": true,
           "gridcolor": "white",
           "linecolor": "white",
           "ticks": "",
           "title": {
            "standoff": 15
           },
           "zerolinecolor": "white",
           "zerolinewidth": 2
          }
         }
        },
        "title": {
         "text": "Machine Workload Visualization (Simulated Annealing) for 2025-01-16"
        },
        "xaxis": {
         "anchor": "y",
         "domain": [
          0,
          1
         ],
         "type": "date"
        },
        "yaxis": {
         "anchor": "x",
         "categoryorder": "total ascending",
         "domain": [
          0,
          1
         ],
         "title": {
          "text": "Machine Index"
         }
        }
       }
      }
     },
     "metadata": {},
     "output_type": "display_data"
    }
   ],
   "source": [
    "from datetime import datetime, timedelta\n",
    "import pandas as pd\n",
    "import random\n",
    "from collections import defaultdict\n",
    "import heapq\n",
    "import plotly.express as px\n",
    "import math\n",
    "\n",
    "# FIRSTTTTTTT\n",
    "# Define divisions and set menu items (exclusive to each division)\n",
    "divisions = {\n",
    "    \"Baking\": [\"Bread\", \"Croissant\", \"Danish Pastry\", \"Baguette\"],\n",
    "    \"Pastry\": [\"Cake\", \"Pie\", \"Cookies\", \"Brownies\"],\n",
    "    \"Confectionery\": [\"Macarons\", \"Cupcakes\", \"Muffins\", \"Donuts\", \"Bagels\"],\n",
    "    \"Butchery\": [\"Quiche\"]\n",
    "}\n",
    "\n",
    "# Define total available machinery\n",
    "total_machinery = {\n",
    "    \"Mixer\": 4,\n",
    "    \"Proofer\": 2,\n",
    "    \"Oven\": 3\n",
    "}\n",
    "\n",
    "# Define unit times for each machine and item (in minutes)\n",
    "unit_times = {\n",
    "    \"Mixer\": {\n",
    "        \"Bread\": 10,\n",
    "        \"Croissant\": 8,\n",
    "        \"Danish Pastry\": 12,\n",
    "        \"Cake\": 15,\n",
    "        \"Pie\": 20,\n",
    "        \"Cookies\": 5,\n",
    "        \"Brownies\": 8,\n",
    "        \"Macarons\": 3,\n",
    "        \"Cupcakes\": 4,\n",
    "        \"Muffins\": 5,\n",
    "        \"Donuts\": 6,\n",
    "        \"Bagels\": 7,\n",
    "        \"Quiche\": 10,\n",
    "        \"Baguette\": 15\n",
    "    },\n",
    "    \"Oven\": {\n",
    "        \"Bread\": 45,\n",
    "        \"Croissant\": 25,\n",
    "        \"Danish Pastry\": 30,\n",
    "        \"Cake\": 60,\n",
    "        \"Pie\": 40,\n",
    "        \"Cookies\": 15,\n",
    "        \"Brownies\": 20,\n",
    "        \"Macarons\": 10,\n",
    "        \"Cupcakes\": 12,\n",
    "        \"Muffins\": 10,\n",
    "        \"Donuts\": 8,\n",
    "        \"Bagels\": 15,\n",
    "        \"Quiche\": 30,\n",
    "        \"Baguette\": 15\n",
    "    },\n",
    "    \"Proofer\": {\n",
    "        \"Bread\": 60,\n",
    "        \"Croissant\": 30,\n",
    "        \"Danish Pastry\": 45,\n",
    "        \"Cake\": 0,\n",
    "        \"Pie\": 0,\n",
    "        \"Cookies\": 0,\n",
    "        \"Brownies\": 0,\n",
    "        \"Macarons\": 0,\n",
    "        \"Cupcakes\": 0,\n",
    "        \"Muffins\": 0,\n",
    "        \"Donuts\": 15,\n",
    "        \"Bagels\": 45,\n",
    "        \"Quiche\": 0,\n",
    "        \"Baguette\": 15\n",
    "    }\n",
    "}\n",
    "\n",
    "\n",
    "# Define machine downtime (in minutes)\n",
    "downtime = {\n",
    "    \"Mixer\": 15,\n",
    "    \"Oven\": 30,\n",
    "    \"Proofer\": 10,\n",
    "}\n",
    "\n",
    "def get_special_menu_input():\n",
    "    special_items = []\n",
    "    while True:\n",
    "        item_name = input(\"Enter special menu item (type 'done' to finish): \")\n",
    "        if item_name.lower() == \"done\":\n",
    "            break\n",
    "\n",
    "        print(\"Enter Division Responsible for this Menu item:\")\n",
    "        for i, division_name in enumerate(divisions.keys(), 1):  # Print divisions with numbers\n",
    "            print(f\"{i}. {division_name}\")\n",
    "\n",
    "        try:\n",
    "            division_choice = int(input(\"Choose a division (1-4): \"))\n",
    "            if division_choice not in range(1, len(divisions) + 1):  # Check against valid range\n",
    "                print(\"Invalid division. Please enter a valid division.\")\n",
    "                continue\n",
    "            division = list(divisions.keys())[division_choice - 1]  # Get division name by index\n",
    "        except (ValueError, IndexError):\n",
    "            print(\"Invalid input. Please enter a number between 1 and 4.\")\n",
    "            continue\n",
    "\n",
    "        processing_times = {}\n",
    "        for machine in total_machinery.keys():\n",
    "            try:\n",
    "                processing_time = int(input(f\"Enter processing time for {machine} in minutes: \"))\n",
    "                if processing_time < 0:\n",
    "                    raise ValueError\n",
    "                processing_times[machine] = processing_time\n",
    "            except ValueError:\n",
    "                print(\"Invalid input. Please enter a valid positive number.\")\n",
    "                continue\n",
    "\n",
    "        special_items.append({\n",
    "            \"name\": item_name,\n",
    "            \"division\": division,\n",
    "            \"processing_times\": processing_times\n",
    "        })\n",
    "\n",
    "    return special_items\n",
    "\n",
    "def schedule_tasks(divisions, special_items, machines):\n",
    "    # Initial solution: a random schedule\n",
    "    # Pass machine_order to generate_initial_schedule\n",
    "    machine_order = [\"Mixer\", \"Proofer\", \"Oven\"]  # Or any other desired order\n",
    "    current_schedule = generate_initial_schedule(divisions, special_items, machines, machine_order)\n",
    "    best_schedule = current_schedule\n",
    "    best_cost = calculate_cost(best_schedule)\n",
    "\n",
    "    if best_cost is None:\n",
    "        raise ValueError(\"Initial best cost is None. Check the calculate_cost function.\")\n",
    "\n",
    "    initial_temp = 1000  # Initial temperature\n",
    "    cooling_rate = 0.95   # Cooling rate\n",
    "    temp = initial_temp\n",
    "\n",
    "    while temp > 1:\n",
    "        # Generate a new schedule by slightly modifying the current schedule\n",
    "        new_schedule = modify_schedule(current_schedule)\n",
    "\n",
    "        # Calculate the cost of the new schedule\n",
    "        new_cost = calculate_cost(new_schedule)\n",
    "\n",
    "        if new_cost is None:\n",
    "            raise ValueError(\"New cost is None. Check the calculate_cost function.\")\n",
    "\n",
    "        # Decide whether to accept the new schedule\n",
    "        if accept_solution(best_cost, new_cost, temp):\n",
    "            current_schedule = new_schedule\n",
    "            if new_cost < best_cost:\n",
    "                best_schedule = new_schedule\n",
    "                best_cost = new_cost\n",
    "\n",
    "        # Cool down the temperature\n",
    "        temp *= cooling_rate\n",
    "\n",
    "    return best_schedule\n",
    "\n",
    "def generate_initial_schedule(divisions, special_items, machines, machine_order):\n",
    "    schedule = defaultdict(lambda: defaultdict(list))\n",
    "    start_time = datetime.now().replace(hour=4, minute=0)  # Starting at 4 AM\n",
    "    machine_order = [\"Mixer\", \"Proofer\", \"Oven\"]  # Define the required machine sequence\n",
    "\n",
    "    # Machine availability tracking (key: machine type, value: list of available times for each machine)\n",
    "    machine_times = {machine: [(start_time, i) for i in range(machines[machine])] for machine in machine_order}\n",
    "\n",
    "    # Convert to heaps for efficient retrieval of earliest available time\n",
    "    for machine in machine_times:\n",
    "        heapq.heapify(machine_times[machine])\n",
    "\n",
    "    # Combine regular items and special items\n",
    "    for division, items in divisions.items():\n",
    "        all_items = items + [item['name'] for item in special_items if item['division'] == division]\n",
    "        for item in all_items:\n",
    "            # Schedule the item on the required machines in order\n",
    "            previous_task_completion_time = start_time  # Initialize for dependency tracking\n",
    "\n",
    "            for machine in machine_order:\n",
    "                duration = unit_times[machine].get(item, 0)  # Get processing time\n",
    "                if duration > 0:  # Schedule only if processing time is greater than 0\n",
    "                    # Find the earliest available machine of this type\n",
    "                    machine_available_time, machine_index = heapq.heappop(machine_times[machine])\n",
    "                    task_start_time = max(previous_task_completion_time, machine_available_time)\n",
    "\n",
    "                    # Schedule the task\n",
    "                    schedule[division][machine].append((task_start_time, item, machine_index + 1))\n",
    "\n",
    "                    # Update machine availability, incorporating the processing time for THIS machine\n",
    "                    task_completion_time = task_start_time + timedelta(minutes=duration)\n",
    "                    heapq.heappush(machine_times[machine], (task_completion_time + timedelta(minutes=downtime[machine]), machine_index))\n",
    "\n",
    "                    # Update previous_task_completion_time for the NEXT task of THIS ITEM\n",
    "                    previous_task_completion_time = task_completion_time\n",
    "    # --- Added Check to ensure all items are in the schedule ---\n",
    "    all_menu_items = [item for sublist in divisions.values() for item in sublist] + [item['name'] for item in special_items]\n",
    "    scheduled_items = [item for division_schedule in schedule.values() for machine_schedule in division_schedule.values() for _, item, _ in machine_schedule]\n",
    "\n",
    "    missing_items = set(all_menu_items) - set(scheduled_items)\n",
    "    if missing_items:\n",
    "        print(\"WARNING: The following items were not scheduled:\", missing_items)\n",
    "\n",
    "    return schedule\n",
    "\n",
    "def modify_schedule(schedule):\n",
    "    # Convert the schedule to a list of tasks for modification\n",
    "    tasks = []\n",
    "    for division, machines in schedule.items():\n",
    "        for machine, task_list in machines.items():\n",
    "            tasks.extend(task_list)\n",
    "\n",
    "    # Randomly swap two tasks\n",
    "    if len(tasks) > 1:\n",
    "        idx1, idx2 = random.sample(range(len(tasks)), 2)\n",
    "        tasks[idx1], tasks[idx2] = tasks[idx2], tasks[idx1]  # Swap tasks\n",
    "\n",
    "    # Rebuild the schedule from modified tasks\n",
    "    new_schedule = defaultdict(lambda: defaultdict(list))\n",
    "    for task in tasks:\n",
    "        # Extract division and machine information from the original schedule\n",
    "        division = None\n",
    "        machine = None\n",
    "        for div, machines in schedule.items():\n",
    "            for mach, task_list in machines.items():\n",
    "                if task in task_list:\n",
    "                    division = div\n",
    "                    machine = mach\n",
    "                    break\n",
    "            if division is not None:\n",
    "                break\n",
    "\n",
    "        if division is not None and machine is not None:\n",
    "            task_time, item, machine_number = task\n",
    "            new_schedule[division][machine].append((task_time, item, machine_number))\n",
    "        else:\n",
    "            print(\"WARNING: Task not found in original schedule:\", task)\n",
    "\n",
    "    return new_schedule\n",
    "\n",
    "def accept_solution(best_cost, new_cost, temp):\n",
    "    \"\"\"\n",
    "    Determines whether to accept a new solution based on the Metropolis criterion.\n",
    "\n",
    "    Args:\n",
    "        best_cost (float): The cost of the best solution found so far.\n",
    "        new_cost (float): The cost of the new solution.\n",
    "        temp (float): The current temperature.\n",
    "\n",
    "    Returns:\n",
    "        bool: True if the new solution is accepted, False otherwise.\n",
    "    \"\"\"\n",
    "    if new_cost < best_cost:\n",
    "        return True  # Always accept if the new solution is better\n",
    "    else:\n",
    "        # Accept with a probability that decreases with temperature\n",
    "        acceptance_probability = math.exp((best_cost - new_cost) / temp)\n",
    "        return random.random() < acceptance_probability\n",
    "\n",
    "def calculate_cost(schedule):\n",
    "    total_cost = 0  # Initialize total cost\n",
    "\n",
    "    # Iterate through the schedule to calculate total processing time\n",
    "    for division, machines in schedule.items():\n",
    "        for machine, tasks in machines.items():\n",
    "            for task_time, item, machine_number in tasks:\n",
    "                # Get the processing time for the item on the machine\n",
    "                processing_time = unit_times[machine].get(item, 0)\n",
    "                # Add processing time to total cost\n",
    "                total_cost += processing_time\n",
    "\n",
    "                # Add downtime after each task\n",
    "                total_cost += downtime[machine]\n",
    "\n",
    "    return total_cost\n",
    "\n",
    "\n",
    "\n",
    "def create_gantt_chart(schedule, date):\n",
    "    \"\"\"\n",
    "    Creates a Gantt chart from the schedule_tasks output, including downtime in red.\n",
    "\n",
    "    Args:\n",
    "        schedule (dict): The output from schedule_tasks.\n",
    "        date (datetime): The date for which the schedule is generated.\n",
    "    \"\"\"\n",
    "    df = []\n",
    "\n",
    "    for division, machines in schedule.items():\n",
    "        for machine, tasks in machines.items():\n",
    "            for task_time, item, machine_number in tasks:\n",
    "                # Calculate the finish time based on unit_times\n",
    "                finish_time = task_time + timedelta(minutes=unit_times.get(machine, {}).get(item, 0))\n",
    "\n",
    "                # Append tasks to the DataFrame\n",
    "                df.append(dict(\n",
    "                    Machine=f\"{machine} {machine_number}\",\n",
    "                    Start=task_time,\n",
    "                    Finish=finish_time,\n",
    "                    Item=item,\n",
    "                    Type=\"Task\"  # Add a 'Type' column to distinguish between tasks and downtime\n",
    "                ))\n",
    "\n",
    "                # Add downtime after the task\n",
    "                df.append(dict(\n",
    "                    Machine=f\"{machine} {machine_number}\",\n",
    "                    Start=finish_time,\n",
    "                    Finish=finish_time + timedelta(minutes=downtime[machine]),\n",
    "                    Item=\"Downtime\",\n",
    "                    Type=\"Downtime\"  # Add a 'Type' column to distinguish between tasks and downtime\n",
    "                ))\n",
    "\n",
    "    # Convert to DataFrame\n",
    "    df = pd.DataFrame(df)  #Convert the list of dictionaries to a Pandas DataFrame\n",
    "\n",
    "    # Check if the DataFrame is empty\n",
    "    if df.empty:\n",
    "        # Create a DataFrame with the needed columns and a single empty row if empty.\n",
    "        df = pd.DataFrame(columns=[\"Machine\", \"Start\", \"Finish\", \"Item\", \"Type\"])\n",
    "        df.loc[0] = [None, None, None, None, None]\n",
    "\n",
    "    #The rest of your function as it was\n",
    "    # Ensure Start and Finish are datetime objects\n",
    "    df['Start'] = pd.to_datetime(df['Start'])\n",
    "    df['Finish'] = pd.to_datetime(df['Finish'])\n",
    "\n",
    "\n",
    "    # Create the Gantt chart using Plotly Express\n",
    "    # Define the colors for tasks and downtime\n",
    "    color_map = {\"Downtime\": \"grey\"}  # Set downtime color to black\n",
    "\n",
    "    fig = px.timeline(df, x_start=\"Start\", x_end=\"Finish\", y=\"Machine\", color=\"Item\",\n",
    "                      color_discrete_map=color_map,\n",
    "                      title=f\"Machine Workload Visualization (Simulated Annealing) for {date.strftime('%Y-%m-%d')}\",\n",
    "                      labels={\"Item\": \"Menu Item\", \"Machine\": \"Machine Index\"})\n",
    "    # Update layout for better visibility\n",
    "    fig.update_yaxes(categoryorder=\"total ascending\")\n",
    "    fig.update_traces(marker=dict(line=dict(width=0)))\n",
    "\n",
    "    fig.show()\n",
    "\n",
    "def create_dataframe(schedule):\n",
    "    # Implementation for creating a DataFrame from the schedule\n",
    "    pass\n",
    "\n",
    "\n",
    "def print_schedule(schedule, date):\n",
    "    \"\"\"Prints the schedule for a given date.\"\"\"\n",
    "    print(f\"\\nSchedule for {date.strftime('%Y-%m-%d')}:\")\n",
    "    for division, machines in schedule.items():\n",
    "        print(f\"  {division}:\")\n",
    "        for machine, tasks in machines.items():\n",
    "            if tasks:  # Only print if there are tasks\n",
    "                print(f\"    {machine}:\")\n",
    "                for task_time, item, machine_number in tasks:\n",
    "                    print(f\"      - {task_time.strftime('%H:%M')}: {item} (Machine {machine_number})\")\n",
    "            else:\n",
    "                print(f\"    {machine}: No tasks scheduled.\")\n",
    "\n",
    "\n",
    "# Example usage\n",
    "today = datetime.now()\n",
    "next_week = today + timedelta(days=7)\n",
    "\n",
    "special_items_input = get_special_menu_input()\n",
    "\n",
    "for date in [today, next_week]:\n",
    "    schedule = schedule_tasks(divisions, special_items_input, total_machinery)  # Ensure correct parameters\n",
    "    print(\"Generated Schedule:\", schedule)  # Debugging line\n",
    "    print_schedule(schedule, date)\n",
    "    create_gantt_chart(schedule, date)"
   ]
  },
  {
   "cell_type": "code",
   "execution_count": 6,
   "metadata": {},
   "outputs": [
    {
     "name": "stdout",
     "output_type": "stream",
     "text": [
      "SIMULATED ANNEALING\n",
      "Total Performance Metrics for 2 days:\n",
      "  Total Time Taken: 64.1176700592041 ms\n",
      "  Peak Memory Usage: 14349 bytes\n"
     ]
    }
   ],
   "source": [
    "from datetime import datetime, timedelta\n",
    "import pandas as pd\n",
    "import random\n",
    "from collections import defaultdict\n",
    "import heapq\n",
    "import plotly.express as px\n",
    "import math\n",
    "\n",
    "import time\n",
    "import tracemalloc\n",
    "\n",
    "# FIRSTTTTTTT\n",
    "# Define divisions and set menu items (exclusive to each division)\n",
    "divisions = {\n",
    "    \"Baking\": [\"Bread\", \"Croissant\", \"Danish Pastry\", \"Baguette\"],\n",
    "    \"Pastry\": [\"Cake\", \"Pie\", \"Cookies\", \"Brownies\"],\n",
    "    \"Confectionery\": [\"Macarons\", \"Cupcakes\", \"Muffins\", \"Donuts\", \"Bagels\"],\n",
    "    \"Butchery\": [\"Quiche\"]\n",
    "}\n",
    "\n",
    "# Define total available machinery\n",
    "total_machinery = {\n",
    "    \"Mixer\": 4,\n",
    "    \"Proofer\": 2,\n",
    "    \"Oven\": 3\n",
    "}\n",
    "\n",
    "# Define unit times for each machine and item (in minutes)\n",
    "unit_times = {\n",
    "    \"Mixer\": {\n",
    "        \"Bread\": 10,\n",
    "        \"Croissant\": 8,\n",
    "        \"Danish Pastry\": 12,\n",
    "        \"Cake\": 15,\n",
    "        \"Pie\": 20,\n",
    "        \"Cookies\": 5,\n",
    "        \"Brownies\": 8,\n",
    "        \"Macarons\": 3,\n",
    "        \"Cupcakes\": 4,\n",
    "        \"Muffins\": 5,\n",
    "        \"Donuts\": 6,\n",
    "        \"Bagels\": 7,\n",
    "        \"Quiche\": 10,\n",
    "        \"Baguette\": 15\n",
    "    },\n",
    "    \"Oven\": {\n",
    "        \"Bread\": 45,\n",
    "        \"Croissant\": 25,\n",
    "        \"Danish Pastry\": 30,\n",
    "        \"Cake\": 60,\n",
    "        \"Pie\": 40,\n",
    "        \"Cookies\": 15,\n",
    "        \"Brownies\": 20,\n",
    "        \"Macarons\": 10,\n",
    "        \"Cupcakes\": 12,\n",
    "        \"Muffins\": 10,\n",
    "        \"Donuts\": 8,\n",
    "        \"Bagels\": 15,\n",
    "        \"Quiche\": 30,\n",
    "        \"Baguette\": 15\n",
    "    },\n",
    "    \"Proofer\": {\n",
    "        \"Bread\": 60,\n",
    "        \"Croissant\": 30,\n",
    "        \"Danish Pastry\": 45,\n",
    "        \"Cake\": 0,\n",
    "        \"Pie\": 0,\n",
    "        \"Cookies\": 0,\n",
    "        \"Brownies\": 0,\n",
    "        \"Macarons\": 0,\n",
    "        \"Cupcakes\": 0,\n",
    "        \"Muffins\": 0,\n",
    "        \"Donuts\": 15,\n",
    "        \"Bagels\": 45,\n",
    "        \"Quiche\": 0,\n",
    "        \"Baguette\": 15\n",
    "    }\n",
    "}\n",
    "\n",
    "\n",
    "# Define machine downtime (in minutes)\n",
    "downtime = {\n",
    "    \"Mixer\": 15,\n",
    "    \"Oven\": 30,\n",
    "    \"Proofer\": 10,\n",
    "}\n",
    "\n",
    "def get_special_menu_input():\n",
    "    special_items = []\n",
    "    while True:\n",
    "        item_name = input(\"Enter special menu item (type 'done' to finish): \")\n",
    "        if item_name.lower() == \"done\":\n",
    "            break\n",
    "\n",
    "        print(\"Enter Division Responsible for this Menu item:\")\n",
    "        for i, division_name in enumerate(divisions.keys(), 1):  # Print divisions with numbers\n",
    "            print(f\"{i}. {division_name}\")\n",
    "\n",
    "        try:\n",
    "            division_choice = int(input(\"Choose a division (1-4): \"))\n",
    "            if division_choice not in range(1, len(divisions) + 1):  # Check against valid range\n",
    "                print(\"Invalid division. Please enter a valid division.\")\n",
    "                continue\n",
    "            division = list(divisions.keys())[division_choice - 1]  # Get division name by index\n",
    "        except (ValueError, IndexError):\n",
    "            print(\"Invalid input. Please enter a number between 1 and 4.\")\n",
    "            continue\n",
    "\n",
    "        processing_times = {}\n",
    "        for machine in total_machinery.keys():\n",
    "            try:\n",
    "                processing_time = int(input(f\"Enter processing time for {machine} in minutes: \"))\n",
    "                if processing_time < 0:\n",
    "                    raise ValueError\n",
    "                processing_times[machine] = processing_time\n",
    "            except ValueError:\n",
    "                print(\"Invalid input. Please enter a valid positive number.\")\n",
    "                continue\n",
    "\n",
    "        special_items.append({\n",
    "            \"name\": item_name,\n",
    "            \"division\": division,\n",
    "            \"processing_times\": processing_times\n",
    "        })\n",
    "\n",
    "    return special_items\n",
    "\n",
    "def schedule_tasks(divisions, special_items, machines):\n",
    "    # Initial solution: a random schedule\n",
    "    # Pass machine_order to generate_initial_schedule\n",
    "    machine_order = [\"Mixer\", \"Proofer\", \"Oven\"]  # Or any other desired order\n",
    "    current_schedule = generate_initial_schedule(divisions, special_items, machines, machine_order)\n",
    "    best_schedule = current_schedule\n",
    "    best_cost = calculate_cost(best_schedule)\n",
    "\n",
    "    if best_cost is None:\n",
    "        raise ValueError(\"Initial best cost is None. Check the calculate_cost function.\")\n",
    "\n",
    "    initial_temp = 1000  # Initial temperature\n",
    "    cooling_rate = 0.95   # Cooling rate\n",
    "    temp = initial_temp\n",
    "\n",
    "    while temp > 1:\n",
    "        # Generate a new schedule by slightly modifying the current schedule\n",
    "        new_schedule = modify_schedule(current_schedule)\n",
    "\n",
    "        # Calculate the cost of the new schedule\n",
    "        new_cost = calculate_cost(new_schedule)\n",
    "\n",
    "        if new_cost is None:\n",
    "            raise ValueError(\"New cost is None. Check the calculate_cost function.\")\n",
    "\n",
    "        # Decide whether to accept the new schedule\n",
    "        if accept_solution(best_cost, new_cost, temp):\n",
    "            current_schedule = new_schedule\n",
    "            if new_cost < best_cost:\n",
    "                best_schedule = new_schedule\n",
    "                best_cost = new_cost\n",
    "\n",
    "        # Cool down the temperature\n",
    "        temp *= cooling_rate\n",
    "\n",
    "    return best_schedule\n",
    "\n",
    "def generate_initial_schedule(divisions, special_items, machines, machine_order):\n",
    "    schedule = defaultdict(lambda: defaultdict(list))\n",
    "    start_time = datetime.now().replace(hour=4, minute=0)  # Starting at 4 AM\n",
    "    machine_order = [\"Mixer\", \"Proofer\", \"Oven\"]  # Define the required machine sequence\n",
    "\n",
    "    # Machine availability tracking (key: machine type, value: list of available times for each machine)\n",
    "    machine_times = {machine: [(start_time, i) for i in range(machines[machine])] for machine in machine_order}\n",
    "\n",
    "    # Convert to heaps for efficient retrieval of earliest available time\n",
    "    for machine in machine_times:\n",
    "        heapq.heapify(machine_times[machine])\n",
    "\n",
    "    # Combine regular items and special items\n",
    "    for division, items in divisions.items():\n",
    "        all_items = items + [item['name'] for item in special_items if item['division'] == division]\n",
    "        for item in all_items:\n",
    "            # Schedule the item on the required machines in order\n",
    "            previous_task_completion_time = start_time  # Initialize for dependency tracking\n",
    "\n",
    "            for machine in machine_order:\n",
    "                duration = unit_times[machine].get(item, 0)  # Get processing time\n",
    "                if duration > 0:  # Schedule only if processing time is greater than 0\n",
    "                    # Find the earliest available machine of this type\n",
    "                    machine_available_time, machine_index = heapq.heappop(machine_times[machine])\n",
    "                    task_start_time = max(previous_task_completion_time, machine_available_time)\n",
    "\n",
    "                    # Schedule the task\n",
    "                    schedule[division][machine].append((task_start_time, item, machine_index + 1))\n",
    "\n",
    "                    # Update machine availability, incorporating the processing time for THIS machine\n",
    "                    task_completion_time = task_start_time + timedelta(minutes=duration)\n",
    "                    heapq.heappush(machine_times[machine], (task_completion_time + timedelta(minutes=downtime[machine]), machine_index))\n",
    "\n",
    "                    # Update previous_task_completion_time for the NEXT task of THIS ITEM\n",
    "                    previous_task_completion_time = task_completion_time\n",
    "    # --- Added Check to ensure all items are in the schedule ---\n",
    "    all_menu_items = [item for sublist in divisions.values() for item in sublist] + [item['name'] for item in special_items]\n",
    "    scheduled_items = [item for division_schedule in schedule.values() for machine_schedule in division_schedule.values() for _, item, _ in machine_schedule]\n",
    "\n",
    "    missing_items = set(all_menu_items) - set(scheduled_items)\n",
    "    if missing_items:\n",
    "        print(\"WARNING: The following items were not scheduled:\", missing_items)\n",
    "\n",
    "    return schedule\n",
    "\n",
    "def modify_schedule(schedule):\n",
    "    # Convert the schedule to a list of tasks for modification\n",
    "    tasks = []\n",
    "    for division, machines in schedule.items():\n",
    "        for machine, task_list in machines.items():\n",
    "            tasks.extend(task_list)\n",
    "\n",
    "    # Randomly swap two tasks\n",
    "    if len(tasks) > 1:\n",
    "        idx1, idx2 = random.sample(range(len(tasks)), 2)\n",
    "        tasks[idx1], tasks[idx2] = tasks[idx2], tasks[idx1]  # Swap tasks\n",
    "\n",
    "    # Rebuild the schedule from modified tasks\n",
    "    new_schedule = defaultdict(lambda: defaultdict(list))\n",
    "    for task in tasks:\n",
    "        # Extract division and machine information from the original schedule\n",
    "        division = None\n",
    "        machine = None\n",
    "        for div, machines in schedule.items():\n",
    "            for mach, task_list in machines.items():\n",
    "                if task in task_list:\n",
    "                    division = div\n",
    "                    machine = mach\n",
    "                    break\n",
    "            if division is not None:\n",
    "                break\n",
    "\n",
    "        if division is not None and machine is not None:\n",
    "            task_time, item, machine_number = task\n",
    "            new_schedule[division][machine].append((task_time, item, machine_number))\n",
    "        else:\n",
    "            print(\"WARNING: Task not found in original schedule:\", task)\n",
    "\n",
    "    return new_schedule\n",
    "\n",
    "def accept_solution(best_cost, new_cost, temp):\n",
    "    \"\"\"\n",
    "    Determines whether to accept a new solution based on the Metropolis criterion.\n",
    "\n",
    "    Args:\n",
    "        best_cost (float): The cost of the best solution found so far.\n",
    "        new_cost (float): The cost of the new solution.\n",
    "        temp (float): The current temperature.\n",
    "\n",
    "    Returns:\n",
    "        bool: True if the new solution is accepted, False otherwise.\n",
    "    \"\"\"\n",
    "    if new_cost < best_cost:\n",
    "        return True  # Always accept if the new solution is better\n",
    "    else:\n",
    "        # Accept with a probability that decreases with temperature\n",
    "        acceptance_probability = math.exp((best_cost - new_cost) / temp)\n",
    "        return random.random() < acceptance_probability\n",
    "\n",
    "def calculate_cost(schedule):\n",
    "    total_cost = 0  # Initialize total cost\n",
    "\n",
    "    # Iterate through the schedule to calculate total processing time\n",
    "    for division, machines in schedule.items():\n",
    "        for machine, tasks in machines.items():\n",
    "            for task_time, item, machine_number in tasks:\n",
    "                # Get the processing time for the item on the machine\n",
    "                processing_time = unit_times[machine].get(item, 0)\n",
    "                # Add processing time to total cost\n",
    "                total_cost += processing_time\n",
    "\n",
    "                # Add downtime after each task\n",
    "                total_cost += downtime[machine]\n",
    "\n",
    "    return total_cost\n",
    "\n",
    "\n",
    "\n",
    "def create_gantt_chart(schedule, date):\n",
    "    \"\"\"\n",
    "    Creates a Gantt chart from the schedule_tasks output, including downtime in red.\n",
    "\n",
    "    Args:\n",
    "        schedule (dict): The output from schedule_tasks.\n",
    "        date (datetime): The date for which the schedule is generated.\n",
    "    \"\"\"\n",
    "    df = []\n",
    "\n",
    "    for division, machines in schedule.items():\n",
    "        for machine, tasks in machines.items():\n",
    "            for task_time, item, machine_number in tasks:\n",
    "                # Calculate the finish time based on unit_times\n",
    "                finish_time = task_time + timedelta(minutes=unit_times.get(machine, {}).get(item, 0))\n",
    "\n",
    "                # Append tasks to the DataFrame\n",
    "                df.append(dict(\n",
    "                    Machine=f\"{machine} {machine_number}\",\n",
    "                    Start=task_time,\n",
    "                    Finish=finish_time,\n",
    "                    Item=item,\n",
    "                    Type=\"Task\"  # Add a 'Type' column to distinguish between tasks and downtime\n",
    "                ))\n",
    "\n",
    "                # Add downtime after the task\n",
    "                df.append(dict(\n",
    "                    Machine=f\"{machine} {machine_number}\",\n",
    "                    Start=finish_time,\n",
    "                    Finish=finish_time + timedelta(minutes=downtime[machine]),\n",
    "                    Item=\"Downtime\",\n",
    "                    Type=\"Downtime\"  # Add a 'Type' column to distinguish between tasks and downtime\n",
    "                ))\n",
    "\n",
    "    # Convert to DataFrame\n",
    "    df = pd.DataFrame(df)  #Convert the list of dictionaries to a Pandas DataFrame\n",
    "\n",
    "    # Check if the DataFrame is empty\n",
    "    if df.empty:\n",
    "        # Create a DataFrame with the needed columns and a single empty row if empty.\n",
    "        df = pd.DataFrame(columns=[\"Machine\", \"Start\", \"Finish\", \"Item\", \"Type\"])\n",
    "        df.loc[0] = [None, None, None, None, None]\n",
    "\n",
    "    #The rest of your function as it was\n",
    "    # Ensure Start and Finish are datetime objects\n",
    "    df['Start'] = pd.to_datetime(df['Start'])\n",
    "    df['Finish'] = pd.to_datetime(df['Finish'])\n",
    "\n",
    "\n",
    "    # Create the Gantt chart using Plotly Express\n",
    "    # Define the colors for tasks and downtime\n",
    "    color_map = {\"Downtime\": \"grey\"}  # Set downtime color to black\n",
    "\n",
    "    fig = px.timeline(df, x_start=\"Start\", x_end=\"Finish\", y=\"Machine\", color=\"Item\",\n",
    "                      color_discrete_map=color_map,\n",
    "                      title=f\"Machine Workload Visualization (Simulated Annealing) for {date.strftime('%Y-%m-%d')}\",\n",
    "                      labels={\"Item\": \"Menu Item\", \"Machine\": \"Machine Index\"})\n",
    "    # Update layout for better visibility\n",
    "    fig.update_yaxes(categoryorder=\"total ascending\")\n",
    "    fig.update_traces(marker=dict(line=dict(width=0)))\n",
    "\n",
    "    fig.show()\n",
    "\n",
    "def create_dataframe(schedule):\n",
    "    # Implementation for creating a DataFrame from the schedule\n",
    "    pass\n",
    "\n",
    "\n",
    "def print_schedule(schedule, date):\n",
    "    \"\"\"Prints the schedule for a given date.\"\"\"\n",
    "    print(f\"\\nSchedule for {date.strftime('%Y-%m-%d')}:\")\n",
    "    for division, machines in schedule.items():\n",
    "        print(f\"  {division}:\")\n",
    "        for machine, tasks in machines.items():\n",
    "            if tasks:  # Only print if there are tasks\n",
    "                print(f\"    {machine}:\")\n",
    "                for task_time, item, machine_number in tasks:\n",
    "                    print(f\"      - {task_time.strftime('%H:%M')}: {item} (Machine {machine_number})\")\n",
    "            else:\n",
    "                print(f\"    {machine}: No tasks scheduled.\")\n",
    "\n",
    "def measure_total_performance_simulated_annealing(schedule_function, divisions, special_items, machines, dates):\n",
    "    \"\"\"\n",
    "    Measures the total time and space complexity of the simulated annealing scheduling algorithm for multiple dates.\n",
    "\n",
    "    Args:\n",
    "        schedule_function (function): The scheduling function to measure.\n",
    "        divisions (dict): The divisions and their items.\n",
    "        special_items (list): The special items to schedule.\n",
    "        machines (dict): The available machinery.\n",
    "        dates (list): List of dates to run the scheduling function for.\n",
    "\n",
    "    Returns:\n",
    "        dict: Total time taken (in milliseconds) and peak memory usage (in bytes).\n",
    "    \"\"\"\n",
    "    total_time_ms = 0\n",
    "    total_peak_memory = 0\n",
    "\n",
    "    for date in dates:\n",
    "        # Start measuring memory\n",
    "        tracemalloc.start()\n",
    "\n",
    "        # Start measuring time in milliseconds\n",
    "        start_time = time.time()\n",
    "\n",
    "        # Execute the scheduling function\n",
    "        schedule_function(divisions, special_items, machines)\n",
    "\n",
    "        # End measuring time in milliseconds\n",
    "        end_time = time.time()\n",
    "\n",
    "        # Stop measuring memory\n",
    "        current, peak_memory = tracemalloc.get_traced_memory()\n",
    "        tracemalloc.stop()\n",
    "\n",
    "        # Accumulate total time and memory\n",
    "        total_time_ms += ((end_time - start_time) * 1000)  # Convert to milliseconds\n",
    "        total_peak_memory = max(total_peak_memory, peak_memory)  # Use peak memory across all runs\n",
    "\n",
    "    return {\n",
    "        \"Total Time Taken (ms)\": total_time_ms,\n",
    "        \"Peak Memory Usage (bytes)\": total_peak_memory\n",
    "    }\n",
    "\n",
    "# Example usage\n",
    "dates = [today, next_week]  # List of dates for performance measurement\n",
    "\n",
    "# Measure performance for the simulated annealing approach\n",
    "performance_simulated_annealing = measure_total_performance_simulated_annealing(schedule_tasks, divisions, special_items_input, total_machinery, dates)\n",
    "\n",
    "# Print total performance metrics for simulated annealing\n",
    "print(f\"SIMULATED ANNEALING\")\n",
    "print(f\"Total Performance Metrics for {len(dates)} days:\")\n",
    "print(f\"  Total Time Taken: {performance_simulated_annealing['Total Time Taken (ms)']} ms\")\n",
    "print(f\"  Peak Memory Usage: {performance_simulated_annealing['Peak Memory Usage (bytes)']} bytes\")"
   ]
  },
  {
   "cell_type": "markdown",
   "metadata": {},
   "source": [
    "#unoptimized last resort"
   ]
  },
  {
   "cell_type": "code",
   "execution_count": null,
   "metadata": {},
   "outputs": [],
   "source": [
    "from datetime import datetime, timedelta\n",
    "import pandas as pd\n",
    "import random\n",
    "from collections import defaultdict\n",
    "import heapq\n",
    "import plotly.express as px\n",
    "import math\n",
    "\n",
    "# FIRSTTTTTTT\n",
    "# Define divisions and set menu items (exclusive to each division)\n",
    "divisions = {\n",
    "    \"Baking\": [\"Bread\", \"Croissant\", \"Danish Pastry\"],\n",
    "    \"Pastry\": [\"Cake\", \"Pie\", \"Cookies\", \"Brownies\"],\n",
    "    \"Confectionery\": [\"Macarons\", \"Cupcakes\", \"Muffins\", \"Donuts\", \"Bagels\"],\n",
    "    \"Butchery\": [\"Quiche\"]\n",
    "}\n",
    "\n",
    "# Define total available machinery\n",
    "total_machinery = {\n",
    "    \"Mixer\": 4,\n",
    "    \"Proofer\": 2,\n",
    "    \"Oven\": 3\n",
    "}\n",
    "\n",
    "# Define unit times for each machine and item (in minutes)\n",
    "unit_times = {\n",
    "    \"Mixer\": {\n",
    "        \"Bread\": 10,\n",
    "        \"Croissant\": 8,\n",
    "        \"Danish Pastry\": 12,\n",
    "        \"Cake\": 15,\n",
    "        \"Pie\": 20,\n",
    "        \"Cookies\": 5,\n",
    "        \"Brownies\": 8,\n",
    "        \"Macarons\": 3,\n",
    "        \"Cupcakes\": 4,\n",
    "        \"Muffins\": 5,\n",
    "        \"Donuts\": 6,\n",
    "        \"Bagels\": 7,\n",
    "        \"Quiche\": 10\n",
    "    },\n",
    "    \"Oven\": {\n",
    "        \"Bread\": 45,\n",
    "        \"Croissant\": 25,\n",
    "        \"Danish Pastry\": 30,\n",
    "        \"Cake\": 60,\n",
    "        \"Pie\": 40,\n",
    "        \"Cookies\": 15,\n",
    "        \"Brownies\": 20,\n",
    "        \"Macarons\": 10,\n",
    "        \"Cupcakes\": 12,\n",
    "        \"Muffins\": 10,\n",
    "        \"Donuts\": 8,\n",
    "        \"Bagels\": 15,\n",
    "        \"Quiche\": 30\n",
    "    },\n",
    "    \"Proofer\": {\n",
    "        \"Bread\": 60,\n",
    "        \"Croissant\": 30,\n",
    "        \"Danish Pastry\": 45,\n",
    "        \"Cake\": 0,\n",
    "        \"Pie\": 0,\n",
    "        \"Cookies\": 0,\n",
    "        \"Brownies\": 0,\n",
    "        \"Macarons\": 0,\n",
    "        \"Cupcakes\": 0,\n",
    "        \"Muffins\": 0,\n",
    "        \"Donuts\": 15,\n",
    "        \"Bagels\": 45,\n",
    "        \"Quiche\": 0\n",
    "    }\n",
    "}\n",
    "\n",
    "# Define machine downtime (in minutes)\n",
    "downtime = {\n",
    "    \"Mixer\": 15,\n",
    "    \"Oven\": 30,\n",
    "    \"Proofer\": 10,\n",
    "}\n",
    "\n",
    "def get_special_menu_input():\n",
    "    special_items = []\n",
    "    while True:\n",
    "        item_name = input(\"Enter special menu item (type 'done' to finish): \")\n",
    "        if item_name.lower() == \"done\":\n",
    "            break\n",
    "\n",
    "        print(\"Enter Division Responsible for this Menu item:\")\n",
    "        for i, division_name in enumerate(divisions.keys(), 1):  # Print divisions with numbers\n",
    "            print(f\"{i}. {division_name}\")\n",
    "\n",
    "        try:\n",
    "            division_choice = int(input(\"Choose a division (1-4): \"))\n",
    "            if division_choice not in range(1, len(divisions) + 1):  # Check against valid range\n",
    "                print(\"Invalid division. Please enter a valid division.\")\n",
    "                continue\n",
    "            division = list(divisions.keys())[division_choice - 1]  # Get division name by index\n",
    "        except (ValueError, IndexError):\n",
    "            print(\"Invalid input. Please enter a number between 1 and 4.\")\n",
    "            continue\n",
    "\n",
    "        processing_times = {}\n",
    "        for machine in total_machinery.keys():\n",
    "            try:\n",
    "                processing_time = int(input(f\"Enter processing time for {machine} in minutes: \"))\n",
    "                if processing_time < 0:\n",
    "                    raise ValueError\n",
    "                processing_times[machine] = processing_time\n",
    "            except ValueError:\n",
    "                print(\"Invalid input. Please enter a valid positive number.\")\n",
    "                continue\n",
    "\n",
    "        special_items.append({\n",
    "            \"name\": item_name,\n",
    "            \"division\": division,\n",
    "            \"processing_times\": processing_times\n",
    "        })\n",
    "\n",
    "    return special_items\n",
    "\n",
    "def schedule_tasks(divisions, special_items, machines):\n",
    "    # Initial solution: a random schedule\n",
    "    # Pass machine_order to generate_initial_schedule\n",
    "    machine_order = [\"Mixer\", \"Proofer\", \"Oven\"]  # Or any other desired order\n",
    "    current_schedule = generate_initial_schedule(divisions, special_items, machines, machine_order)\n",
    "    best_schedule = current_schedule\n",
    "    best_cost = calculate_cost(best_schedule)\n",
    "\n",
    "    if best_cost is None:\n",
    "        raise ValueError(\"Initial best cost is None. Check the calculate_cost function.\")\n",
    "\n",
    "    initial_temp = 1000  # Initial temperature\n",
    "    cooling_rate = 0.95   # Cooling rate\n",
    "    temp = initial_temp\n",
    "\n",
    "    while temp > 1:\n",
    "        # Generate a new schedule by slightly modifying the current schedule\n",
    "        new_schedule = modify_schedule(current_schedule)\n",
    "\n",
    "        # Calculate the cost of the new schedule\n",
    "        new_cost = calculate_cost(new_schedule)\n",
    "\n",
    "        if new_cost is None:\n",
    "            raise ValueError(\"New cost is None. Check the calculate_cost function.\")\n",
    "\n",
    "        # Decide whether to accept the new schedule\n",
    "        if accept_solution(best_cost, new_cost, temp):\n",
    "            current_schedule = new_schedule\n",
    "            if new_cost < best_cost:\n",
    "                best_schedule = new_schedule\n",
    "                best_cost = new_cost\n",
    "\n",
    "        # Cool down the temperature\n",
    "        temp *= cooling_rate\n",
    "\n",
    "    return best_schedule\n",
    "\n",
    "def generate_initial_schedule(divisions, special_items, machines, machine_order):\n",
    "    schedule = defaultdict(lambda: defaultdict(list))\n",
    "    start_time = datetime.now().replace(hour=4, minute=0)  # Starting at 4 AM\n",
    "    machine_order = [\"Mixer\", \"Proofer\", \"Oven\"]  # Define the required machine sequence\n",
    "\n",
    "    # Machine availability tracking (key: machine type, value: list of available times for each machine)\n",
    "    machine_times = {machine: [(start_time, i) for i in range(machines[machine])] for machine in machine_order}\n",
    "\n",
    "    # Convert to heaps for efficient retrieval of earliest available time\n",
    "    for machine in machine_times:\n",
    "        heapq.heapify(machine_times[machine])\n",
    "\n",
    "    # Combine regular items and special items\n",
    "    for division, items in divisions.items():\n",
    "        all_items = items + [item['name'] for item in special_items if item['division'] == division]\n",
    "        for item in all_items:\n",
    "            # Schedule the item on the required machines in order\n",
    "            previous_task_completion_time = start_time  # Initialize for dependency tracking\n",
    "\n",
    "            for machine in machine_order:\n",
    "                duration = unit_times[machine].get(item, 0)  # Get processing time\n",
    "                if duration > 0:  # Schedule only if processing time is greater than 0\n",
    "                    # Find the earliest available machine of this type\n",
    "                    machine_available_time, machine_index = heapq.heappop(machine_times[machine])\n",
    "                    task_start_time = max(previous_task_completion_time, machine_available_time)\n",
    "\n",
    "                    # Schedule the task\n",
    "                    schedule[division][machine].append((task_start_time, item, machine_index + 1))\n",
    "\n",
    "                    # Update machine availability, incorporating the processing time for THIS machine\n",
    "                    task_completion_time = task_start_time + timedelta(minutes=duration)\n",
    "                    heapq.heappush(machine_times[machine], (task_completion_time + timedelta(minutes=downtime[machine]), machine_index))\n",
    "\n",
    "                    # Update previous_task_completion_time for the NEXT task of THIS ITEM\n",
    "                    previous_task_completion_time = task_completion_time\n",
    "    # --- Added Check to ensure all items are in the schedule ---\n",
    "    all_menu_items = [item for sublist in divisions.values() for item in sublist] + [item['name'] for item in special_items]\n",
    "    scheduled_items = [item for division_schedule in schedule.values() for machine_schedule in division_schedule.values() for _, item, _ in machine_schedule]\n",
    "\n",
    "    missing_items = set(all_menu_items) - set(scheduled_items)\n",
    "    if missing_items:\n",
    "        print(\"WARNING: The following items were not scheduled:\", missing_items)\n",
    "\n",
    "    return schedule\n",
    "\n",
    "def modify_schedule(schedule):\n",
    "    # Convert the schedule to a list of tasks for modification\n",
    "    tasks = []\n",
    "    for division, machines in schedule.items():\n",
    "        for machine, task_list in machines.items():\n",
    "            tasks.extend(task_list)\n",
    "\n",
    "    # Randomly swap two tasks\n",
    "    if len(tasks) > 1:\n",
    "        idx1, idx2 = random.sample(range(len(tasks)), 2)\n",
    "        tasks[idx1], tasks[idx2] = tasks[idx2], tasks[idx1]  # Swap tasks\n",
    "\n",
    "    # Rebuild the schedule from modified tasks\n",
    "    new_schedule = defaultdict(lambda: defaultdict(list))\n",
    "    for task in tasks:\n",
    "        # Extract division and machine information from the original schedule\n",
    "        division = None\n",
    "        machine = None\n",
    "        for div, machines in schedule.items():\n",
    "            for mach, task_list in machines.items():\n",
    "                if task in task_list:\n",
    "                    division = div\n",
    "                    machine = mach\n",
    "                    break\n",
    "            if division is not None:\n",
    "                break\n",
    "\n",
    "        if division is not None and machine is not None:\n",
    "            task_time, item, machine_number = task\n",
    "            new_schedule[division][machine].append((task_time, item, machine_number))\n",
    "        else:\n",
    "            print(\"WARNING: Task not found in original schedule:\", task)\n",
    "\n",
    "    return new_schedule\n",
    "\n",
    "def accept_solution(best_cost, new_cost, temp):\n",
    "    \"\"\"\n",
    "    Determines whether to accept a new solution based on the Metropolis criterion.\n",
    "\n",
    "    Args:\n",
    "        best_cost (float): The cost of the best solution found so far.\n",
    "        new_cost (float): The cost of the new solution.\n",
    "        temp (float): The current temperature.\n",
    "\n",
    "    Returns:\n",
    "        bool: True if the new solution is accepted, False otherwise.\n",
    "    \"\"\"\n",
    "    if new_cost < best_cost:\n",
    "        return True  # Always accept if the new solution is better\n",
    "    else:\n",
    "        # Accept with a probability that decreases with temperature\n",
    "        acceptance_probability = math.exp((best_cost - new_cost) / temp)\n",
    "        return random.random() < acceptance_probability\n",
    "\n",
    "def calculate_cost(schedule):\n",
    "    total_cost = 0  # Initialize total cost\n",
    "\n",
    "    # Iterate through the schedule to calculate total processing time\n",
    "    for division, machines in schedule.items():\n",
    "        for machine, tasks in machines.items():\n",
    "            for task_time, item, machine_number in tasks:\n",
    "                # Get the processing time for the item on the machine\n",
    "                processing_time = unit_times[machine].get(item, 0)\n",
    "                # Add processing time to total cost\n",
    "                total_cost += processing_time\n",
    "\n",
    "                # Add downtime after each task\n",
    "                total_cost += downtime[machine]\n",
    "\n",
    "    return total_cost\n",
    "\n",
    "\n",
    "\n",
    "def create_gantt_chart(schedule, date):\n",
    "    \"\"\"\n",
    "    Creates a Gantt chart from the schedule_tasks output, including downtime in red.\n",
    "\n",
    "    Args:\n",
    "        schedule (dict): The output from schedule_tasks.\n",
    "        date (datetime): The date for which the schedule is generated.\n",
    "    \"\"\"\n",
    "    df = []\n",
    "\n",
    "    for division, machines in schedule.items():\n",
    "        for machine, tasks in machines.items():\n",
    "            for task_time, item, machine_number in tasks:\n",
    "                # Calculate the finish time based on unit_times\n",
    "                finish_time = task_time + timedelta(minutes=unit_times.get(machine, {}).get(item, 0))\n",
    "\n",
    "                # Append tasks to the DataFrame\n",
    "                df.append(dict(\n",
    "                    Machine=f\"{machine} {machine_number}\",\n",
    "                    Start=task_time,\n",
    "                    Finish=finish_time,\n",
    "                    Item=item,\n",
    "                    Type=\"Task\"  # Add a 'Type' column to distinguish between tasks and downtime\n",
    "                ))\n",
    "\n",
    "                # Add downtime after the task\n",
    "                df.append(dict(\n",
    "                    Machine=f\"{machine} {machine_number}\",\n",
    "                    Start=finish_time,\n",
    "                    Finish=finish_time + timedelta(minutes=downtime[machine]),\n",
    "                    Item=\"Downtime\",\n",
    "                    Type=\"Downtime\"  # Add a 'Type' column to distinguish between tasks and downtime\n",
    "                ))\n",
    "\n",
    "    # Convert to DataFrame\n",
    "    df = pd.DataFrame(df)  #Convert the list of dictionaries to a Pandas DataFrame\n",
    "\n",
    "    # Check if the DataFrame is empty\n",
    "    if df.empty:\n",
    "        # Create a DataFrame with the needed columns and a single empty row if empty.\n",
    "        df = pd.DataFrame(columns=[\"Machine\", \"Start\", \"Finish\", \"Item\", \"Type\"])\n",
    "        df.loc[0] = [None, None, None, None, None]\n",
    "\n",
    "    #The rest of your function as it was\n",
    "    # Ensure Start and Finish are datetime objects\n",
    "    df['Start'] = pd.to_datetime(df['Start'])\n",
    "    df['Finish'] = pd.to_datetime(df['Finish'])\n",
    "\n",
    "\n",
    "    # Create the Gantt chart using Plotly Express\n",
    "    # Define the colors for tasks and downtime\n",
    "    color_map = {\"Downtime\": \"grey\"}  # Set downtime color to black\n",
    "\n",
    "    fig = px.timeline(df, x_start=\"Start\", x_end=\"Finish\", y=\"Machine\", color=\"Item\",\n",
    "                      color_discrete_map=color_map,\n",
    "                      title=f\"Machine Workload Visualization (Simulated Annealing) for {date.strftime('%Y-%m-%d')}\",\n",
    "                      labels={\"Item\": \"Menu Item\", \"Machine\": \"Machine Index\"})\n",
    "    # Update layout for better visibility\n",
    "    fig.update_yaxes(categoryorder=\"total ascending\")\n",
    "    fig.update_traces(marker=dict(line=dict(width=0)))\n",
    "\n",
    "    fig.show()\n",
    "\n",
    "def create_dataframe(schedule):\n",
    "    # Implementation for creating a DataFrame from the schedule\n",
    "    pass\n",
    "\n",
    "\n",
    "def print_schedule(schedule, date):\n",
    "    \"\"\"Prints the schedule for a given date.\"\"\"\n",
    "    print(f\"\\nSchedule for {date.strftime('%Y-%m-%d')}:\")\n",
    "    for division, machines in schedule.items():\n",
    "        print(f\"  {division}:\")\n",
    "        for machine, tasks in machines.items():\n",
    "            if tasks:  # Only print if there are tasks\n",
    "                print(f\"    {machine}:\")\n",
    "                for task_time, item, machine_number in tasks:\n",
    "                    print(f\"      - {task_time.strftime('%H:%M')}: {item} (Machine {machine_number})\")\n",
    "            else:\n",
    "                print(f\"    {machine}: No tasks scheduled.\")\n",
    "\n",
    "\n",
    "# Example usage\n",
    "today = datetime.now()\n",
    "next_week = today + timedelta(days=7)\n",
    "\n",
    "special_items_input = get_special_menu_input()\n",
    "\n",
    "for date in [today, next_week]:\n",
    "    schedule = schedule_tasks(divisions, special_items_input, total_machinery)  # Ensure correct parameters\n",
    "    print(\"Generated Schedule:\", schedule)  # Debugging line\n",
    "    print_schedule(schedule, date)\n",
    "    create_gantt_chart(schedule, date)"
   ]
  },
  {
   "cell_type": "markdown",
   "metadata": {},
   "source": [
    "#Last resort unoptimized"
   ]
  },
  {
   "cell_type": "code",
   "execution_count": 5,
   "metadata": {},
   "outputs": [
    {
     "name": "stdout",
     "output_type": "stream",
     "text": [
      "\n",
      "Schedule for 2025-01-09:\n",
      "  Baking:\n",
      "    Mixer:\n",
      "      - 04:00: Croissant (Machine 1)\n",
      "      - 04:00: Danish Pastry (Machine 2)\n",
      "      - 04:00: Bread (Machine 3)\n",
      "    Proofer:\n",
      "      - 04:00: Croissant (Machine 1)\n",
      "      - 04:00: Danish Pastry (Machine 2)\n",
      "      - 04:40: Bread (Machine 1)\n",
      "    Oven:\n",
      "      - 04:00: Croissant (Machine 1)\n",
      "      - 04:00: Danish Pastry (Machine 2)\n",
      "      - 04:00: Bread (Machine 3)\n",
      "  Pastry:\n",
      "    Mixer:\n",
      "      - 04:00: Brownies (Machine 4)\n",
      "      - 04:23: Cake (Machine 1)\n",
      "      - 04:23: Cookies (Machine 4)\n",
      "      - 04:25: Pie (Machine 3)\n",
      "    Oven:\n",
      "      - 04:55: Brownies (Machine 1)\n",
      "      - 05:00: Cake (Machine 2)\n",
      "      - 05:15: Cookies (Machine 3)\n",
      "      - 05:45: Pie (Machine 1)\n",
      "  Confectionery:\n",
      "    Mixer:\n",
      "      - 04:27: Muffins (Machine 2)\n",
      "      - 04:43: Cupcakes (Machine 4)\n",
      "      - 04:47: Bagels (Machine 2)\n",
      "      - 04:53: Donuts (Machine 1)\n",
      "      - 05:00: Macarons (Machine 3)\n",
      "    Oven:\n",
      "      - 06:00: Muffins (Machine 3)\n",
      "      - 06:30: Cupcakes (Machine 2)\n",
      "      - 06:40: Bagels (Machine 3)\n",
      "      - 06:55: Donuts (Machine 1)\n",
      "      - 07:12: Macarons (Machine 2)\n",
      "    Proofer:\n",
      "      - 04:55: Bagels (Machine 2)\n",
      "      - 05:50: Donuts (Machine 1)\n",
      "  Butchery:\n",
      "    Mixer:\n",
      "      - 05:02: Quiche (Machine 4)\n",
      "    Oven:\n",
      "      - 07:25: Quiche (Machine 3)\n",
      "\n",
      "Schedule for 2025-01-16:\n",
      "  Baking:\n",
      "    Mixer:\n",
      "      - 04:00: Bread (Machine 1)\n",
      "      - 04:00: Danish Pastry (Machine 2)\n",
      "      - 04:00: Croissant (Machine 3)\n",
      "    Proofer:\n",
      "      - 04:00: Bread (Machine 1)\n",
      "      - 04:00: Danish Pastry (Machine 2)\n",
      "      - 04:55: Croissant (Machine 2)\n",
      "    Oven:\n",
      "      - 04:00: Bread (Machine 1)\n",
      "      - 04:00: Danish Pastry (Machine 2)\n",
      "      - 04:00: Croissant (Machine 3)\n",
      "  Pastry:\n",
      "    Mixer:\n",
      "      - 04:00: Brownies (Machine 4)\n",
      "      - 04:23: Pie (Machine 3)\n",
      "      - 04:23: Cake (Machine 4)\n",
      "      - 04:25: Cookies (Machine 1)\n",
      "    Oven:\n",
      "      - 04:55: Brownies (Machine 3)\n",
      "      - 05:00: Pie (Machine 2)\n",
      "      - 05:15: Cake (Machine 1)\n",
      "      - 05:45: Cookies (Machine 3)\n",
      "  Confectionery:\n",
      "    Mixer:\n",
      "      - 04:27: Cupcakes (Machine 2)\n",
      "      - 04:45: Donuts (Machine 1)\n",
      "      - 04:46: Macarons (Machine 2)\n",
      "      - 04:53: Bagels (Machine 4)\n",
      "      - 04:58: Muffins (Machine 3)\n",
      "    Oven:\n",
      "      - 06:10: Cupcakes (Machine 2)\n",
      "      - 06:30: Donuts (Machine 3)\n",
      "      - 06:45: Macarons (Machine 1)\n",
      "      - 06:52: Bagels (Machine 2)\n",
      "      - 07:08: Muffins (Machine 3)\n",
      "    Proofer:\n",
      "      - 05:10: Donuts (Machine 1)\n",
      "      - 05:35: Bagels (Machine 1)\n",
      "  Butchery:\n",
      "    Mixer:\n",
      "      - 05:04: Quiche (Machine 2)\n",
      "    Oven:\n",
      "      - 07:25: Quiche (Machine 1)\n"
     ]
    }
   ],
   "source": [
    "from datetime import datetime, timedelta\n",
    "import random\n",
    "from collections import defaultdict\n",
    "\n",
    "# Define total available machinery\n",
    "total_machinery = {\n",
    "    \"Mixer\": 4,\n",
    "    \"Proofer\": 2,\n",
    "    \"Oven\": 3\n",
    "}\n",
    "\n",
    "# Define divisions and their menu items\n",
    "divisions = {\n",
    "    1: (\"Baking\", [\"Bread\", \"Croissant\", \"Danish Pastry\"]),\n",
    "    2: (\"Pastry\", [\"Cake\", \"Pie\", \"Cookies\", \"Brownies\"]),\n",
    "    3: (\"Confectionery\", [\"Macarons\", \"Cupcakes\", \"Muffins\", \"Donuts\", \"Bagels\"]),\n",
    "    4: (\"Butchery\", [\"Quiche\"])\n",
    "}\n",
    "\n",
    "# Define unit times for each machine and item (in minutes)\n",
    "unit_times = {\n",
    "    \"Mixer\": {\n",
    "        \"Bread\": 10,\n",
    "        \"Croissant\": 8,\n",
    "        \"Danish Pastry\": 12,\n",
    "        \"Cake\": 15,\n",
    "        \"Pie\": 20,\n",
    "        \"Cookies\": 5,\n",
    "        \"Brownies\": 8,\n",
    "        \"Macarons\": 3,\n",
    "        \"Cupcakes\": 4,\n",
    "        \"Muffins\": 5,\n",
    "        \"Donuts\": 6,\n",
    "        \"Bagels\": 7,\n",
    "        \"Quiche\": 10\n",
    "    },\n",
    "    \"Oven\": {\n",
    "        \"Bread\": 45,\n",
    "        \"Croissant\": 25,\n",
    "        \"Danish Pastry\": 30,\n",
    "        \"Cake\": 60,\n",
    "        \"Pie\": 40,\n",
    "        \"Cookies\": 15,\n",
    "        \"Brownies\": 20,\n",
    "        \"Macarons\": 10,\n",
    "        \"Cupcakes\": 12,\n",
    "        \"Muffins\": 10,\n",
    "        \"Donuts\": 8,\n",
    "        \"Bagels\": 15,\n",
    "        \"Quiche\": 30\n",
    "    },\n",
    "    \"Proofer\": {\n",
    "        \"Bread\": 60,\n",
    "        \"Croissant\": 30,\n",
    "        \"Danish Pastry\": 45,\n",
    "        \"Cake\": 0,\n",
    "        \"Pie\": 0,\n",
    "        \"Cookies\": 0,\n",
    "        \"Brownies\": 0,\n",
    "        \"Macarons\": 0,\n",
    "        \"Cupcakes\": 0,\n",
    "        \"Muffins\": 0,\n",
    "        \"Donuts\": 15,\n",
    "        \"Bagels\": 45,\n",
    "        \"Quiche\": 0\n",
    "    }\n",
    "}\n",
    "\n",
    "# Define machine downtime (in minutes)\n",
    "downtime = {\n",
    "    \"Mixer\": 15,\n",
    "    \"Oven\": 30,\n",
    "    \"Proofer\": 10,\n",
    "}\n",
    "\n",
    "def get_special_menu_input():\n",
    "    special_items = []\n",
    "    while True:\n",
    "        item_name = input(\"Enter special menu item (type 'done' to finish): \")\n",
    "        if item_name.lower() == \"done\":\n",
    "            break\n",
    "\n",
    "        print(\"Enter Division Responsible for this Menu item:\")\n",
    "        print(\"1. Baking\")\n",
    "        print(\"2. Pastry\")\n",
    "        print(\"3. Confectionery\")\n",
    "        print(\"4. Butchery\")\n",
    "\n",
    "        try:\n",
    "            division_choice = int(input(\"Choose a division (1-4): \"))\n",
    "            if division_choice not in divisions:\n",
    "                print(\"Invalid division. Please enter a valid division.\")\n",
    "                continue\n",
    "            division = divisions[division_choice][0]\n",
    "        except ValueError:\n",
    "            print(\"Invalid input. Please enter a number between 1 and 4.\")\n",
    "            continue\n",
    "\n",
    "        processing_times = {}\n",
    "        for machine in total_machinery.keys():\n",
    "            try:\n",
    "                processing_time = int(input(f\"Enter processing time for {machine} in minutes: \"))\n",
    "                if processing_time < 0:\n",
    "                    raise ValueError\n",
    "                processing_times[machine] = processing_time\n",
    "            except ValueError:\n",
    "                print(\"Invalid input. Please enter a valid positive number.\")\n",
    "                continue\n",
    "\n",
    "        special_items.append({\n",
    "            \"name\": item_name,\n",
    "            \"division\": division,\n",
    "            \"processing_times\": processing_times\n",
    "        })\n",
    "\n",
    "    return special_items\n",
    "\n",
    "def schedule_tasks(date, special_items_input):\n",
    "    \"\"\"Schedules tasks for a given date, considering shared machinery.\"\"\"\n",
    "    schedule = defaultdict(lambda: defaultdict(list))\n",
    "    start_time = datetime.combine(date.date(), datetime.now().replace(hour=4, minute=0).time())\n",
    "\n",
    "    machine_times = {machine: [start_time] * total_machinery[machine] for machine in total_machinery}\n",
    "    machine_order = [\"Mixer\", \"Proofer\", \"Oven\"]\n",
    "\n",
    "    # Schedule set menu items and special items\n",
    "    for division, division_items in divisions.values():\n",
    "        all_items = division_items + [f\"Special: {item['name']}\" for item in special_items_input if item['division'] == division]\n",
    "        random.shuffle(all_items)\n",
    "\n",
    "\n",
    "        for item in all_items:\n",
    "            item_name = item if not item.startswith(\"Special: \") else item[9:]\n",
    "            processing_time = {machine: unit_times[machine].get(item_name, 0) for machine in machine_order}\n",
    "          #processing_time = unit_times[machine_order].get(item_name, 0)\n",
    "          #processing_time = unit_times[\"Mixer\"].get(item_name, 0)\n",
    "\n",
    "            if \"Special: \" in item:\n",
    "                special_item = next((i for i in special_items_input if i[\"name\"] == item_name), None) #Search for special item in auto-list if any\n",
    "                if special_item: #calculates processing time for all special items\n",
    "                    processing_time.update(special_item[\"processing_times\"])\n",
    "                    # processing_time = sum(special_item[\"processing_times\"].values())  # Sum processing times for all machines0\n",
    "\n",
    "            # Schedule through the defined machine order\n",
    "            for machine in machine_order:\n",
    "              processing_times = processing_time[machine] #processing time for CURRENT machine\n",
    "              if processing_times > 0: \n",
    "                if total_machinery[machine] > 0: #machine: x > 0 = machine exists\n",
    "                    machine_available_time = min(machine_times[machine])\n",
    "                    machine_index = machine_times[machine].index(machine_available_time)\n",
    "\n",
    "                    # Schedule the task\n",
    "                    schedule[division][machine].append((machine_available_time, item, machine_index + 1))\n",
    "                    machine_times[machine][machine_index] = machine_available_time + timedelta(minutes=processing_times + downtime[machine])\n",
    "\n",
    "                    # Move to the next machine in the sequence\n",
    "                    #break\n",
    "\n",
    "    return schedule\n",
    "\n",
    "def print_schedule(schedule, date):\n",
    "    \"\"\"Prints the schedule for a given date.\"\"\"\n",
    "    print(f\"\\nSchedule for {date.strftime('%Y-%m-%d')}:\")\n",
    "    for division, machines in schedule.items():\n",
    "        print(f\"  {division}:\")\n",
    "        for machine, tasks in machines.items():\n",
    "            print(f\"    {machine}:\")\n",
    "            for task_time, item, machine_number in tasks:\n",
    "                print(f\"      - {task_time.strftime('%H:%M')}: {item} (Machine {machine_number})\")\n",
    "\n",
    "# Example usage\n",
    "today = datetime.now()\n",
    "next_week = today + timedelta(days=7)\n",
    "\n",
    "special_items_input = get_special_menu_input()\n",
    "\n",
    "for date in [today, next_week]:\n",
    "    schedule = schedule_tasks(date, special_items_input)\n",
    "    print_schedule(schedule, date)"
   ]
  },
  {
   "cell_type": "code",
   "execution_count": 27,
   "metadata": {},
   "outputs": [
    {
     "data": {
      "application/vnd.plotly.v1+json": {
       "config": {
        "plotlyServerURL": "https://plot.ly"
       },
       "data": [
        {
         "alignmentgroup": "True",
         "base": [
          "2025-01-09T04:00:00",
          "2025-01-09T04:10:00",
          "2025-01-09T05:10:00"
         ],
         "hovertemplate": "Menu Item=Bread<br>Start=%{base}<br>Finish=%{x}<br>Machine Index=%{y}<extra></extra>",
         "legendgroup": "Bread",
         "marker": {
          "color": "#EF553B",
          "line": {
           "width": 0
          },
          "pattern": {
           "shape": ""
          }
         },
         "name": "Bread",
         "offsetgroup": "Bread",
         "orientation": "h",
         "showlegend": true,
         "textposition": "auto",
         "type": "bar",
         "x": [
          600000,
          3600000,
          2700000
         ],
         "xaxis": "x",
         "y": [
          "Mixer 1",
          "Proofer 1",
          "Oven 1"
         ],
         "yaxis": "y"
        },
        {
         "alignmentgroup": "True",
         "base": [
          "2025-01-09T04:10:00",
          "2025-01-09T04:08:00",
          "2025-01-09T04:12:00",
          "2025-01-09T05:10:00",
          "2025-01-09T04:38:00",
          "2025-01-09T05:33:00",
          "2025-01-09T05:55:00",
          "2025-01-09T05:03:00",
          "2025-01-09T06:03:00",
          "2025-01-09T04:20:00",
          "2025-01-09T04:31:00",
          "2025-01-09T04:30:00",
          "2025-01-09T04:42:00",
          "2025-01-09T06:13:00",
          "2025-01-09T06:45:00",
          "2025-01-09T06:48:00",
          "2025-01-09T07:43:00",
          "2025-01-09T04:40:00",
          "2025-01-09T04:49:00",
          "2025-01-09T04:52:00",
          "2025-01-09T04:58:00",
          "2025-01-09T05:04:00",
          "2025-01-09T07:25:00",
          "2025-01-09T07:30:00",
          "2025-01-09T08:03:00",
          "2025-01-09T08:10:00",
          "2025-01-09T08:28:00",
          "2025-01-09T05:35:00",
          "2025-01-09T06:28:00",
          "2025-01-09T05:14:00",
          "2025-01-09T09:03:00"
         ],
         "hovertemplate": "Menu Item=Downtime<br>Start=%{base}<br>Finish=%{x}<br>Machine Index=%{y}<extra></extra>",
         "legendgroup": "Downtime",
         "marker": {
          "color": "grey",
          "line": {
           "width": 0
          },
          "pattern": {
           "shape": ""
          }
         },
         "name": "Downtime",
         "offsetgroup": "Downtime",
         "orientation": "h",
         "showlegend": true,
         "textposition": "auto",
         "type": "bar",
         "x": [
          900000,
          900000,
          900000,
          600000,
          600000,
          600000,
          1800000,
          1800000,
          1800000,
          900000,
          900000,
          900000,
          900000,
          1800000,
          1800000,
          1800000,
          1800000,
          900000,
          900000,
          900000,
          900000,
          900000,
          1800000,
          1800000,
          1800000,
          1800000,
          1800000,
          600000,
          600000,
          900000,
          1800000
         ],
         "xaxis": "x",
         "y": [
          "Mixer 1",
          "Mixer 2",
          "Mixer 3",
          "Proofer 1",
          "Proofer 2",
          "Proofer 2",
          "Oven 1",
          "Oven 2",
          "Oven 3",
          "Mixer 4",
          "Mixer 2",
          "Mixer 1",
          "Mixer 3",
          "Oven 2",
          "Oven 1",
          "Oven 3",
          "Oven 2",
          "Mixer 4",
          "Mixer 1",
          "Mixer 2",
          "Mixer 4",
          "Mixer 3",
          "Oven 1",
          "Oven 3",
          "Oven 1",
          "Oven 3",
          "Oven 2",
          "Proofer 1",
          "Proofer 2",
          "Mixer 1",
          "Oven 1"
         ],
         "yaxis": "y"
        },
        {
         "alignmentgroup": "True",
         "base": [
          "2025-01-09T04:00:00",
          "2025-01-09T04:08:00",
          "2025-01-09T04:38:00"
         ],
         "hovertemplate": "Menu Item=Croissant<br>Start=%{base}<br>Finish=%{x}<br>Machine Index=%{y}<extra></extra>",
         "legendgroup": "Croissant",
         "marker": {
          "color": "#00cc96",
          "line": {
           "width": 0
          },
          "pattern": {
           "shape": ""
          }
         },
         "name": "Croissant",
         "offsetgroup": "Croissant",
         "orientation": "h",
         "showlegend": true,
         "textposition": "auto",
         "type": "bar",
         "x": [
          480000,
          1800000,
          1500000
         ],
         "xaxis": "x",
         "y": [
          "Mixer 2",
          "Proofer 2",
          "Oven 2"
         ],
         "yaxis": "y"
        },
        {
         "alignmentgroup": "True",
         "base": [
          "2025-01-09T04:00:00",
          "2025-01-09T04:48:00",
          "2025-01-09T05:33:00"
         ],
         "hovertemplate": "Menu Item=Danish Pastry<br>Start=%{base}<br>Finish=%{x}<br>Machine Index=%{y}<extra></extra>",
         "legendgroup": "Danish Pastry",
         "marker": {
          "color": "#ab63fa",
          "line": {
           "width": 0
          },
          "pattern": {
           "shape": ""
          }
         },
         "name": "Danish Pastry",
         "offsetgroup": "Danish Pastry",
         "orientation": "h",
         "showlegend": true,
         "textposition": "auto",
         "type": "bar",
         "x": [
          720000,
          2700000,
          1800000
         ],
         "xaxis": "x",
         "y": [
          "Mixer 3",
          "Proofer 2",
          "Oven 3"
         ],
         "yaxis": "y"
        },
        {
         "alignmentgroup": "True",
         "base": [
          "2025-01-09T04:00:00",
          "2025-01-09T05:33:00"
         ],
         "hovertemplate": "Menu Item=Pie<br>Start=%{base}<br>Finish=%{x}<br>Machine Index=%{y}<extra></extra>",
         "legendgroup": "Pie",
         "marker": {
          "color": "#FFA15A",
          "line": {
           "width": 0
          },
          "pattern": {
           "shape": ""
          }
         },
         "name": "Pie",
         "offsetgroup": "Pie",
         "orientation": "h",
         "showlegend": true,
         "textposition": "auto",
         "type": "bar",
         "x": [
          1200000,
          2400000
         ],
         "xaxis": "x",
         "y": [
          "Mixer 4",
          "Oven 2"
         ],
         "yaxis": "y"
        },
        {
         "alignmentgroup": "True",
         "base": [
          "2025-01-09T04:23:00",
          "2025-01-09T06:25:00"
         ],
         "hovertemplate": "Menu Item=Brownies<br>Start=%{base}<br>Finish=%{x}<br>Machine Index=%{y}<extra></extra>",
         "legendgroup": "Brownies",
         "marker": {
          "color": "#19d3f3",
          "line": {
           "width": 0
          },
          "pattern": {
           "shape": ""
          }
         },
         "name": "Brownies",
         "offsetgroup": "Brownies",
         "orientation": "h",
         "showlegend": true,
         "textposition": "auto",
         "type": "bar",
         "x": [
          480000,
          1200000
         ],
         "xaxis": "x",
         "y": [
          "Mixer 2",
          "Oven 1"
         ],
         "yaxis": "y"
        },
        {
         "alignmentgroup": "True",
         "base": [
          "2025-01-09T04:25:00",
          "2025-01-09T06:33:00"
         ],
         "hovertemplate": "Menu Item=Cookies<br>Start=%{base}<br>Finish=%{x}<br>Machine Index=%{y}<extra></extra>",
         "legendgroup": "Cookies",
         "marker": {
          "color": "#FF6692",
          "line": {
           "width": 0
          },
          "pattern": {
           "shape": ""
          }
         },
         "name": "Cookies",
         "offsetgroup": "Cookies",
         "orientation": "h",
         "showlegend": true,
         "textposition": "auto",
         "type": "bar",
         "x": [
          300000,
          900000
         ],
         "xaxis": "x",
         "y": [
          "Mixer 1",
          "Oven 3"
         ],
         "yaxis": "y"
        },
        {
         "alignmentgroup": "True",
         "base": [
          "2025-01-09T04:27:00",
          "2025-01-09T06:43:00"
         ],
         "hovertemplate": "Menu Item=Cake<br>Start=%{base}<br>Finish=%{x}<br>Machine Index=%{y}<extra></extra>",
         "legendgroup": "Cake",
         "marker": {
          "color": "#B6E880",
          "line": {
           "width": 0
          },
          "pattern": {
           "shape": ""
          }
         },
         "name": "Cake",
         "offsetgroup": "Cake",
         "orientation": "h",
         "showlegend": true,
         "textposition": "auto",
         "type": "bar",
         "x": [
          900000,
          3600000
         ],
         "xaxis": "x",
         "y": [
          "Mixer 3",
          "Oven 2"
         ],
         "yaxis": "y"
        },
        {
         "alignmentgroup": "True",
         "base": [
          "2025-01-09T04:35:00",
          "2025-01-09T07:15:00"
         ],
         "hovertemplate": "Menu Item=Muffins<br>Start=%{base}<br>Finish=%{x}<br>Machine Index=%{y}<extra></extra>",
         "legendgroup": "Muffins",
         "marker": {
          "color": "#FF97FF",
          "line": {
           "width": 0
          },
          "pattern": {
           "shape": ""
          }
         },
         "name": "Muffins",
         "offsetgroup": "Muffins",
         "orientation": "h",
         "showlegend": true,
         "textposition": "auto",
         "type": "bar",
         "x": [
          300000,
          600000
         ],
         "xaxis": "x",
         "y": [
          "Mixer 4",
          "Oven 1"
         ],
         "yaxis": "y"
        },
        {
         "alignmentgroup": "True",
         "base": [
          "2025-01-09T04:45:00",
          "2025-01-09T07:18:00"
         ],
         "hovertemplate": "Menu Item=Cupcakes<br>Start=%{base}<br>Finish=%{x}<br>Machine Index=%{y}<extra></extra>",
         "legendgroup": "Cupcakes",
         "marker": {
          "color": "#FECB52",
          "line": {
           "width": 0
          },
          "pattern": {
           "shape": ""
          }
         },
         "name": "Cupcakes",
         "offsetgroup": "Cupcakes",
         "orientation": "h",
         "showlegend": true,
         "textposition": "auto",
         "type": "bar",
         "x": [
          240000,
          720000
         ],
         "xaxis": "x",
         "y": [
          "Mixer 1",
          "Oven 3"
         ],
         "yaxis": "y"
        },
        {
         "alignmentgroup": "True",
         "base": [
          "2025-01-09T04:46:00",
          "2025-01-09T07:55:00",
          "2025-01-09T05:20:00"
         ],
         "hovertemplate": "Menu Item=Donuts<br>Start=%{base}<br>Finish=%{x}<br>Machine Index=%{y}<extra></extra>",
         "legendgroup": "Donuts",
         "marker": {
          "color": "#636efa",
          "line": {
           "width": 0
          },
          "pattern": {
           "shape": ""
          }
         },
         "name": "Donuts",
         "offsetgroup": "Donuts",
         "orientation": "h",
         "showlegend": true,
         "textposition": "auto",
         "type": "bar",
         "x": [
          360000,
          480000,
          900000
         ],
         "xaxis": "x",
         "y": [
          "Mixer 2",
          "Oven 1",
          "Proofer 1"
         ],
         "yaxis": "y"
        },
        {
         "alignmentgroup": "True",
         "base": [
          "2025-01-09T04:55:00",
          "2025-01-09T08:00:00"
         ],
         "hovertemplate": "Menu Item=Macarons<br>Start=%{base}<br>Finish=%{x}<br>Machine Index=%{y}<extra></extra>",
         "legendgroup": "Macarons",
         "marker": {
          "color": "#EF553B",
          "line": {
           "width": 0
          },
          "pattern": {
           "shape": ""
          }
         },
         "name": "Macarons",
         "offsetgroup": "Macarons",
         "orientation": "h",
         "showlegend": true,
         "textposition": "auto",
         "type": "bar",
         "x": [
          180000,
          600000
         ],
         "xaxis": "x",
         "y": [
          "Mixer 4",
          "Oven 3"
         ],
         "yaxis": "y"
        },
        {
         "alignmentgroup": "True",
         "base": [
          "2025-01-09T04:57:00",
          "2025-01-09T08:13:00",
          "2025-01-09T05:43:00"
         ],
         "hovertemplate": "Menu Item=Bagels<br>Start=%{base}<br>Finish=%{x}<br>Machine Index=%{y}<extra></extra>",
         "legendgroup": "Bagels",
         "marker": {
          "color": "#00cc96",
          "line": {
           "width": 0
          },
          "pattern": {
           "shape": ""
          }
         },
         "name": "Bagels",
         "offsetgroup": "Bagels",
         "orientation": "h",
         "showlegend": true,
         "textposition": "auto",
         "type": "bar",
         "x": [
          420000,
          900000,
          2700000
         ],
         "xaxis": "x",
         "y": [
          "Mixer 3",
          "Oven 2",
          "Proofer 2"
         ],
         "yaxis": "y"
        },
        {
         "alignmentgroup": "True",
         "base": [
          "2025-01-09T05:04:00",
          "2025-01-09T08:33:00"
         ],
         "hovertemplate": "Menu Item=Quiche<br>Start=%{base}<br>Finish=%{x}<br>Machine Index=%{y}<extra></extra>",
         "legendgroup": "Quiche",
         "marker": {
          "color": "#ab63fa",
          "line": {
           "width": 0
          },
          "pattern": {
           "shape": ""
          }
         },
         "name": "Quiche",
         "offsetgroup": "Quiche",
         "orientation": "h",
         "showlegend": true,
         "textposition": "auto",
         "type": "bar",
         "x": [
          600000,
          1800000
         ],
         "xaxis": "x",
         "y": [
          "Mixer 1",
          "Oven 1"
         ],
         "yaxis": "y"
        }
       ],
       "layout": {
        "barmode": "overlay",
        "legend": {
         "title": {
          "text": "Menu Item"
         },
         "tracegroupgap": 0
        },
        "template": {
         "data": {
          "bar": [
           {
            "error_x": {
             "color": "#2a3f5f"
            },
            "error_y": {
             "color": "#2a3f5f"
            },
            "marker": {
             "line": {
              "color": "#E5ECF6",
              "width": 0.5
             },
             "pattern": {
              "fillmode": "overlay",
              "size": 10,
              "solidity": 0.2
             }
            },
            "type": "bar"
           }
          ],
          "barpolar": [
           {
            "marker": {
             "line": {
              "color": "#E5ECF6",
              "width": 0.5
             },
             "pattern": {
              "fillmode": "overlay",
              "size": 10,
              "solidity": 0.2
             }
            },
            "type": "barpolar"
           }
          ],
          "carpet": [
           {
            "aaxis": {
             "endlinecolor": "#2a3f5f",
             "gridcolor": "white",
             "linecolor": "white",
             "minorgridcolor": "white",
             "startlinecolor": "#2a3f5f"
            },
            "baxis": {
             "endlinecolor": "#2a3f5f",
             "gridcolor": "white",
             "linecolor": "white",
             "minorgridcolor": "white",
             "startlinecolor": "#2a3f5f"
            },
            "type": "carpet"
           }
          ],
          "choropleth": [
           {
            "colorbar": {
             "outlinewidth": 0,
             "ticks": ""
            },
            "type": "choropleth"
           }
          ],
          "contour": [
           {
            "colorbar": {
             "outlinewidth": 0,
             "ticks": ""
            },
            "colorscale": [
             [
              0,
              "#0d0887"
             ],
             [
              0.1111111111111111,
              "#46039f"
             ],
             [
              0.2222222222222222,
              "#7201a8"
             ],
             [
              0.3333333333333333,
              "#9c179e"
             ],
             [
              0.4444444444444444,
              "#bd3786"
             ],
             [
              0.5555555555555556,
              "#d8576b"
             ],
             [
              0.6666666666666666,
              "#ed7953"
             ],
             [
              0.7777777777777778,
              "#fb9f3a"
             ],
             [
              0.8888888888888888,
              "#fdca26"
             ],
             [
              1,
              "#f0f921"
             ]
            ],
            "type": "contour"
           }
          ],
          "contourcarpet": [
           {
            "colorbar": {
             "outlinewidth": 0,
             "ticks": ""
            },
            "type": "contourcarpet"
           }
          ],
          "heatmap": [
           {
            "colorbar": {
             "outlinewidth": 0,
             "ticks": ""
            },
            "colorscale": [
             [
              0,
              "#0d0887"
             ],
             [
              0.1111111111111111,
              "#46039f"
             ],
             [
              0.2222222222222222,
              "#7201a8"
             ],
             [
              0.3333333333333333,
              "#9c179e"
             ],
             [
              0.4444444444444444,
              "#bd3786"
             ],
             [
              0.5555555555555556,
              "#d8576b"
             ],
             [
              0.6666666666666666,
              "#ed7953"
             ],
             [
              0.7777777777777778,
              "#fb9f3a"
             ],
             [
              0.8888888888888888,
              "#fdca26"
             ],
             [
              1,
              "#f0f921"
             ]
            ],
            "type": "heatmap"
           }
          ],
          "heatmapgl": [
           {
            "colorbar": {
             "outlinewidth": 0,
             "ticks": ""
            },
            "colorscale": [
             [
              0,
              "#0d0887"
             ],
             [
              0.1111111111111111,
              "#46039f"
             ],
             [
              0.2222222222222222,
              "#7201a8"
             ],
             [
              0.3333333333333333,
              "#9c179e"
             ],
             [
              0.4444444444444444,
              "#bd3786"
             ],
             [
              0.5555555555555556,
              "#d8576b"
             ],
             [
              0.6666666666666666,
              "#ed7953"
             ],
             [
              0.7777777777777778,
              "#fb9f3a"
             ],
             [
              0.8888888888888888,
              "#fdca26"
             ],
             [
              1,
              "#f0f921"
             ]
            ],
            "type": "heatmapgl"
           }
          ],
          "histogram": [
           {
            "marker": {
             "pattern": {
              "fillmode": "overlay",
              "size": 10,
              "solidity": 0.2
             }
            },
            "type": "histogram"
           }
          ],
          "histogram2d": [
           {
            "colorbar": {
             "outlinewidth": 0,
             "ticks": ""
            },
            "colorscale": [
             [
              0,
              "#0d0887"
             ],
             [
              0.1111111111111111,
              "#46039f"
             ],
             [
              0.2222222222222222,
              "#7201a8"
             ],
             [
              0.3333333333333333,
              "#9c179e"
             ],
             [
              0.4444444444444444,
              "#bd3786"
             ],
             [
              0.5555555555555556,
              "#d8576b"
             ],
             [
              0.6666666666666666,
              "#ed7953"
             ],
             [
              0.7777777777777778,
              "#fb9f3a"
             ],
             [
              0.8888888888888888,
              "#fdca26"
             ],
             [
              1,
              "#f0f921"
             ]
            ],
            "type": "histogram2d"
           }
          ],
          "histogram2dcontour": [
           {
            "colorbar": {
             "outlinewidth": 0,
             "ticks": ""
            },
            "colorscale": [
             [
              0,
              "#0d0887"
             ],
             [
              0.1111111111111111,
              "#46039f"
             ],
             [
              0.2222222222222222,
              "#7201a8"
             ],
             [
              0.3333333333333333,
              "#9c179e"
             ],
             [
              0.4444444444444444,
              "#bd3786"
             ],
             [
              0.5555555555555556,
              "#d8576b"
             ],
             [
              0.6666666666666666,
              "#ed7953"
             ],
             [
              0.7777777777777778,
              "#fb9f3a"
             ],
             [
              0.8888888888888888,
              "#fdca26"
             ],
             [
              1,
              "#f0f921"
             ]
            ],
            "type": "histogram2dcontour"
           }
          ],
          "mesh3d": [
           {
            "colorbar": {
             "outlinewidth": 0,
             "ticks": ""
            },
            "type": "mesh3d"
           }
          ],
          "parcoords": [
           {
            "line": {
             "colorbar": {
              "outlinewidth": 0,
              "ticks": ""
             }
            },
            "type": "parcoords"
           }
          ],
          "pie": [
           {
            "automargin": true,
            "type": "pie"
           }
          ],
          "scatter": [
           {
            "fillpattern": {
             "fillmode": "overlay",
             "size": 10,
             "solidity": 0.2
            },
            "type": "scatter"
           }
          ],
          "scatter3d": [
           {
            "line": {
             "colorbar": {
              "outlinewidth": 0,
              "ticks": ""
             }
            },
            "marker": {
             "colorbar": {
              "outlinewidth": 0,
              "ticks": ""
             }
            },
            "type": "scatter3d"
           }
          ],
          "scattercarpet": [
           {
            "marker": {
             "colorbar": {
              "outlinewidth": 0,
              "ticks": ""
             }
            },
            "type": "scattercarpet"
           }
          ],
          "scattergeo": [
           {
            "marker": {
             "colorbar": {
              "outlinewidth": 0,
              "ticks": ""
             }
            },
            "type": "scattergeo"
           }
          ],
          "scattergl": [
           {
            "marker": {
             "colorbar": {
              "outlinewidth": 0,
              "ticks": ""
             }
            },
            "type": "scattergl"
           }
          ],
          "scattermapbox": [
           {
            "marker": {
             "colorbar": {
              "outlinewidth": 0,
              "ticks": ""
             }
            },
            "type": "scattermapbox"
           }
          ],
          "scatterpolar": [
           {
            "marker": {
             "colorbar": {
              "outlinewidth": 0,
              "ticks": ""
             }
            },
            "type": "scatterpolar"
           }
          ],
          "scatterpolargl": [
           {
            "marker": {
             "colorbar": {
              "outlinewidth": 0,
              "ticks": ""
             }
            },
            "type": "scatterpolargl"
           }
          ],
          "scatterternary": [
           {
            "marker": {
             "colorbar": {
              "outlinewidth": 0,
              "ticks": ""
             }
            },
            "type": "scatterternary"
           }
          ],
          "surface": [
           {
            "colorbar": {
             "outlinewidth": 0,
             "ticks": ""
            },
            "colorscale": [
             [
              0,
              "#0d0887"
             ],
             [
              0.1111111111111111,
              "#46039f"
             ],
             [
              0.2222222222222222,
              "#7201a8"
             ],
             [
              0.3333333333333333,
              "#9c179e"
             ],
             [
              0.4444444444444444,
              "#bd3786"
             ],
             [
              0.5555555555555556,
              "#d8576b"
             ],
             [
              0.6666666666666666,
              "#ed7953"
             ],
             [
              0.7777777777777778,
              "#fb9f3a"
             ],
             [
              0.8888888888888888,
              "#fdca26"
             ],
             [
              1,
              "#f0f921"
             ]
            ],
            "type": "surface"
           }
          ],
          "table": [
           {
            "cells": {
             "fill": {
              "color": "#EBF0F8"
             },
             "line": {
              "color": "white"
             }
            },
            "header": {
             "fill": {
              "color": "#C8D4E3"
             },
             "line": {
              "color": "white"
             }
            },
            "type": "table"
           }
          ]
         },
         "layout": {
          "annotationdefaults": {
           "arrowcolor": "#2a3f5f",
           "arrowhead": 0,
           "arrowwidth": 1
          },
          "autotypenumbers": "strict",
          "coloraxis": {
           "colorbar": {
            "outlinewidth": 0,
            "ticks": ""
           }
          },
          "colorscale": {
           "diverging": [
            [
             0,
             "#8e0152"
            ],
            [
             0.1,
             "#c51b7d"
            ],
            [
             0.2,
             "#de77ae"
            ],
            [
             0.3,
             "#f1b6da"
            ],
            [
             0.4,
             "#fde0ef"
            ],
            [
             0.5,
             "#f7f7f7"
            ],
            [
             0.6,
             "#e6f5d0"
            ],
            [
             0.7,
             "#b8e186"
            ],
            [
             0.8,
             "#7fbc41"
            ],
            [
             0.9,
             "#4d9221"
            ],
            [
             1,
             "#276419"
            ]
           ],
           "sequential": [
            [
             0,
             "#0d0887"
            ],
            [
             0.1111111111111111,
             "#46039f"
            ],
            [
             0.2222222222222222,
             "#7201a8"
            ],
            [
             0.3333333333333333,
             "#9c179e"
            ],
            [
             0.4444444444444444,
             "#bd3786"
            ],
            [
             0.5555555555555556,
             "#d8576b"
            ],
            [
             0.6666666666666666,
             "#ed7953"
            ],
            [
             0.7777777777777778,
             "#fb9f3a"
            ],
            [
             0.8888888888888888,
             "#fdca26"
            ],
            [
             1,
             "#f0f921"
            ]
           ],
           "sequentialminus": [
            [
             0,
             "#0d0887"
            ],
            [
             0.1111111111111111,
             "#46039f"
            ],
            [
             0.2222222222222222,
             "#7201a8"
            ],
            [
             0.3333333333333333,
             "#9c179e"
            ],
            [
             0.4444444444444444,
             "#bd3786"
            ],
            [
             0.5555555555555556,
             "#d8576b"
            ],
            [
             0.6666666666666666,
             "#ed7953"
            ],
            [
             0.7777777777777778,
             "#fb9f3a"
            ],
            [
             0.8888888888888888,
             "#fdca26"
            ],
            [
             1,
             "#f0f921"
            ]
           ]
          },
          "colorway": [
           "#636efa",
           "#EF553B",
           "#00cc96",
           "#ab63fa",
           "#FFA15A",
           "#19d3f3",
           "#FF6692",
           "#B6E880",
           "#FF97FF",
           "#FECB52"
          ],
          "font": {
           "color": "#2a3f5f"
          },
          "geo": {
           "bgcolor": "white",
           "lakecolor": "white",
           "landcolor": "#E5ECF6",
           "showlakes": true,
           "showland": true,
           "subunitcolor": "white"
          },
          "hoverlabel": {
           "align": "left"
          },
          "hovermode": "closest",
          "mapbox": {
           "style": "light"
          },
          "paper_bgcolor": "white",
          "plot_bgcolor": "#E5ECF6",
          "polar": {
           "angularaxis": {
            "gridcolor": "white",
            "linecolor": "white",
            "ticks": ""
           },
           "bgcolor": "#E5ECF6",
           "radialaxis": {
            "gridcolor": "white",
            "linecolor": "white",
            "ticks": ""
           }
          },
          "scene": {
           "xaxis": {
            "backgroundcolor": "#E5ECF6",
            "gridcolor": "white",
            "gridwidth": 2,
            "linecolor": "white",
            "showbackground": true,
            "ticks": "",
            "zerolinecolor": "white"
           },
           "yaxis": {
            "backgroundcolor": "#E5ECF6",
            "gridcolor": "white",
            "gridwidth": 2,
            "linecolor": "white",
            "showbackground": true,
            "ticks": "",
            "zerolinecolor": "white"
           },
           "zaxis": {
            "backgroundcolor": "#E5ECF6",
            "gridcolor": "white",
            "gridwidth": 2,
            "linecolor": "white",
            "showbackground": true,
            "ticks": "",
            "zerolinecolor": "white"
           }
          },
          "shapedefaults": {
           "line": {
            "color": "#2a3f5f"
           }
          },
          "ternary": {
           "aaxis": {
            "gridcolor": "white",
            "linecolor": "white",
            "ticks": ""
           },
           "baxis": {
            "gridcolor": "white",
            "linecolor": "white",
            "ticks": ""
           },
           "bgcolor": "#E5ECF6",
           "caxis": {
            "gridcolor": "white",
            "linecolor": "white",
            "ticks": ""
           }
          },
          "title": {
           "x": 0.05
          },
          "xaxis": {
           "automargin": true,
           "gridcolor": "white",
           "linecolor": "white",
           "ticks": "",
           "title": {
            "standoff": 15
           },
           "zerolinecolor": "white",
           "zerolinewidth": 2
          },
          "yaxis": {
           "automargin": true,
           "gridcolor": "white",
           "linecolor": "white",
           "ticks": "",
           "title": {
            "standoff": 15
           },
           "zerolinecolor": "white",
           "zerolinewidth": 2
          }
         }
        },
        "title": {
         "text": "Machine Workload Visualization (Basic) for 2025-01-09"
        },
        "xaxis": {
         "anchor": "y",
         "domain": [
          0,
          1
         ],
         "type": "date"
        },
        "yaxis": {
         "anchor": "x",
         "categoryorder": "total ascending",
         "domain": [
          0,
          1
         ],
         "title": {
          "text": "Machine Index"
         }
        }
       }
      }
     },
     "metadata": {},
     "output_type": "display_data"
    },
    {
     "data": {
      "application/vnd.plotly.v1+json": {
       "config": {
        "plotlyServerURL": "https://plot.ly"
       },
       "data": [
        {
         "alignmentgroup": "True",
         "base": [
          "2025-01-16T04:00:00",
          "2025-01-16T04:08:00",
          "2025-01-16T04:38:00"
         ],
         "hovertemplate": "Menu Item=Croissant<br>Start=%{base}<br>Finish=%{x}<br>Machine Index=%{y}<extra></extra>",
         "legendgroup": "Croissant",
         "marker": {
          "color": "#EF553B",
          "line": {
           "width": 0
          },
          "pattern": {
           "shape": ""
          }
         },
         "name": "Croissant",
         "offsetgroup": "Croissant",
         "orientation": "h",
         "showlegend": true,
         "textposition": "auto",
         "type": "bar",
         "x": [
          480000,
          1800000,
          1500000
         ],
         "xaxis": "x",
         "y": [
          "Mixer 1",
          "Proofer 1",
          "Oven 1"
         ],
         "yaxis": "y"
        },
        {
         "alignmentgroup": "True",
         "base": [
          "2025-01-16T04:08:00",
          "2025-01-16T04:10:00",
          "2025-01-16T04:12:00",
          "2025-01-16T04:38:00",
          "2025-01-16T05:10:00",
          "2025-01-16T05:33:00",
          "2025-01-16T05:03:00",
          "2025-01-16T05:55:00",
          "2025-01-16T06:03:00",
          "2025-01-16T04:20:00",
          "2025-01-16T04:38:00",
          "2025-01-16T04:33:00",
          "2025-01-16T04:32:00",
          "2025-01-16T06:13:00",
          "2025-01-16T07:25:00",
          "2025-01-16T06:53:00",
          "2025-01-16T06:58:00",
          "2025-01-16T04:39:00",
          "2025-01-16T04:53:00",
          "2025-01-16T04:51:00",
          "2025-01-16T04:58:00",
          "2025-01-16T05:01:00",
          "2025-01-16T07:35:00",
          "2025-01-16T07:36:00",
          "2025-01-16T08:05:00",
          "2025-01-16T08:15:00",
          "2025-01-16T08:21:00",
          "2025-01-16T05:35:00",
          "2025-01-16T06:28:00",
          "2025-01-16T05:16:00",
          "2025-01-16T09:05:00"
         ],
         "hovertemplate": "Menu Item=Downtime<br>Start=%{base}<br>Finish=%{x}<br>Machine Index=%{y}<extra></extra>",
         "legendgroup": "Downtime",
         "marker": {
          "color": "grey",
          "line": {
           "width": 0
          },
          "pattern": {
           "shape": ""
          }
         },
         "name": "Downtime",
         "offsetgroup": "Downtime",
         "orientation": "h",
         "showlegend": true,
         "textposition": "auto",
         "type": "bar",
         "x": [
          900000,
          900000,
          900000,
          600000,
          600000,
          600000,
          1800000,
          1800000,
          1800000,
          900000,
          900000,
          900000,
          900000,
          1800000,
          1800000,
          1800000,
          1800000,
          900000,
          900000,
          900000,
          900000,
          900000,
          1800000,
          1800000,
          1800000,
          1800000,
          1800000,
          600000,
          600000,
          900000,
          1800000
         ],
         "xaxis": "x",
         "y": [
          "Mixer 1",
          "Mixer 2",
          "Mixer 3",
          "Proofer 1",
          "Proofer 2",
          "Proofer 1",
          "Oven 1",
          "Oven 2",
          "Oven 3",
          "Mixer 4",
          "Mixer 1",
          "Mixer 2",
          "Mixer 3",
          "Oven 1",
          "Oven 2",
          "Oven 3",
          "Oven 1",
          "Mixer 4",
          "Mixer 3",
          "Mixer 2",
          "Mixer 1",
          "Mixer 4",
          "Oven 3",
          "Oven 1",
          "Oven 2",
          "Oven 3",
          "Oven 1",
          "Proofer 2",
          "Proofer 1",
          "Mixer 2",
          "Oven 2"
         ],
         "yaxis": "y"
        },
        {
         "alignmentgroup": "True",
         "base": [
          "2025-01-16T04:00:00",
          "2025-01-16T04:10:00",
          "2025-01-16T05:10:00"
         ],
         "hovertemplate": "Menu Item=Bread<br>Start=%{base}<br>Finish=%{x}<br>Machine Index=%{y}<extra></extra>",
         "legendgroup": "Bread",
         "marker": {
          "color": "#00cc96",
          "line": {
           "width": 0
          },
          "pattern": {
           "shape": ""
          }
         },
         "name": "Bread",
         "offsetgroup": "Bread",
         "orientation": "h",
         "showlegend": true,
         "textposition": "auto",
         "type": "bar",
         "x": [
          600000,
          3600000,
          2700000
         ],
         "xaxis": "x",
         "y": [
          "Mixer 2",
          "Proofer 2",
          "Oven 2"
         ],
         "yaxis": "y"
        },
        {
         "alignmentgroup": "True",
         "base": [
          "2025-01-16T04:00:00",
          "2025-01-16T04:48:00",
          "2025-01-16T05:33:00"
         ],
         "hovertemplate": "Menu Item=Danish Pastry<br>Start=%{base}<br>Finish=%{x}<br>Machine Index=%{y}<extra></extra>",
         "legendgroup": "Danish Pastry",
         "marker": {
          "color": "#ab63fa",
          "line": {
           "width": 0
          },
          "pattern": {
           "shape": ""
          }
         },
         "name": "Danish Pastry",
         "offsetgroup": "Danish Pastry",
         "orientation": "h",
         "showlegend": true,
         "textposition": "auto",
         "type": "bar",
         "x": [
          720000,
          2700000,
          1800000
         ],
         "xaxis": "x",
         "y": [
          "Mixer 3",
          "Proofer 1",
          "Oven 3"
         ],
         "yaxis": "y"
        },
        {
         "alignmentgroup": "True",
         "base": [
          "2025-01-16T04:00:00",
          "2025-01-16T05:33:00"
         ],
         "hovertemplate": "Menu Item=Pie<br>Start=%{base}<br>Finish=%{x}<br>Machine Index=%{y}<extra></extra>",
         "legendgroup": "Pie",
         "marker": {
          "color": "#FFA15A",
          "line": {
           "width": 0
          },
          "pattern": {
           "shape": ""
          }
         },
         "name": "Pie",
         "offsetgroup": "Pie",
         "orientation": "h",
         "showlegend": true,
         "textposition": "auto",
         "type": "bar",
         "x": [
          1200000,
          2400000
         ],
         "xaxis": "x",
         "y": [
          "Mixer 4",
          "Oven 1"
         ],
         "yaxis": "y"
        },
        {
         "alignmentgroup": "True",
         "base": [
          "2025-01-16T04:23:00",
          "2025-01-16T06:25:00"
         ],
         "hovertemplate": "Menu Item=Cake<br>Start=%{base}<br>Finish=%{x}<br>Machine Index=%{y}<extra></extra>",
         "legendgroup": "Cake",
         "marker": {
          "color": "#19d3f3",
          "line": {
           "width": 0
          },
          "pattern": {
           "shape": ""
          }
         },
         "name": "Cake",
         "offsetgroup": "Cake",
         "orientation": "h",
         "showlegend": true,
         "textposition": "auto",
         "type": "bar",
         "x": [
          900000,
          3600000
         ],
         "xaxis": "x",
         "y": [
          "Mixer 1",
          "Oven 2"
         ],
         "yaxis": "y"
        },
        {
         "alignmentgroup": "True",
         "base": [
          "2025-01-16T04:25:00",
          "2025-01-16T06:33:00"
         ],
         "hovertemplate": "Menu Item=Brownies<br>Start=%{base}<br>Finish=%{x}<br>Machine Index=%{y}<extra></extra>",
         "legendgroup": "Brownies",
         "marker": {
          "color": "#FF6692",
          "line": {
           "width": 0
          },
          "pattern": {
           "shape": ""
          }
         },
         "name": "Brownies",
         "offsetgroup": "Brownies",
         "orientation": "h",
         "showlegend": true,
         "textposition": "auto",
         "type": "bar",
         "x": [
          480000,
          1200000
         ],
         "xaxis": "x",
         "y": [
          "Mixer 2",
          "Oven 3"
         ],
         "yaxis": "y"
        },
        {
         "alignmentgroup": "True",
         "base": [
          "2025-01-16T04:27:00",
          "2025-01-16T06:43:00"
         ],
         "hovertemplate": "Menu Item=Cookies<br>Start=%{base}<br>Finish=%{x}<br>Machine Index=%{y}<extra></extra>",
         "legendgroup": "Cookies",
         "marker": {
          "color": "#B6E880",
          "line": {
           "width": 0
          },
          "pattern": {
           "shape": ""
          }
         },
         "name": "Cookies",
         "offsetgroup": "Cookies",
         "orientation": "h",
         "showlegend": true,
         "textposition": "auto",
         "type": "bar",
         "x": [
          300000,
          900000
         ],
         "xaxis": "x",
         "y": [
          "Mixer 3",
          "Oven 1"
         ],
         "yaxis": "y"
        },
        {
         "alignmentgroup": "True",
         "base": [
          "2025-01-16T04:35:00",
          "2025-01-16T07:23:00"
         ],
         "hovertemplate": "Menu Item=Cupcakes<br>Start=%{base}<br>Finish=%{x}<br>Machine Index=%{y}<extra></extra>",
         "legendgroup": "Cupcakes",
         "marker": {
          "color": "#FF97FF",
          "line": {
           "width": 0
          },
          "pattern": {
           "shape": ""
          }
         },
         "name": "Cupcakes",
         "offsetgroup": "Cupcakes",
         "orientation": "h",
         "showlegend": true,
         "textposition": "auto",
         "type": "bar",
         "x": [
          240000,
          720000
         ],
         "xaxis": "x",
         "y": [
          "Mixer 4",
          "Oven 3"
         ],
         "yaxis": "y"
        },
        {
         "alignmentgroup": "True",
         "base": [
          "2025-01-16T04:47:00",
          "2025-01-16T07:28:00",
          "2025-01-16T05:20:00"
         ],
         "hovertemplate": "Menu Item=Donuts<br>Start=%{base}<br>Finish=%{x}<br>Machine Index=%{y}<extra></extra>",
         "legendgroup": "Donuts",
         "marker": {
          "color": "#FECB52",
          "line": {
           "width": 0
          },
          "pattern": {
           "shape": ""
          }
         },
         "name": "Donuts",
         "offsetgroup": "Donuts",
         "orientation": "h",
         "showlegend": true,
         "textposition": "auto",
         "type": "bar",
         "x": [
          360000,
          480000,
          900000
         ],
         "xaxis": "x",
         "y": [
          "Mixer 3",
          "Oven 1",
          "Proofer 2"
         ],
         "yaxis": "y"
        },
        {
         "alignmentgroup": "True",
         "base": [
          "2025-01-16T04:48:00",
          "2025-01-16T07:55:00"
         ],
         "hovertemplate": "Menu Item=Macarons<br>Start=%{base}<br>Finish=%{x}<br>Machine Index=%{y}<extra></extra>",
         "legendgroup": "Macarons",
         "marker": {
          "color": "#636efa",
          "line": {
           "width": 0
          },
          "pattern": {
           "shape": ""
          }
         },
         "name": "Macarons",
         "offsetgroup": "Macarons",
         "orientation": "h",
         "showlegend": true,
         "textposition": "auto",
         "type": "bar",
         "x": [
          180000,
          600000
         ],
         "xaxis": "x",
         "y": [
          "Mixer 2",
          "Oven 2"
         ],
         "yaxis": "y"
        },
        {
         "alignmentgroup": "True",
         "base": [
          "2025-01-16T04:53:00",
          "2025-01-16T08:05:00"
         ],
         "hovertemplate": "Menu Item=Muffins<br>Start=%{base}<br>Finish=%{x}<br>Machine Index=%{y}<extra></extra>",
         "legendgroup": "Muffins",
         "marker": {
          "color": "#EF553B",
          "line": {
           "width": 0
          },
          "pattern": {
           "shape": ""
          }
         },
         "name": "Muffins",
         "offsetgroup": "Muffins",
         "orientation": "h",
         "showlegend": true,
         "textposition": "auto",
         "type": "bar",
         "x": [
          300000,
          600000
         ],
         "xaxis": "x",
         "y": [
          "Mixer 1",
          "Oven 3"
         ],
         "yaxis": "y"
        },
        {
         "alignmentgroup": "True",
         "base": [
          "2025-01-16T04:54:00",
          "2025-01-16T08:06:00",
          "2025-01-16T05:43:00"
         ],
         "hovertemplate": "Menu Item=Bagels<br>Start=%{base}<br>Finish=%{x}<br>Machine Index=%{y}<extra></extra>",
         "legendgroup": "Bagels",
         "marker": {
          "color": "#00cc96",
          "line": {
           "width": 0
          },
          "pattern": {
           "shape": ""
          }
         },
         "name": "Bagels",
         "offsetgroup": "Bagels",
         "orientation": "h",
         "showlegend": true,
         "textposition": "auto",
         "type": "bar",
         "x": [
          420000,
          900000,
          2700000
         ],
         "xaxis": "x",
         "y": [
          "Mixer 4",
          "Oven 1",
          "Proofer 1"
         ],
         "yaxis": "y"
        },
        {
         "alignmentgroup": "True",
         "base": [
          "2025-01-16T05:06:00",
          "2025-01-16T08:35:00"
         ],
         "hovertemplate": "Menu Item=Quiche<br>Start=%{base}<br>Finish=%{x}<br>Machine Index=%{y}<extra></extra>",
         "legendgroup": "Quiche",
         "marker": {
          "color": "#ab63fa",
          "line": {
           "width": 0
          },
          "pattern": {
           "shape": ""
          }
         },
         "name": "Quiche",
         "offsetgroup": "Quiche",
         "orientation": "h",
         "showlegend": true,
         "textposition": "auto",
         "type": "bar",
         "x": [
          600000,
          1800000
         ],
         "xaxis": "x",
         "y": [
          "Mixer 2",
          "Oven 2"
         ],
         "yaxis": "y"
        }
       ],
       "layout": {
        "barmode": "overlay",
        "legend": {
         "title": {
          "text": "Menu Item"
         },
         "tracegroupgap": 0
        },
        "template": {
         "data": {
          "bar": [
           {
            "error_x": {
             "color": "#2a3f5f"
            },
            "error_y": {
             "color": "#2a3f5f"
            },
            "marker": {
             "line": {
              "color": "#E5ECF6",
              "width": 0.5
             },
             "pattern": {
              "fillmode": "overlay",
              "size": 10,
              "solidity": 0.2
             }
            },
            "type": "bar"
           }
          ],
          "barpolar": [
           {
            "marker": {
             "line": {
              "color": "#E5ECF6",
              "width": 0.5
             },
             "pattern": {
              "fillmode": "overlay",
              "size": 10,
              "solidity": 0.2
             }
            },
            "type": "barpolar"
           }
          ],
          "carpet": [
           {
            "aaxis": {
             "endlinecolor": "#2a3f5f",
             "gridcolor": "white",
             "linecolor": "white",
             "minorgridcolor": "white",
             "startlinecolor": "#2a3f5f"
            },
            "baxis": {
             "endlinecolor": "#2a3f5f",
             "gridcolor": "white",
             "linecolor": "white",
             "minorgridcolor": "white",
             "startlinecolor": "#2a3f5f"
            },
            "type": "carpet"
           }
          ],
          "choropleth": [
           {
            "colorbar": {
             "outlinewidth": 0,
             "ticks": ""
            },
            "type": "choropleth"
           }
          ],
          "contour": [
           {
            "colorbar": {
             "outlinewidth": 0,
             "ticks": ""
            },
            "colorscale": [
             [
              0,
              "#0d0887"
             ],
             [
              0.1111111111111111,
              "#46039f"
             ],
             [
              0.2222222222222222,
              "#7201a8"
             ],
             [
              0.3333333333333333,
              "#9c179e"
             ],
             [
              0.4444444444444444,
              "#bd3786"
             ],
             [
              0.5555555555555556,
              "#d8576b"
             ],
             [
              0.6666666666666666,
              "#ed7953"
             ],
             [
              0.7777777777777778,
              "#fb9f3a"
             ],
             [
              0.8888888888888888,
              "#fdca26"
             ],
             [
              1,
              "#f0f921"
             ]
            ],
            "type": "contour"
           }
          ],
          "contourcarpet": [
           {
            "colorbar": {
             "outlinewidth": 0,
             "ticks": ""
            },
            "type": "contourcarpet"
           }
          ],
          "heatmap": [
           {
            "colorbar": {
             "outlinewidth": 0,
             "ticks": ""
            },
            "colorscale": [
             [
              0,
              "#0d0887"
             ],
             [
              0.1111111111111111,
              "#46039f"
             ],
             [
              0.2222222222222222,
              "#7201a8"
             ],
             [
              0.3333333333333333,
              "#9c179e"
             ],
             [
              0.4444444444444444,
              "#bd3786"
             ],
             [
              0.5555555555555556,
              "#d8576b"
             ],
             [
              0.6666666666666666,
              "#ed7953"
             ],
             [
              0.7777777777777778,
              "#fb9f3a"
             ],
             [
              0.8888888888888888,
              "#fdca26"
             ],
             [
              1,
              "#f0f921"
             ]
            ],
            "type": "heatmap"
           }
          ],
          "heatmapgl": [
           {
            "colorbar": {
             "outlinewidth": 0,
             "ticks": ""
            },
            "colorscale": [
             [
              0,
              "#0d0887"
             ],
             [
              0.1111111111111111,
              "#46039f"
             ],
             [
              0.2222222222222222,
              "#7201a8"
             ],
             [
              0.3333333333333333,
              "#9c179e"
             ],
             [
              0.4444444444444444,
              "#bd3786"
             ],
             [
              0.5555555555555556,
              "#d8576b"
             ],
             [
              0.6666666666666666,
              "#ed7953"
             ],
             [
              0.7777777777777778,
              "#fb9f3a"
             ],
             [
              0.8888888888888888,
              "#fdca26"
             ],
             [
              1,
              "#f0f921"
             ]
            ],
            "type": "heatmapgl"
           }
          ],
          "histogram": [
           {
            "marker": {
             "pattern": {
              "fillmode": "overlay",
              "size": 10,
              "solidity": 0.2
             }
            },
            "type": "histogram"
           }
          ],
          "histogram2d": [
           {
            "colorbar": {
             "outlinewidth": 0,
             "ticks": ""
            },
            "colorscale": [
             [
              0,
              "#0d0887"
             ],
             [
              0.1111111111111111,
              "#46039f"
             ],
             [
              0.2222222222222222,
              "#7201a8"
             ],
             [
              0.3333333333333333,
              "#9c179e"
             ],
             [
              0.4444444444444444,
              "#bd3786"
             ],
             [
              0.5555555555555556,
              "#d8576b"
             ],
             [
              0.6666666666666666,
              "#ed7953"
             ],
             [
              0.7777777777777778,
              "#fb9f3a"
             ],
             [
              0.8888888888888888,
              "#fdca26"
             ],
             [
              1,
              "#f0f921"
             ]
            ],
            "type": "histogram2d"
           }
          ],
          "histogram2dcontour": [
           {
            "colorbar": {
             "outlinewidth": 0,
             "ticks": ""
            },
            "colorscale": [
             [
              0,
              "#0d0887"
             ],
             [
              0.1111111111111111,
              "#46039f"
             ],
             [
              0.2222222222222222,
              "#7201a8"
             ],
             [
              0.3333333333333333,
              "#9c179e"
             ],
             [
              0.4444444444444444,
              "#bd3786"
             ],
             [
              0.5555555555555556,
              "#d8576b"
             ],
             [
              0.6666666666666666,
              "#ed7953"
             ],
             [
              0.7777777777777778,
              "#fb9f3a"
             ],
             [
              0.8888888888888888,
              "#fdca26"
             ],
             [
              1,
              "#f0f921"
             ]
            ],
            "type": "histogram2dcontour"
           }
          ],
          "mesh3d": [
           {
            "colorbar": {
             "outlinewidth": 0,
             "ticks": ""
            },
            "type": "mesh3d"
           }
          ],
          "parcoords": [
           {
            "line": {
             "colorbar": {
              "outlinewidth": 0,
              "ticks": ""
             }
            },
            "type": "parcoords"
           }
          ],
          "pie": [
           {
            "automargin": true,
            "type": "pie"
           }
          ],
          "scatter": [
           {
            "fillpattern": {
             "fillmode": "overlay",
             "size": 10,
             "solidity": 0.2
            },
            "type": "scatter"
           }
          ],
          "scatter3d": [
           {
            "line": {
             "colorbar": {
              "outlinewidth": 0,
              "ticks": ""
             }
            },
            "marker": {
             "colorbar": {
              "outlinewidth": 0,
              "ticks": ""
             }
            },
            "type": "scatter3d"
           }
          ],
          "scattercarpet": [
           {
            "marker": {
             "colorbar": {
              "outlinewidth": 0,
              "ticks": ""
             }
            },
            "type": "scattercarpet"
           }
          ],
          "scattergeo": [
           {
            "marker": {
             "colorbar": {
              "outlinewidth": 0,
              "ticks": ""
             }
            },
            "type": "scattergeo"
           }
          ],
          "scattergl": [
           {
            "marker": {
             "colorbar": {
              "outlinewidth": 0,
              "ticks": ""
             }
            },
            "type": "scattergl"
           }
          ],
          "scattermapbox": [
           {
            "marker": {
             "colorbar": {
              "outlinewidth": 0,
              "ticks": ""
             }
            },
            "type": "scattermapbox"
           }
          ],
          "scatterpolar": [
           {
            "marker": {
             "colorbar": {
              "outlinewidth": 0,
              "ticks": ""
             }
            },
            "type": "scatterpolar"
           }
          ],
          "scatterpolargl": [
           {
            "marker": {
             "colorbar": {
              "outlinewidth": 0,
              "ticks": ""
             }
            },
            "type": "scatterpolargl"
           }
          ],
          "scatterternary": [
           {
            "marker": {
             "colorbar": {
              "outlinewidth": 0,
              "ticks": ""
             }
            },
            "type": "scatterternary"
           }
          ],
          "surface": [
           {
            "colorbar": {
             "outlinewidth": 0,
             "ticks": ""
            },
            "colorscale": [
             [
              0,
              "#0d0887"
             ],
             [
              0.1111111111111111,
              "#46039f"
             ],
             [
              0.2222222222222222,
              "#7201a8"
             ],
             [
              0.3333333333333333,
              "#9c179e"
             ],
             [
              0.4444444444444444,
              "#bd3786"
             ],
             [
              0.5555555555555556,
              "#d8576b"
             ],
             [
              0.6666666666666666,
              "#ed7953"
             ],
             [
              0.7777777777777778,
              "#fb9f3a"
             ],
             [
              0.8888888888888888,
              "#fdca26"
             ],
             [
              1,
              "#f0f921"
             ]
            ],
            "type": "surface"
           }
          ],
          "table": [
           {
            "cells": {
             "fill": {
              "color": "#EBF0F8"
             },
             "line": {
              "color": "white"
             }
            },
            "header": {
             "fill": {
              "color": "#C8D4E3"
             },
             "line": {
              "color": "white"
             }
            },
            "type": "table"
           }
          ]
         },
         "layout": {
          "annotationdefaults": {
           "arrowcolor": "#2a3f5f",
           "arrowhead": 0,
           "arrowwidth": 1
          },
          "autotypenumbers": "strict",
          "coloraxis": {
           "colorbar": {
            "outlinewidth": 0,
            "ticks": ""
           }
          },
          "colorscale": {
           "diverging": [
            [
             0,
             "#8e0152"
            ],
            [
             0.1,
             "#c51b7d"
            ],
            [
             0.2,
             "#de77ae"
            ],
            [
             0.3,
             "#f1b6da"
            ],
            [
             0.4,
             "#fde0ef"
            ],
            [
             0.5,
             "#f7f7f7"
            ],
            [
             0.6,
             "#e6f5d0"
            ],
            [
             0.7,
             "#b8e186"
            ],
            [
             0.8,
             "#7fbc41"
            ],
            [
             0.9,
             "#4d9221"
            ],
            [
             1,
             "#276419"
            ]
           ],
           "sequential": [
            [
             0,
             "#0d0887"
            ],
            [
             0.1111111111111111,
             "#46039f"
            ],
            [
             0.2222222222222222,
             "#7201a8"
            ],
            [
             0.3333333333333333,
             "#9c179e"
            ],
            [
             0.4444444444444444,
             "#bd3786"
            ],
            [
             0.5555555555555556,
             "#d8576b"
            ],
            [
             0.6666666666666666,
             "#ed7953"
            ],
            [
             0.7777777777777778,
             "#fb9f3a"
            ],
            [
             0.8888888888888888,
             "#fdca26"
            ],
            [
             1,
             "#f0f921"
            ]
           ],
           "sequentialminus": [
            [
             0,
             "#0d0887"
            ],
            [
             0.1111111111111111,
             "#46039f"
            ],
            [
             0.2222222222222222,
             "#7201a8"
            ],
            [
             0.3333333333333333,
             "#9c179e"
            ],
            [
             0.4444444444444444,
             "#bd3786"
            ],
            [
             0.5555555555555556,
             "#d8576b"
            ],
            [
             0.6666666666666666,
             "#ed7953"
            ],
            [
             0.7777777777777778,
             "#fb9f3a"
            ],
            [
             0.8888888888888888,
             "#fdca26"
            ],
            [
             1,
             "#f0f921"
            ]
           ]
          },
          "colorway": [
           "#636efa",
           "#EF553B",
           "#00cc96",
           "#ab63fa",
           "#FFA15A",
           "#19d3f3",
           "#FF6692",
           "#B6E880",
           "#FF97FF",
           "#FECB52"
          ],
          "font": {
           "color": "#2a3f5f"
          },
          "geo": {
           "bgcolor": "white",
           "lakecolor": "white",
           "landcolor": "#E5ECF6",
           "showlakes": true,
           "showland": true,
           "subunitcolor": "white"
          },
          "hoverlabel": {
           "align": "left"
          },
          "hovermode": "closest",
          "mapbox": {
           "style": "light"
          },
          "paper_bgcolor": "white",
          "plot_bgcolor": "#E5ECF6",
          "polar": {
           "angularaxis": {
            "gridcolor": "white",
            "linecolor": "white",
            "ticks": ""
           },
           "bgcolor": "#E5ECF6",
           "radialaxis": {
            "gridcolor": "white",
            "linecolor": "white",
            "ticks": ""
           }
          },
          "scene": {
           "xaxis": {
            "backgroundcolor": "#E5ECF6",
            "gridcolor": "white",
            "gridwidth": 2,
            "linecolor": "white",
            "showbackground": true,
            "ticks": "",
            "zerolinecolor": "white"
           },
           "yaxis": {
            "backgroundcolor": "#E5ECF6",
            "gridcolor": "white",
            "gridwidth": 2,
            "linecolor": "white",
            "showbackground": true,
            "ticks": "",
            "zerolinecolor": "white"
           },
           "zaxis": {
            "backgroundcolor": "#E5ECF6",
            "gridcolor": "white",
            "gridwidth": 2,
            "linecolor": "white",
            "showbackground": true,
            "ticks": "",
            "zerolinecolor": "white"
           }
          },
          "shapedefaults": {
           "line": {
            "color": "#2a3f5f"
           }
          },
          "ternary": {
           "aaxis": {
            "gridcolor": "white",
            "linecolor": "white",
            "ticks": ""
           },
           "baxis": {
            "gridcolor": "white",
            "linecolor": "white",
            "ticks": ""
           },
           "bgcolor": "#E5ECF6",
           "caxis": {
            "gridcolor": "white",
            "linecolor": "white",
            "ticks": ""
           }
          },
          "title": {
           "x": 0.05
          },
          "xaxis": {
           "automargin": true,
           "gridcolor": "white",
           "linecolor": "white",
           "ticks": "",
           "title": {
            "standoff": 15
           },
           "zerolinecolor": "white",
           "zerolinewidth": 2
          },
          "yaxis": {
           "automargin": true,
           "gridcolor": "white",
           "linecolor": "white",
           "ticks": "",
           "title": {
            "standoff": 15
           },
           "zerolinecolor": "white",
           "zerolinewidth": 2
          }
         }
        },
        "title": {
         "text": "Machine Workload Visualization (Basic) for 2025-01-16"
        },
        "xaxis": {
         "anchor": "y",
         "domain": [
          0,
          1
         ],
         "type": "date"
        },
        "yaxis": {
         "anchor": "x",
         "categoryorder": "total ascending",
         "domain": [
          0,
          1
         ],
         "title": {
          "text": "Machine Index"
         }
        }
       }
      }
     },
     "metadata": {},
     "output_type": "display_data"
    }
   ],
   "source": [
    "from datetime import datetime, timedelta\n",
    "import pandas as pd\n",
    "import random\n",
    "from collections import defaultdict\n",
    "import heapq\n",
    "import plotly.express as px\n",
    "import math\n",
    "\n",
    "# Define total available machinery\n",
    "total_machinery = {\n",
    "    \"Mixer\": 4,\n",
    "    \"Proofer\": 2,\n",
    "    \"Oven\": 3\n",
    "}\n",
    "\n",
    "# Define divisions and their menu items\n",
    "divisions = {\n",
    "    1: (\"Baking\", [\"Bread\", \"Croissant\", \"Danish Pastry\"]),\n",
    "    2: (\"Pastry\", [\"Cake\", \"Pie\", \"Cookies\", \"Brownies\"]),\n",
    "    3: (\"Confectionery\", [\"Macarons\", \"Cupcakes\", \"Muffins\", \"Donuts\", \"Bagels\"]),\n",
    "    4: (\"Butchery\", [\"Quiche\"])\n",
    "}\n",
    "\n",
    "# Define unit times for each machine and item (in minutes)\n",
    "unit_times = {\n",
    "    \"Mixer\": {\n",
    "        \"Bread\": 10,\n",
    "        \"Croissant\": 8,\n",
    "        \"Danish Pastry\": 12,\n",
    "        \"Cake\": 15,\n",
    "        \"Pie\": 20,\n",
    "        \"Cookies\": 5,\n",
    "        \"Brownies\": 8,\n",
    "        \"Macarons\": 3,\n",
    "        \"Cupcakes\": 4,\n",
    "        \"Muffins\": 5,\n",
    "        \"Donuts\": 6,\n",
    "        \"Bagels\": 7,\n",
    "        \"Quiche\": 10\n",
    "    },\n",
    "    \"Oven\": {\n",
    "        \"Bread\": 45,\n",
    "        \"Croissant\": 25,\n",
    "        \"Danish Pastry\": 30,\n",
    "        \"Cake\": 60,\n",
    "        \"Pie\": 40,\n",
    "        \"Cookies\": 15,\n",
    "        \"Brownies\": 20,\n",
    "        \"Macarons\": 10,\n",
    "        \"Cupcakes\": 12,\n",
    "        \"Muffins\": 10,\n",
    "        \"Donuts\": 8,\n",
    "        \"Bagels\": 15,\n",
    "        \"Quiche\": 30\n",
    "    },\n",
    "    \"Proofer\": {\n",
    "        \"Bread\": 60,\n",
    "        \"Croissant\": 30,\n",
    "        \"Danish Pastry\": 45,\n",
    "        \"Cake\": 0,\n",
    "        \"Pie\": 0,\n",
    "        \"Cookies\": 0,\n",
    "        \"Brownies\": 0,\n",
    "        \"Macarons\": 0,\n",
    "        \"Cupcakes\": 0,\n",
    "        \"Muffins\": 0,\n",
    "        \"Donuts\": 15,\n",
    "        \"Bagels\": 45,\n",
    "        \"Quiche\": 0\n",
    "    }\n",
    "}\n",
    "\n",
    "# Define machine downtime (in minutes)\n",
    "downtime = {\n",
    "    \"Mixer\": 15,\n",
    "    \"Oven\": 30,\n",
    "    \"Proofer\": 10,\n",
    "}\n",
    "\n",
    "def get_special_menu_input():\n",
    "    special_items = []\n",
    "    while True:\n",
    "        item_name = input(\"Enter special menu item (type 'done' to finish): \")\n",
    "        if item_name.lower() == \"done\":\n",
    "            break\n",
    "\n",
    "        print(\"Enter Division Responsible for this Menu item:\")\n",
    "        print(\"1. Baking\")\n",
    "        print(\"2. Pastry\")\n",
    "        print(\"3. Confectionery\")\n",
    "        print(\"4. Butchery\")\n",
    "\n",
    "        try:\n",
    "            division_choice = int(input(\"Choose a division (1-4): \"))\n",
    "            if division_choice not in divisions:\n",
    "                print(\"Invalid division. Please enter a valid division.\")\n",
    "                continue\n",
    "            division = divisions[division_choice][0]\n",
    "        except ValueError:\n",
    "            print(\"Invalid input. Please enter a number between 1 and 4.\")\n",
    "            continue\n",
    "\n",
    "        processing_times = {}\n",
    "        for machine in total_machinery.keys():\n",
    "            try:\n",
    "                processing_time = int(input(f\"Enter processing time for {machine} in minutes: \"))\n",
    "                if processing_time < 0:\n",
    "                    raise ValueError\n",
    "                processing_times[machine] = processing_time\n",
    "            except ValueError:\n",
    "                print(\"Invalid input. Please enter a valid positive number.\")\n",
    "                continue\n",
    "\n",
    "        special_items.append({\n",
    "            \"name\": item_name,\n",
    "            \"division\": division,\n",
    "            \"processing_times\": processing_times\n",
    "        })\n",
    "\n",
    "    return special_items\n",
    "\n",
    "def schedule_tasks(date, special_items_input):\n",
    "    \"\"\"Schedules tasks for a given date, considering shared machinery and dependencies.\"\"\"\n",
    "    schedule = defaultdict(lambda: defaultdict(list))\n",
    "    start_time = datetime.combine(date, datetime.min.time()) + timedelta(hours=4)\n",
    "\n",
    "    # Initialize machine availability times\n",
    "    machine_times = {machine: [start_time] * total_machinery[machine] for machine in total_machinery}\n",
    "    machine_order = [\"Mixer\", \"Proofer\", \"Oven\"]\n",
    "\n",
    "    # Schedule set menu items and special items\n",
    "    for division, division_items in divisions.values():\n",
    "        all_items = division_items + [f\"Special: {item['name']}\" for item in special_items_input if item['division'] == division]\n",
    "        random.shuffle(all_items)\n",
    "\n",
    "        for item in all_items:\n",
    "            item_name = item if not item.startswith(\"Special: \") else item[9:]\n",
    "            processing_time = {machine: unit_times[machine].get(item_name, 0) for machine in machine_order}\n",
    "\n",
    "            if \"Special: \" in item:\n",
    "                special_item = next((i for i in special_items_input if i[\"name\"] == item_name), None)\n",
    "                if special_item:\n",
    "                    processing_time.update(special_item[\"processing_times\"])\n",
    "\n",
    "            last_finish_time = start_time  # Start time for the first machine\n",
    "            for machine in machine_order:\n",
    "                processing_duration = processing_time[machine]\n",
    "                if processing_duration > 0:\n",
    "                    # Find the next available time for the current machine\n",
    "                    machine_available_time = min(machine_times[machine])\n",
    "                    machine_index = machine_times[machine].index(machine_available_time)\n",
    "\n",
    "                    # The task can start as soon as it's finished on the previous machine\n",
    "                    task_start_time = max(last_finish_time, machine_available_time)\n",
    "\n",
    "                    # Schedule the task\n",
    "                    schedule[division][machine].append((task_start_time, item, machine_index + 1))\n",
    "\n",
    "                    # Calculate finish time and update machine availability (accounting for downtime)\n",
    "                    finish_time = task_start_time + timedelta(minutes=processing_duration)\n",
    "                    machine_times[machine][machine_index] = finish_time + timedelta(minutes=downtime[machine])\n",
    "\n",
    "                    # Update last_finish_time for the next machine (without adding downtime)\n",
    "                    last_finish_time = finish_time\n",
    "\n",
    "    return schedule\n",
    "\n",
    "def create_gantt_chart(schedule, date):\n",
    "    \"\"\"\n",
    "    Creates a Gantt chart from the schedule_tasks output, including downtime in red.\n",
    "\n",
    "    Args:\n",
    "        schedule (dict): The output from schedule_tasks.\n",
    "        date (datetime): The date for which the schedule is generated.\n",
    "    \"\"\"\n",
    "    df = []\n",
    "\n",
    "    for division, machines in schedule.items():\n",
    "        for machine, tasks in machines.items():\n",
    "            for task_time, item, machine_number in tasks:\n",
    "                # Calculate the finish time based on unit_times\n",
    "                finish_time = task_time + timedelta(minutes=unit_times.get(machine, {}).get(item, 0))\n",
    "\n",
    "                # Append tasks to the DataFrame\n",
    "                df.append(dict(\n",
    "                    Machine=f\"{machine} {machine_number}\",\n",
    "                    Start=task_time,\n",
    "                    Finish=finish_time,\n",
    "                    Item=item,\n",
    "                    Type=\"Task\"  # Add a 'Type' column to distinguish between tasks and downtime\n",
    "                ))\n",
    "\n",
    "                # Add downtime after the task\n",
    "                df.append(dict(\n",
    "                    Machine=f\"{machine} {machine_number}\",\n",
    "                    Start=finish_time,\n",
    "                    Finish=finish_time + timedelta(minutes=downtime[machine]),\n",
    "                    Item=\"Downtime\",\n",
    "                    Type=\"Downtime\"  # Add a 'Type' column to distinguish between tasks and downtime\n",
    "                ))\n",
    "\n",
    "    # Convert to DataFrame\n",
    "    df = pd.DataFrame(df)  #Convert the list of dictionaries to a Pandas DataFrame\n",
    "\n",
    "    # Check if the DataFrame is empty\n",
    "    if df.empty:\n",
    "        # Create a DataFrame with the needed columns and a single empty row if empty.\n",
    "        df = pd.DataFrame(columns=[\"Machine\", \"Start\", \"Finish\", \"Item\", \"Type\"])\n",
    "        df.loc[0] = [None, None, None, None, None]\n",
    "\n",
    "    #The rest of your function as it was\n",
    "    # Ensure Start and Finish are datetime objects\n",
    "    df['Start'] = pd.to_datetime(df['Start'])\n",
    "    df['Finish'] = pd.to_datetime(df['Finish'])\n",
    "\n",
    "\n",
    "    # Create the Gantt chart using Plotly Express\n",
    "    # Define the colors for tasks and downtime\n",
    "    color_map = {\"Downtime\": \"grey\"}  # Set downtime color to black\n",
    "\n",
    "    fig = px.timeline(df, x_start=\"Start\", x_end=\"Finish\", y=\"Machine\", color=\"Item\",\n",
    "                      color_discrete_map=color_map,\n",
    "                      title=f\"Machine Workload Visualization (Basic) for {date.strftime('%Y-%m-%d')}\",\n",
    "                      labels={\"Item\": \"Menu Item\", \"Machine\": \"Machine Index\"})\n",
    "    # Update layout for better visibility\n",
    "    fig.update_yaxes(categoryorder=\"total ascending\")\n",
    "    fig.update_traces(marker=dict(line=dict(width=0)))\n",
    "\n",
    "    fig.show()\n",
    "\n",
    "\n",
    "def print_schedule(schedule, date):\n",
    "    \"\"\"Prints the schedule for a given date.\"\"\"\n",
    "    print(f\"\\nSchedule for {date.strftime('%Y-%m-%d')}:\")\n",
    "    for division, machines in schedule.items():\n",
    "        print(f\"  {division}:\")\n",
    "        for machine, tasks in machines.items():\n",
    "            print(f\"    {machine}:\")\n",
    "            for task_time, item, machine_number in tasks:\n",
    "                print(f\"      - {task_time.strftime('%H:%M')}: {item} (Machine {machine_number})\")\n",
    "\n",
    "# Example usage\n",
    "today = datetime.now()\n",
    "next_week = today + timedelta(days=7)\n",
    "\n",
    "special_items_input = []\n",
    "\n",
    "for date in [today, next_week]:\n",
    "    schedule = schedule_tasks(date, special_items_input)\n",
    "    # print(\"Generated Schedule:\", schedule)  # Debugging line\n",
    "    # print_schedule(schedule, date)\n",
    "    create_gantt_chart(schedule, date)"
   ]
  }
 ],
 "metadata": {
  "kernelspec": {
   "display_name": "Python 3",
   "language": "python",
   "name": "python3"
  },
  "language_info": {
   "codemirror_mode": {
    "name": "ipython",
    "version": 3
   },
   "file_extension": ".py",
   "mimetype": "text/x-python",
   "name": "python",
   "nbconvert_exporter": "python",
   "pygments_lexer": "ipython3",
   "version": "3.13.0"
  }
 },
 "nbformat": 4,
 "nbformat_minor": 2
}
